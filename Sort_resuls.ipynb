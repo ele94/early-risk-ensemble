{
 "cells": [
  {
   "cell_type": "code",
   "execution_count": 1,
   "metadata": {},
   "outputs": [],
   "source": [
    "import pandas as pd\n",
    "import os"
   ]
  },
  {
   "cell_type": "code",
   "execution_count": 4,
   "metadata": {},
   "outputs": [],
   "source": [
    "sort_csv_files()"
   ]
  },
  {
   "cell_type": "code",
   "execution_count": 3,
   "metadata": {},
   "outputs": [],
   "source": [
    "def sort_csv_files():\n",
    "    csv_names = []\n",
    "\n",
    "    for filename in os.listdir(\"resuls\"):\n",
    "        if \".csv\" in filename:\n",
    "            filepath = os.path.join(\"resuls\", filename)\n",
    "            csv_names.append(filepath)\n",
    "    \n",
    "    join_and_sort_csv(csv_names, \"sorted_resuls/sorted_resuls.csv\")\n",
    "\n",
    "def join_and_sort_csv(csv_names, sorted_csv_name):\n",
    "    joined_dfs = join_csv(csv_names)\n",
    "    sorted_df = joined_dfs.sort_values(by=[\"latency_weighted_f1\"], ascending=False)\n",
    "    sorted_df = sorted_df.head(50)\n",
    "    sorted_df.to_csv(sorted_csv_name, index=False)\n",
    "\n",
    "def join_csv(csv_names):\n",
    "    joined_dfs = []\n",
    "    for csv_name in csv_names:\n",
    "        df = pd.read_csv(csv_name)\n",
    "        joined_dfs.append(df)\n",
    "    \n",
    "    result = pd.concat(joined_dfs)\n",
    "    return result"
   ]
  },
  {
   "cell_type": "code",
   "execution_count": null,
   "metadata": {},
   "outputs": [],
   "source": []
  }
 ],
 "metadata": {
  "kernelspec": {
   "display_name": "Python 3",
   "language": "python",
   "name": "python3"
  },
  "language_info": {
   "codemirror_mode": {
    "name": "ipython",
    "version": 3
   },
   "file_extension": ".py",
   "mimetype": "text/x-python",
   "name": "python",
   "nbconvert_exporter": "python",
   "pygments_lexer": "ipython3",
   "version": "3.6.8"
  }
 },
 "nbformat": 4,
 "nbformat_minor": 4
}
