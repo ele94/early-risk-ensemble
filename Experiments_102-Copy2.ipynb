{
 "cells": [
  {
   "cell_type": "code",
   "execution_count": 1,
   "metadata": {},
   "outputs": [
    {
     "name": "stderr",
     "output_type": "stream",
     "text": [
      "/usr/local/lib/python3.6/site-packages/nltk/twitter/__init__.py:20: UserWarning: The twython library has not been installed. Some functionality from the twitter package will not be available.\n",
      "  warnings.warn(\"The twython library has not been installed. \"\n"
     ]
    }
   ],
   "source": [
    "from utils import *\n",
    "from preprocessing import preprocess\n",
    "from windowfy import windowfy\n",
    "from featurizing import featurize\n",
    "from training import train, do_ensemble, do_train\n",
    "from eval_erisk import evaluate\n",
    "from IPython.display import display, Markdown\n",
    "from itertools import product\n",
    "from numpy.random import seed\n",
    "import tensorflow"
   ]
  },
  {
   "cell_type": "code",
   "execution_count": 2,
   "metadata": {},
   "outputs": [
    {
     "name": "stdout",
     "output_type": "stream",
     "text": [
      "Initialized numpy random and tensorflow random seed at 42\n"
     ]
    }
   ],
   "source": [
    "seed(42)\n",
    "tensorflow.random.set_seed(42) \n",
    "logger(\"Initialized numpy random and tensorflow random seed at 42\")"
   ]
  },
  {
   "cell_type": "markdown",
   "metadata": {},
   "source": [
    "### With max_size = 10 and new data, sample_weights=10, oversample False, include_new_data=True"
   ]
  },
  {
   "cell_type": "code",
   "execution_count": 3,
   "metadata": {},
   "outputs": [
    {
     "name": "stdout",
     "output_type": "stream",
     "text": [
      "Windowfying training users\n",
      "[====================] 100%\n",
      "Windowfying test users\n",
      "[====================] 100%Data size: 5424\n",
      "\n",
      "Finished windowfying\n",
      "Featurizing calculate_feats=True, normalize=True, discretize=True, discretize_size=10, include_feats=['first_prons', 'sentiment', 'nssi']\n",
      "Initialized numpy random and tensorflow random seed at 42\n",
      "Data size: 5424, 5424\n",
      "Data size: 4650, 4650\n",
      "Calculating first prons\n",
      "Calculating sentiment\n",
      "Calculating NSSI words\n",
      "Calculating first prons\n",
      "Calculating sentiment\n",
      "Calculating NSSI words\n",
      "Normalizing features\n",
      "Discretizing\n"
     ]
    },
    {
     "name": "stderr",
     "output_type": "stream",
     "text": [
      "/home/ecampillo/.local/lib/python3.6/site-packages/sklearn/preprocessing/_discretization.py:188: UserWarning: Feature 5 is constant and will be replaced with 0.\n",
      "  \"replaced with 0.\" % jj)\n"
     ]
    }
   ],
   "source": [
    "train_users, y_train, test_users, y_test, train_samples, X_train, X_test = windowfy(window_size=10, max_size=20, sample_weights_size=20, is_oversample=False, include_new_data=True)\n",
    "\n",
    "feats_train, feats_test = featurize(calculate_feats=True, include_feats=[\"first_prons\",\"sentiment\",\"nssi\"], \n",
    "                       train_users=train_users, test_users=test_users, discretize=True, normalize=True)\n",
    "batch_size=32"
   ]
  },
  {
   "cell_type": "code",
   "execution_count": 4,
   "metadata": {},
   "outputs": [
    {
     "name": "stdout",
     "output_type": "stream",
     "text": [
      "Starting training with cnn_model=cnn_model and maxlen=1000 and batch size=32\n",
      "Generating embeddings\n",
      "Data size: 5424\n",
      "Training with callback\n",
      "Restoring model weights from the end of the best epoch.\n",
      "Epoch 00038: early stopping\n",
      "Evaluating\n",
      "146/146 [==============================] - 4s 18ms/step - loss: 0.4480 - tp: 127.0000 - fp: 13.0000 - tn: 3589.0000 - fn: 921.0000 - accuracy: 0.7991 - precision: 0.9071 - recall: 0.1212 - f1_metric: 0.1050\n",
      "Test Score: 0.44797998666763306\n",
      "Test Accuracy: 127.0\n",
      "146/146 [==============================] - 3s 17ms/step\n",
      "Entered here\n",
      "              precision    recall  f1-score   support\n",
      "\n",
      "           0       0.80      1.00      0.88      3602\n",
      "           1       0.91      0.12      0.21      1048\n",
      "\n",
      "    accuracy                           0.80      4650\n",
      "   macro avg       0.85      0.56      0.55      4650\n",
      "weighted avg       0.82      0.80      0.73      4650\n",
      "\n",
      "[[3589   13]\n",
      " [ 921  127]]\n",
      "Finished training and evaluation\n",
      "{'precision': 0.8421052631578947, 'recall': 0.3076923076923077, 'F1': 0.4507042253521127, 'ERDE_5': 0.24927217515939543, 'ERDE_50': 0.17370018275405605, 'median_latency_tps': 13.0, 'median_penalty_tps': 0.046765862163709926, 'speed': 0.9532341378362901, 'latency_weighted_f1': 0.42962665367269415}\n",
      "Starting training with cnn_model=cnn_model and maxlen=1000 and batch size=32\n",
      "Generating embeddings\n",
      "Data size: 5424\n",
      "Training with callback\n",
      "Restoring model weights from the end of the best epoch.\n",
      "Epoch 00042: early stopping\n",
      "Evaluating\n",
      "146/146 [==============================] - 6s 24ms/step - loss: 0.4715 - tp: 198.0000 - fp: 29.0000 - tn: 3573.0000 - fn: 850.0000 - accuracy: 0.8110 - precision: 0.8722 - recall: 0.1889 - f1_metric: 0.1513\n",
      "Test Score: 0.4714694619178772\n",
      "Test Accuracy: 198.0\n",
      "146/146 [==============================] - 3s 18ms/step\n",
      "Entered here\n",
      "              precision    recall  f1-score   support\n",
      "\n",
      "           0       0.81      0.99      0.89      3602\n",
      "           1       0.87      0.19      0.31      1048\n",
      "\n",
      "    accuracy                           0.81      4650\n",
      "   macro avg       0.84      0.59      0.60      4650\n",
      "weighted avg       0.82      0.81      0.76      4650\n",
      "\n",
      "[[3573   29]\n",
      " [ 850  198]]\n",
      "Finished training and evaluation\n",
      "{'precision': 0.8113207547169812, 'recall': 0.41346153846153844, 'F1': 0.5477707006369427, 'ERDE_5': 0.2515361217949921, 'ERDE_50': 0.15002039915273788, 'median_latency_tps': 12.0, 'median_penalty_tps': 0.042873701496841665, 'speed': 0.9571262985031583, 'latency_weighted_f1': 0.5242857431291186}\n",
      "Starting training with cnn_model=cnn_model and maxlen=1000 and batch size=32\n",
      "Generating embeddings\n",
      "Data size: 5424\n",
      "Training with callback\n",
      "Restoring model weights from the end of the best epoch.\n",
      "Epoch 00033: early stopping\n",
      "Evaluating\n",
      "146/146 [==============================] - 6s 26ms/step - loss: 0.4652 - tp: 244.0000 - fp: 98.0000 - tn: 3504.0000 - fn: 804.0000 - accuracy: 0.8060 - precision: 0.7135 - recall: 0.2328 - f1_metric: 0.1797\n",
      "Test Score: 0.4651736915111542\n",
      "Test Accuracy: 244.0\n",
      "146/146 [==============================] - 3s 22ms/step\n",
      "Entered here\n",
      "              precision    recall  f1-score   support\n",
      "\n",
      "           0       0.81      0.97      0.89      3602\n",
      "           1       0.71      0.23      0.35      1048\n",
      "\n",
      "    accuracy                           0.81      4650\n",
      "   macro avg       0.76      0.60      0.62      4650\n",
      "weighted avg       0.79      0.81      0.77      4650\n",
      "\n",
      "[[3504   98]\n",
      " [ 804  244]]\n",
      "Finished training and evaluation\n",
      "{'precision': 0.6172839506172839, 'recall': 0.4807692307692308, 'F1': 0.5405405405405406, 'ERDE_5': 0.26371774076432114, 'ERDE_50': 0.14567789458389033, 'median_latency_tps': 11.0, 'median_penalty_tps': 0.03898023902249159, 'speed': 0.9610197609775084, 'latency_weighted_f1': 0.5194701410689235}\n",
      "Starting training with cnn_model=cnn_model and maxlen=1000 and batch size=32\n",
      "Generating embeddings\n",
      "Data size: 5424\n",
      "Training with callback\n",
      "Restoring model weights from the end of the best epoch.\n",
      "Epoch 00042: early stopping\n",
      "Evaluating\n",
      "146/146 [==============================] - 5s 20ms/step - loss: 0.4400 - tp: 130.0000 - fp: 19.0000 - tn: 3583.0000 - fn: 918.0000 - accuracy: 0.7985 - precision: 0.8725 - recall: 0.1240 - f1_metric: 0.1061\n",
      "Test Score: 0.43999233841896057\n",
      "Test Accuracy: 130.0\n",
      "146/146 [==============================] - 3s 22ms/step\n",
      "Entered here\n",
      "              precision    recall  f1-score   support\n",
      "\n",
      "           0       0.80      0.99      0.88      3602\n",
      "           1       0.87      0.12      0.22      1048\n",
      "\n",
      "    accuracy                           0.80      4650\n",
      "   macro avg       0.83      0.56      0.55      4650\n",
      "weighted avg       0.81      0.80      0.73      4650\n",
      "\n",
      "[[3583   19]\n",
      " [ 918  130]]\n",
      "Finished training and evaluation\n",
      "{'precision': 0.75, 'recall': 0.3173076923076923, 'F1': 0.44594594594594594, 'ERDE_5': 0.2521521790491668, 'ERDE_50': 0.1742422972240398, 'median_latency_tps': 12.0, 'median_penalty_tps': 0.042873701496841665, 'speed': 0.9571262985031583, 'latency_weighted_f1': 0.42682659257573274}\n",
      "Starting training with cnn_model=cnn_model and maxlen=1000 and batch size=32\n",
      "Generating embeddings\n",
      "Data size: 5424\n",
      "Training with callback\n",
      "Restoring model weights from the end of the best epoch.\n",
      "Epoch 00042: early stopping\n",
      "Evaluating\n",
      "146/146 [==============================] - 5s 20ms/step - loss: 0.4571 - tp: 283.0000 - fp: 73.0000 - tn: 3529.0000 - fn: 765.0000 - accuracy: 0.8198 - precision: 0.7949 - recall: 0.2700 - f1_metric: 0.2037\n",
      "Test Score: 0.45713138580322266\n",
      "Test Accuracy: 283.0\n",
      "146/146 [==============================] - 3s 17ms/step\n",
      "Entered here\n",
      "              precision    recall  f1-score   support\n",
      "\n",
      "           0       0.82      0.98      0.89      3602\n",
      "           1       0.79      0.27      0.40      1048\n",
      "\n",
      "    accuracy                           0.82      4650\n",
      "   macro avg       0.81      0.62      0.65      4650\n",
      "weighted avg       0.82      0.82      0.78      4650\n",
      "\n",
      "[[3529   73]\n",
      " [ 765  283]]\n",
      "Finished training and evaluation\n",
      "{'precision': 0.6973684210526315, 'recall': 0.5096153846153846, 'F1': 0.5888888888888889, 'ERDE_5': 0.25904885061526667, 'ERDE_50': 0.13393580694018534, 'median_latency_tps': 11.0, 'median_penalty_tps': 0.03898023902249159, 'speed': 0.9610197609775084, 'latency_weighted_f1': 0.5659338592423105}\n"
     ]
    },
    {
     "data": {
      "text/plain": [
       "{'precision': 0.6973684210526315,\n",
       " 'recall': 0.5096153846153846,\n",
       " 'F1': 0.5888888888888889,\n",
       " 'ERDE_5': 0.25904885061526667,\n",
       " 'ERDE_50': 0.13393580694018534,\n",
       " 'median_latency_tps': 11.0,\n",
       " 'median_penalty_tps': 0.03898023902249159,\n",
       " 'speed': 0.9610197609775084,\n",
       " 'latency_weighted_f1': 0.5659338592423105}"
      ]
     },
     "execution_count": 4,
     "metadata": {},
     "output_type": "execute_result"
    }
   ],
   "source": [
    "y_pred = do_train(model_name=\"cnn_model\", maxlen=1000, epochs=100, batch_size=batch_size,\n",
    "         shuffle=True, patience=30, feats_train=feats_train, feats_test=feats_test, \n",
    "         X_train=X_train, X_test=X_test, y_train=y_train, y_test=y_test, train_sample_weights=train_samples)\n",
    "evaluate(1, 10, {\"test\":\"test\"}, y_pred=y_pred, test_users=test_users)\n",
    "y_pred = do_train(model_name=\"cnn_model\", maxlen=1000, epochs=100, batch_size=batch_size,\n",
    "         shuffle=True, patience=30, feats_train=feats_train, feats_test=feats_test, \n",
    "         X_train=X_train, X_test=X_test, y_train=y_train, y_test=y_test, train_sample_weights=train_samples)\n",
    "evaluate(1, 10, {\"test\":\"test\"}, y_pred=y_pred, test_users=test_users)\n",
    "y_pred = do_train(model_name=\"cnn_model\", maxlen=1000, epochs=100, batch_size=batch_size,\n",
    "         shuffle=True, patience=30, feats_train=feats_train, feats_test=feats_test, \n",
    "         X_train=X_train, X_test=X_test, y_train=y_train, y_test=y_test, train_sample_weights=train_samples)\n",
    "evaluate(1, 10, {\"test\":\"test\"}, y_pred=y_pred, test_users=test_users)\n",
    "y_pred = do_train(model_name=\"cnn_model\", maxlen=1000, epochs=100, batch_size=batch_size,\n",
    "         shuffle=True, patience=30, feats_train=feats_train, feats_test=feats_test, \n",
    "         X_train=X_train, X_test=X_test, y_train=y_train, y_test=y_test, train_sample_weights=train_samples)\n",
    "evaluate(1, 10, {\"test\":\"test\"}, y_pred=y_pred, test_users=test_users)\n",
    "y_pred = do_train(model_name=\"cnn_model\", maxlen=1000, epochs=100, batch_size=batch_size,\n",
    "         shuffle=True, patience=30, feats_train=feats_train, feats_test=feats_test, \n",
    "         X_train=X_train, X_test=X_test, y_train=y_train, y_test=y_test, train_sample_weights=train_samples)\n",
    "evaluate(1, 10, {\"test\":\"test\"}, y_pred=y_pred, test_users=test_users)"
   ]
  },
  {
   "cell_type": "code",
   "execution_count": 5,
   "metadata": {},
   "outputs": [
    {
     "name": "stdout",
     "output_type": "stream",
     "text": [
      "Starting training with cnn_model=lstm_model_32 and maxlen=1000 and batch size=32\n",
      "Generating embeddings\n",
      "Data size: 5424\n",
      "Training with callback\n",
      "Restoring model weights from the end of the best epoch.\n",
      "Epoch 00031: early stopping\n",
      "Evaluating\n",
      "146/146 [==============================] - 37s 237ms/step - loss: 0.4362 - tp: 490.0000 - fp: 343.0000 - tn: 3259.0000 - fn: 558.0000 - accuracy: 0.8062 - precision: 0.5882 - recall: 0.4676 - f1_metric: 0.3014\n",
      "Test Score: 0.43617141246795654\n",
      "Test Accuracy: 490.0\n",
      "146/146 [==============================] - 33s 216ms/step\n",
      "Entered here\n",
      "              precision    recall  f1-score   support\n",
      "\n",
      "           0       0.85      0.90      0.88      3602\n",
      "           1       0.59      0.47      0.52      1048\n",
      "\n",
      "    accuracy                           0.81      4650\n",
      "   macro avg       0.72      0.69      0.70      4650\n",
      "weighted avg       0.79      0.81      0.80      4650\n",
      "\n",
      "[[3259  343]\n",
      " [ 558  490]]\n",
      "Finished training and evaluation\n",
      "{'precision': 0.5, 'recall': 0.7403846153846154, 'F1': 0.5968992248062016, 'ERDE_5': 0.2902835649624929, 'ERDE_50': 0.1085849694571623, 'median_latency_tps': 11.0, 'median_penalty_tps': 0.03898023902249159, 'speed': 0.9610197609775084, 'latency_weighted_f1': 0.573631950350916}\n",
      "Starting training with cnn_model=lstm_model_32 and maxlen=1000 and batch size=32\n",
      "Generating embeddings\n",
      "Data size: 5424\n",
      "Training with callback\n",
      "Restoring model weights from the end of the best epoch.\n",
      "Epoch 00036: early stopping\n",
      "Evaluating\n",
      "146/146 [==============================] - 22s 138ms/step - loss: 0.4457 - tp: 541.0000 - fp: 450.0000 - tn: 3152.0000 - fn: 507.0000 - accuracy: 0.7942 - precision: 0.5459 - recall: 0.5162 - f1_metric: 0.3239\n",
      "Test Score: 0.4456526041030884\n",
      "Test Accuracy: 541.0\n",
      "146/146 [==============================] - 21s 140ms/step\n",
      "Entered here\n",
      "              precision    recall  f1-score   support\n",
      "\n",
      "           0       0.86      0.88      0.87      3602\n",
      "           1       0.55      0.52      0.53      1048\n",
      "\n",
      "    accuracy                           0.79      4650\n",
      "   macro avg       0.70      0.70      0.70      4650\n",
      "weighted avg       0.79      0.79      0.79      4650\n",
      "\n",
      "[[3152  450]\n",
      " [ 507  541]]\n",
      "Finished training and evaluation\n",
      "{'precision': 0.4785276073619632, 'recall': 0.75, 'F1': 0.5842696629213484, 'ERDE_5': 0.2948986732869517, 'ERDE_50': 0.11087079232545104, 'median_latency_tps': 11.0, 'median_penalty_tps': 0.03898023902249159, 'speed': 0.9610197609775084, 'latency_weighted_f1': 0.5614946918070837}\n",
      "Starting training with cnn_model=lstm_model_32 and maxlen=1000 and batch size=32\n",
      "Generating embeddings\n",
      "Data size: 5424\n",
      "Training with callback\n",
      "Restoring model weights from the end of the best epoch.\n",
      "Epoch 00014: early stopping\n",
      "Evaluating\n",
      "146/146 [==============================] - 22s 140ms/step - loss: 0.7773 - tp: 945.0000 - fp: 3127.0000 - tn: 475.0000 - fn: 103.0000 - accuracy: 0.3054 - precision: 0.2321 - recall: 0.9017 - f1_metric: 0.3107\n",
      "Test Score: 0.7773152589797974\n",
      "Test Accuracy: 945.0\n",
      "146/146 [==============================] - 21s 138ms/step\n",
      "Entered here\n",
      "              precision    recall  f1-score   support\n",
      "\n",
      "           0       0.82      0.13      0.23      3602\n",
      "           1       0.23      0.90      0.37      1048\n",
      "\n",
      "    accuracy                           0.31      4650\n",
      "   macro avg       0.53      0.52      0.30      4650\n",
      "weighted avg       0.69      0.31      0.26      4650\n",
      "\n",
      "[[ 475 3127]\n",
      " [ 103  945]]\n",
      "Finished training and evaluation\n",
      "{'precision': 0.24759615384615385, 'recall': 0.9903846153846154, 'F1': 0.3961538461538462, 'ERDE_5': 0.4272259410957935, 'ERDE_50': 0.1842909757501581, 'median_latency_tps': 11.0, 'median_penalty_tps': 0.03898023902249159, 'speed': 0.9610197609775084, 'latency_weighted_f1': 0.3807116745410899}\n"
     ]
    },
    {
     "data": {
      "text/plain": [
       "{'precision': 0.24759615384615385,\n",
       " 'recall': 0.9903846153846154,\n",
       " 'F1': 0.3961538461538462,\n",
       " 'ERDE_5': 0.4272259410957935,\n",
       " 'ERDE_50': 0.1842909757501581,\n",
       " 'median_latency_tps': 11.0,\n",
       " 'median_penalty_tps': 0.03898023902249159,\n",
       " 'speed': 0.9610197609775084,\n",
       " 'latency_weighted_f1': 0.3807116745410899}"
      ]
     },
     "execution_count": 5,
     "metadata": {},
     "output_type": "execute_result"
    }
   ],
   "source": [
    "y_pred = do_train(model_name=\"lstm_model_32\", maxlen=1000, epochs=100, batch_size=batch_size,\n",
    "         shuffle=True, patience=10, feats_train=feats_train, feats_test=feats_test, \n",
    "         X_train=X_train, X_test=X_test, y_train=y_train, y_test=y_test, train_sample_weights=train_samples)\n",
    "evaluate(1, 10, {\"test\":\"test\"}, y_pred=y_pred, test_users=test_users)\n",
    "y_pred = do_train(model_name=\"lstm_model_32\", maxlen=1000, epochs=100, batch_size=batch_size,\n",
    "         shuffle=True, patience=10, feats_train=feats_train, feats_test=feats_test, \n",
    "         X_train=X_train, X_test=X_test, y_train=y_train, y_test=y_test, train_sample_weights=train_samples)\n",
    "evaluate(1, 10, {\"test\":\"test\"}, y_pred=y_pred, test_users=test_users)\n",
    "y_pred = do_train(model_name=\"lstm_model_32\", maxlen=1000, epochs=100, batch_size=batch_size,\n",
    "         shuffle=True, patience=10, feats_train=feats_train, feats_test=feats_test, \n",
    "         X_train=X_train, X_test=X_test, y_train=y_train, y_test=y_test, train_sample_weights=train_samples)\n",
    "evaluate(1, 10, {\"test\":\"test\"}, y_pred=y_pred, test_users=test_users)"
   ]
  },
  {
   "cell_type": "code",
   "execution_count": 6,
   "metadata": {},
   "outputs": [
    {
     "ename": "ValueError",
     "evalue": "Cannot assign to variable dense_2/kernel:0 due to variable shape (135, 32) and value shape (72, 32) are incompatible",
     "output_type": "error",
     "traceback": [
      "\u001b[0;31m---------------------------------------------------------------------------\u001b[0m",
      "\u001b[0;31mValueError\u001b[0m                                Traceback (most recent call last)",
      "\u001b[0;32m<ipython-input-6-c593ad39de92>\u001b[0m in \u001b[0;36m<module>\u001b[0;34m\u001b[0m\n\u001b[1;32m      1\u001b[0m y_pred = do_train(model_name=\"ensemble_model\", maxlen=1000, epochs=100, batch_size=batch_size,\n\u001b[1;32m      2\u001b[0m          \u001b[0mshuffle\u001b[0m\u001b[0;34m=\u001b[0m\u001b[0;32mTrue\u001b[0m\u001b[0;34m,\u001b[0m \u001b[0mpatience\u001b[0m\u001b[0;34m=\u001b[0m\u001b[0;36m10\u001b[0m\u001b[0;34m,\u001b[0m \u001b[0mmodel_names\u001b[0m\u001b[0;34m=\u001b[0m\u001b[0;34m[\u001b[0m\u001b[0;34m\"cnn_model\"\u001b[0m\u001b[0;34m,\u001b[0m \u001b[0;34m\"lstm_model_32\"\u001b[0m\u001b[0;34m]\u001b[0m\u001b[0;34m,\u001b[0m \u001b[0mfeats_train\u001b[0m\u001b[0;34m=\u001b[0m\u001b[0mfeats_train\u001b[0m\u001b[0;34m,\u001b[0m \u001b[0mfeats_test\u001b[0m\u001b[0;34m=\u001b[0m\u001b[0mfeats_test\u001b[0m\u001b[0;34m,\u001b[0m\u001b[0;34m\u001b[0m\u001b[0;34m\u001b[0m\u001b[0m\n\u001b[0;32m----> 3\u001b[0;31m          X_train=X_train, X_test=X_test, y_train=y_train, y_test=y_test)\n\u001b[0m\u001b[1;32m      4\u001b[0m \u001b[0mevaluate\u001b[0m\u001b[0;34m(\u001b[0m\u001b[0;36m1\u001b[0m\u001b[0;34m,\u001b[0m \u001b[0;36m10\u001b[0m\u001b[0;34m,\u001b[0m \u001b[0;34m{\u001b[0m\u001b[0;34m\"test\"\u001b[0m\u001b[0;34m:\u001b[0m\u001b[0;34m\"test\"\u001b[0m\u001b[0;34m}\u001b[0m\u001b[0;34m,\u001b[0m \u001b[0my_pred\u001b[0m\u001b[0;34m=\u001b[0m\u001b[0my_pred\u001b[0m\u001b[0;34m,\u001b[0m \u001b[0mtest_users\u001b[0m\u001b[0;34m=\u001b[0m\u001b[0mtest_users\u001b[0m\u001b[0;34m)\u001b[0m\u001b[0;34m\u001b[0m\u001b[0;34m\u001b[0m\u001b[0m\n",
      "\u001b[0;32m/datos/ecampillo/jupyter/dl-notebooks/newensemble/early-risk-ensemble/training.py\u001b[0m in \u001b[0;36mdo_train\u001b[0;34m(model_name, maxlen, epochs, early_epochs, batch_size, shuffle, patience, model_names, early_stopping, validation_split, feats_train, feats_test, X_train, X_test, y_train, y_test, train_sample_weights, save)\u001b[0m\n\u001b[1;32m     40\u001b[0m     \u001b[0;32mif\u001b[0m \u001b[0mmodel_name\u001b[0m \u001b[0;32mis\u001b[0m \u001b[0;34m\"ensemble_model\"\u001b[0m\u001b[0;34m:\u001b[0m\u001b[0;34m\u001b[0m\u001b[0;34m\u001b[0m\u001b[0m\n\u001b[1;32m     41\u001b[0m         y_pred = do_ensemble(maxlen, batch_size, shuffle, model_names, feats_train, feats_test, X_train, X_test,\n\u001b[0;32m---> 42\u001b[0;31m                              y_train, y_test, save)\n\u001b[0m\u001b[1;32m     43\u001b[0m     \u001b[0;32melse\u001b[0m\u001b[0;34m:\u001b[0m\u001b[0;34m\u001b[0m\u001b[0;34m\u001b[0m\u001b[0m\n\u001b[1;32m     44\u001b[0m         y_pred = train(model_name, maxlen, epochs, early_epochs, batch_size, shuffle, patience, early_stopping, \n",
      "\u001b[0;32m/datos/ecampillo/jupyter/dl-notebooks/newensemble/early-risk-ensemble/training.py\u001b[0m in \u001b[0;36mdo_ensemble\u001b[0;34m(maxlen, batch_size, shuffle, model_names, feats_train, feats_test, X_train, X_test, y_train, y_test, save)\u001b[0m\n\u001b[1;32m     89\u001b[0m     \u001b[0;31m# reload trained weights\u001b[0m\u001b[0;34m\u001b[0m\u001b[0;34m\u001b[0m\u001b[0;34m\u001b[0m\u001b[0m\n\u001b[1;32m     90\u001b[0m     \u001b[0;32mfor\u001b[0m \u001b[0mi\u001b[0m \u001b[0;32min\u001b[0m \u001b[0mrange\u001b[0m\u001b[0;34m(\u001b[0m\u001b[0;36m0\u001b[0m\u001b[0;34m,\u001b[0m \u001b[0mlen\u001b[0m\u001b[0;34m(\u001b[0m\u001b[0mmodels\u001b[0m\u001b[0;34m)\u001b[0m\u001b[0;34m)\u001b[0m\u001b[0;34m:\u001b[0m\u001b[0;34m\u001b[0m\u001b[0;34m\u001b[0m\u001b[0m\n\u001b[0;32m---> 91\u001b[0;31m         \u001b[0mmodels\u001b[0m\u001b[0;34m[\u001b[0m\u001b[0mi\u001b[0m\u001b[0;34m]\u001b[0m\u001b[0;34m.\u001b[0m\u001b[0mload_weights\u001b[0m\u001b[0;34m(\u001b[0m\u001b[0;34m\"models/{}{}{}{}.hdf5\"\u001b[0m\u001b[0;34m.\u001b[0m\u001b[0mformat\u001b[0m\u001b[0;34m(\u001b[0m\u001b[0mmodels\u001b[0m\u001b[0;34m[\u001b[0m\u001b[0mi\u001b[0m\u001b[0;34m]\u001b[0m\u001b[0;34m.\u001b[0m\u001b[0mname\u001b[0m\u001b[0;34m,\u001b[0m \u001b[0mmaxlen\u001b[0m\u001b[0;34m,\u001b[0m \u001b[0mbatch_size\u001b[0m\u001b[0;34m,\u001b[0m \u001b[0mshuffle\u001b[0m\u001b[0;34m)\u001b[0m\u001b[0;34m)\u001b[0m\u001b[0;34m\u001b[0m\u001b[0;34m\u001b[0m\u001b[0m\n\u001b[0m\u001b[1;32m     92\u001b[0m \u001b[0;34m\u001b[0m\u001b[0m\n\u001b[1;32m     93\u001b[0m     \u001b[0;31m# reload trained weights\u001b[0m\u001b[0;34m\u001b[0m\u001b[0;34m\u001b[0m\u001b[0;34m\u001b[0m\u001b[0m\n",
      "\u001b[0;32m/usr/local/lib64/python3.6/site-packages/tensorflow/python/keras/engine/training.py\u001b[0m in \u001b[0;36mload_weights\u001b[0;34m(self, filepath, by_name, skip_mismatch, options)\u001b[0m\n\u001b[1;32m   2324\u001b[0m             f, self.layers, skip_mismatch=skip_mismatch)\n\u001b[1;32m   2325\u001b[0m       \u001b[0;32melse\u001b[0m\u001b[0;34m:\u001b[0m\u001b[0;34m\u001b[0m\u001b[0;34m\u001b[0m\u001b[0m\n\u001b[0;32m-> 2326\u001b[0;31m         \u001b[0mhdf5_format\u001b[0m\u001b[0;34m.\u001b[0m\u001b[0mload_weights_from_hdf5_group\u001b[0m\u001b[0;34m(\u001b[0m\u001b[0mf\u001b[0m\u001b[0;34m,\u001b[0m \u001b[0mself\u001b[0m\u001b[0;34m.\u001b[0m\u001b[0mlayers\u001b[0m\u001b[0;34m)\u001b[0m\u001b[0;34m\u001b[0m\u001b[0;34m\u001b[0m\u001b[0m\n\u001b[0m\u001b[1;32m   2327\u001b[0m \u001b[0;34m\u001b[0m\u001b[0m\n\u001b[1;32m   2328\u001b[0m   \u001b[0;32mdef\u001b[0m \u001b[0m_updated_config\u001b[0m\u001b[0;34m(\u001b[0m\u001b[0mself\u001b[0m\u001b[0;34m)\u001b[0m\u001b[0;34m:\u001b[0m\u001b[0;34m\u001b[0m\u001b[0;34m\u001b[0m\u001b[0m\n",
      "\u001b[0;32m/usr/local/lib64/python3.6/site-packages/tensorflow/python/keras/saving/hdf5_format.py\u001b[0m in \u001b[0;36mload_weights_from_hdf5_group\u001b[0;34m(f, layers)\u001b[0m\n\u001b[1;32m    711\u001b[0m                        str(len(weight_values)) + ' elements.')\n\u001b[1;32m    712\u001b[0m     \u001b[0mweight_value_tuples\u001b[0m \u001b[0;34m+=\u001b[0m \u001b[0mzip\u001b[0m\u001b[0;34m(\u001b[0m\u001b[0msymbolic_weights\u001b[0m\u001b[0;34m,\u001b[0m \u001b[0mweight_values\u001b[0m\u001b[0;34m)\u001b[0m\u001b[0;34m\u001b[0m\u001b[0;34m\u001b[0m\u001b[0m\n\u001b[0;32m--> 713\u001b[0;31m   \u001b[0mbackend\u001b[0m\u001b[0;34m.\u001b[0m\u001b[0mbatch_set_value\u001b[0m\u001b[0;34m(\u001b[0m\u001b[0mweight_value_tuples\u001b[0m\u001b[0;34m)\u001b[0m\u001b[0;34m\u001b[0m\u001b[0;34m\u001b[0m\u001b[0m\n\u001b[0m\u001b[1;32m    714\u001b[0m \u001b[0;34m\u001b[0m\u001b[0m\n\u001b[1;32m    715\u001b[0m \u001b[0;34m\u001b[0m\u001b[0m\n",
      "\u001b[0;32m/usr/local/lib64/python3.6/site-packages/tensorflow/python/util/dispatch.py\u001b[0m in \u001b[0;36mwrapper\u001b[0;34m(*args, **kwargs)\u001b[0m\n\u001b[1;32m    204\u001b[0m     \u001b[0;34m\"\"\"Call target, and fall back on dispatchers if there is a TypeError.\"\"\"\u001b[0m\u001b[0;34m\u001b[0m\u001b[0;34m\u001b[0m\u001b[0m\n\u001b[1;32m    205\u001b[0m     \u001b[0;32mtry\u001b[0m\u001b[0;34m:\u001b[0m\u001b[0;34m\u001b[0m\u001b[0;34m\u001b[0m\u001b[0m\n\u001b[0;32m--> 206\u001b[0;31m       \u001b[0;32mreturn\u001b[0m \u001b[0mtarget\u001b[0m\u001b[0;34m(\u001b[0m\u001b[0;34m*\u001b[0m\u001b[0margs\u001b[0m\u001b[0;34m,\u001b[0m \u001b[0;34m**\u001b[0m\u001b[0mkwargs\u001b[0m\u001b[0;34m)\u001b[0m\u001b[0;34m\u001b[0m\u001b[0;34m\u001b[0m\u001b[0m\n\u001b[0m\u001b[1;32m    207\u001b[0m     \u001b[0;32mexcept\u001b[0m \u001b[0;34m(\u001b[0m\u001b[0mTypeError\u001b[0m\u001b[0;34m,\u001b[0m \u001b[0mValueError\u001b[0m\u001b[0;34m)\u001b[0m\u001b[0;34m:\u001b[0m\u001b[0;34m\u001b[0m\u001b[0;34m\u001b[0m\u001b[0m\n\u001b[1;32m    208\u001b[0m       \u001b[0;31m# Note: convert_to_eager_tensor currently raises a ValueError, not a\u001b[0m\u001b[0;34m\u001b[0m\u001b[0;34m\u001b[0m\u001b[0;34m\u001b[0m\u001b[0m\n",
      "\u001b[0;32m/usr/local/lib64/python3.6/site-packages/tensorflow/python/keras/backend.py\u001b[0m in \u001b[0;36mbatch_set_value\u001b[0;34m(tuples)\u001b[0m\n\u001b[1;32m   3802\u001b[0m   \u001b[0;32mif\u001b[0m \u001b[0mops\u001b[0m\u001b[0;34m.\u001b[0m\u001b[0mexecuting_eagerly_outside_functions\u001b[0m\u001b[0;34m(\u001b[0m\u001b[0;34m)\u001b[0m\u001b[0;34m:\u001b[0m\u001b[0;34m\u001b[0m\u001b[0;34m\u001b[0m\u001b[0m\n\u001b[1;32m   3803\u001b[0m     \u001b[0;32mfor\u001b[0m \u001b[0mx\u001b[0m\u001b[0;34m,\u001b[0m \u001b[0mvalue\u001b[0m \u001b[0;32min\u001b[0m \u001b[0mtuples\u001b[0m\u001b[0;34m:\u001b[0m\u001b[0;34m\u001b[0m\u001b[0;34m\u001b[0m\u001b[0m\n\u001b[0;32m-> 3804\u001b[0;31m       \u001b[0mx\u001b[0m\u001b[0;34m.\u001b[0m\u001b[0massign\u001b[0m\u001b[0;34m(\u001b[0m\u001b[0mnp\u001b[0m\u001b[0;34m.\u001b[0m\u001b[0masarray\u001b[0m\u001b[0;34m(\u001b[0m\u001b[0mvalue\u001b[0m\u001b[0;34m,\u001b[0m \u001b[0mdtype\u001b[0m\u001b[0;34m=\u001b[0m\u001b[0mdtype_numpy\u001b[0m\u001b[0;34m(\u001b[0m\u001b[0mx\u001b[0m\u001b[0;34m)\u001b[0m\u001b[0;34m)\u001b[0m\u001b[0;34m)\u001b[0m\u001b[0;34m\u001b[0m\u001b[0;34m\u001b[0m\u001b[0m\n\u001b[0m\u001b[1;32m   3805\u001b[0m   \u001b[0;32melse\u001b[0m\u001b[0;34m:\u001b[0m\u001b[0;34m\u001b[0m\u001b[0;34m\u001b[0m\u001b[0m\n\u001b[1;32m   3806\u001b[0m     \u001b[0;32mwith\u001b[0m \u001b[0mget_graph\u001b[0m\u001b[0;34m(\u001b[0m\u001b[0;34m)\u001b[0m\u001b[0;34m.\u001b[0m\u001b[0mas_default\u001b[0m\u001b[0;34m(\u001b[0m\u001b[0;34m)\u001b[0m\u001b[0;34m:\u001b[0m\u001b[0;34m\u001b[0m\u001b[0;34m\u001b[0m\u001b[0m\n",
      "\u001b[0;32m/usr/local/lib64/python3.6/site-packages/tensorflow/python/ops/resource_variable_ops.py\u001b[0m in \u001b[0;36massign\u001b[0;34m(self, value, use_locking, name, read_value)\u001b[0m\n\u001b[1;32m    899\u001b[0m             (\"Cannot assign to variable%s due to variable shape %s and value \"\n\u001b[1;32m    900\u001b[0m              \"shape %s are incompatible\") %\n\u001b[0;32m--> 901\u001b[0;31m             (tensor_name, self._shape, value_tensor.shape))\n\u001b[0m\u001b[1;32m    902\u001b[0m       assign_op = gen_resource_variable_ops.assign_variable_op(\n\u001b[1;32m    903\u001b[0m           self.handle, value_tensor, name=name)\n",
      "\u001b[0;31mValueError\u001b[0m: Cannot assign to variable dense_2/kernel:0 due to variable shape (135, 32) and value shape (72, 32) are incompatible"
     ]
    }
   ],
   "source": [
    "y_pred = do_train(model_name=\"ensemble_model\", maxlen=1000, epochs=100, batch_size=batch_size,\n",
    "         shuffle=True, patience=10, model_names=[\"cnn_model\", \"lstm_model_32\"], feats_train=feats_train, feats_test=feats_test, \n",
    "         X_train=X_train, X_test=X_test, y_train=y_train, y_test=y_test)\n",
    "evaluate(1, 10, {\"test\":\"test\"}, y_pred=y_pred, test_users=test_users)"
   ]
  },
  {
   "cell_type": "code",
   "execution_count": null,
   "metadata": {},
   "outputs": [],
   "source": []
  },
  {
   "cell_type": "code",
   "execution_count": null,
   "metadata": {},
   "outputs": [],
   "source": []
  }
 ],
 "metadata": {
  "kernelspec": {
   "display_name": "Python 3",
   "language": "python",
   "name": "python3"
  },
  "language_info": {
   "codemirror_mode": {
    "name": "ipython",
    "version": 3
   },
   "file_extension": ".py",
   "mimetype": "text/x-python",
   "name": "python",
   "nbconvert_exporter": "python",
   "pygments_lexer": "ipython3",
   "version": "3.6.8"
  }
 },
 "nbformat": 4,
 "nbformat_minor": 4
}
