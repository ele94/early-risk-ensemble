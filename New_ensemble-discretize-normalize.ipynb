{
 "cells": [
  {
   "cell_type": "code",
   "execution_count": 1,
   "metadata": {},
   "outputs": [
    {
     "name": "stderr",
     "output_type": "stream",
     "text": [
      "/usr/local/lib/python3.6/site-packages/nltk/twitter/__init__.py:20: UserWarning: The twython library has not been installed. Some functionality from the twitter package will not be available.\n",
      "  warnings.warn(\"The twython library has not been installed. \"\n"
     ]
    }
   ],
   "source": [
    "from utils import *\n",
    "from preprocessing import preprocess\n",
    "from windowfy import windowfy\n",
    "from featurizing import featurize\n",
    "from tfidf_featurizer import combine_features, tfidf_featurize\n",
    "from training import train, do_ensemble, do_train\n",
    "from training_traditional import train_and_evaluate\n",
    "from eval_erisk import evaluate, ensemble_vote\n",
    "from IPython.display import display, Markdown\n",
    "from itertools import product\n",
    "from numpy.random import seed\n",
    "import tensorflow\n",
    "import numpy as np\n",
    "import pandas as pd"
   ]
  },
  {
   "cell_type": "code",
   "execution_count": 2,
   "metadata": {},
   "outputs": [
    {
     "name": "stdout",
     "output_type": "stream",
     "text": [
      "Initialized numpy random and tensorflow random seed at 42\n"
     ]
    }
   ],
   "source": [
    "seed(42)\n",
    "tensorflow.random.set_seed(42) \n",
    "logger(\"Initialized numpy random and tensorflow random seed at 42\")"
   ]
  },
  {
   "cell_type": "markdown",
   "metadata": {},
   "source": [
    "### With max_size = 10 and new data, sample_weights=10, oversample False, include_new_data=True"
   ]
  },
  {
   "cell_type": "code",
   "execution_count": 3,
   "metadata": {},
   "outputs": [],
   "source": [
    "y_preds = {}"
   ]
  },
  {
   "cell_type": "code",
   "execution_count": 4,
   "metadata": {},
   "outputs": [],
   "source": [
    "# prepare training data\n"
   ]
  },
  {
   "cell_type": "code",
   "execution_count": 5,
   "metadata": {},
   "outputs": [
    {
     "name": "stdout",
     "output_type": "stream",
     "text": [
      "Windowfying training users\n",
      "[====================] 100%\n",
      "Windowfying test users\n",
      "[====================] 100%\n",
      "Oversampling train users\n",
      "After oversample: positive messages: 2792, negative messages: 3491\n",
      "Data size: 6283\n",
      "\n",
      "Finished windowfying\n",
      "Featurizing calculate_feats=True, normalize=True, discretize=True, discretize_size=50, include_feats=['first_prons', 'nssi']\n",
      "Initialized numpy random and tensorflow random seed at 42\n",
      "Data size: 6283, 6283\n",
      "Data size: 4650, 4650\n",
      "Calculating first prons\n",
      "Calculating NSSI words\n",
      "Calculating first prons\n",
      "Calculating NSSI words\n",
      "Normalizing features\n",
      "Discretizing\n"
     ]
    },
    {
     "name": "stderr",
     "output_type": "stream",
     "text": [
      "/home/ecampillo/.local/lib/python3.6/site-packages/sklearn/preprocessing/_discretization.py:222: UserWarning: Bins whose width are too small (i.e., <= 1e-8) in feature 2 are removed. Consider decreasing the number of bins.\n",
      "  'decreasing the number of bins.' % jj)\n",
      "/home/ecampillo/.local/lib/python3.6/site-packages/sklearn/preprocessing/_discretization.py:222: UserWarning: Bins whose width are too small (i.e., <= 1e-8) in feature 3 are removed. Consider decreasing the number of bins.\n",
      "  'decreasing the number of bins.' % jj)\n",
      "/home/ecampillo/.local/lib/python3.6/site-packages/sklearn/preprocessing/_discretization.py:188: UserWarning: Feature 4 is constant and will be replaced with 0.\n",
      "  \"replaced with 0.\" % jj)\n",
      "/home/ecampillo/.local/lib/python3.6/site-packages/sklearn/preprocessing/_discretization.py:222: UserWarning: Bins whose width are too small (i.e., <= 1e-8) in feature 5 are removed. Consider decreasing the number of bins.\n",
      "  'decreasing the number of bins.' % jj)\n",
      "/home/ecampillo/.local/lib/python3.6/site-packages/sklearn/preprocessing/_discretization.py:222: UserWarning: Bins whose width are too small (i.e., <= 1e-8) in feature 6 are removed. Consider decreasing the number of bins.\n",
      "  'decreasing the number of bins.' % jj)\n"
     ]
    },
    {
     "name": "stdout",
     "output_type": "stream",
     "text": [
      "Is the combined the same from tfidf: False\n"
     ]
    }
   ],
   "source": [
    "train_users, y_train, test_users, y_test, train_samples, X_train, X_test = windowfy(window_size=10, max_size=20, sample_weights_size=20, is_oversample=True, include_new_data=False)\n",
    "feats_train, feats_test = featurize(calculate_feats=True, include_feats=[\"first_prons\",\"nssi\"], \n",
    "                       train_users=train_users, test_users=test_users, discretize=True, discretize_size=50, dis_strategy=\"quantile\", normalize=True, scale=False,)\n",
    "tfidf_train, tfidf_test = tfidf_featurize(train_users, test_users, max_features=50000)\n",
    "feats_train_comb, feats_test_comb = combine_features([tfidf_train, feats_train], [tfidf_test, feats_test])\n",
    "\n",
    "feats_train_comb = feats_train_comb.toarray()\n",
    "feats_test_comb = feats_test_comb.toarray()"
   ]
  },
  {
   "cell_type": "code",
   "execution_count": 6,
   "metadata": {},
   "outputs": [],
   "source": [
    "# traditional classifiers"
   ]
  },
  {
   "cell_type": "code",
   "execution_count": 7,
   "metadata": {},
   "outputs": [
    {
     "name": "stdout",
     "output_type": "stream",
     "text": [
      "              precision    recall  f1-score   support\n",
      "\n",
      "           0       0.81      0.99      0.89      3602\n",
      "           1       0.86      0.21      0.34      1048\n",
      "\n",
      "    accuracy                           0.81      4650\n",
      "   macro avg       0.84      0.60      0.62      4650\n",
      "weighted avg       0.82      0.81      0.77      4650\n",
      "\n",
      "[[3567   35]\n",
      " [ 826  222]]\n",
      "{'precision': 0.7205882352941176, 'recall': 0.47115384615384615, 'F1': 0.5697674418604651, 'ERDE_5': 0.25674635415573577, 'ERDE_50': 0.1410671271845272, 'median_latency_tps': 12.0, 'median_penalty_tps': 0.042873701496841665, 'speed': 0.9571262985031583, 'latency_weighted_f1': 0.5453394026355205}\n"
     ]
    }
   ],
   "source": [
    "y_pred, classifier = train_and_evaluate(feats_train_comb, y_train, feats_test_comb, y_test, train_samples, \n",
    "                                        classifier_name=\"svm\", strategy=\"weights\")\n",
    "eval_resul = evaluate(1, 10, {\"test\":\"test\"}, y_pred=y_pred, test_users=test_users)\n",
    "y_preds[\"svm\"] = y_pred"
   ]
  },
  {
   "cell_type": "code",
   "execution_count": 8,
   "metadata": {},
   "outputs": [
    {
     "name": "stdout",
     "output_type": "stream",
     "text": [
      "              precision    recall  f1-score   support\n",
      "\n",
      "           0       0.86      0.90      0.88      3602\n",
      "           1       0.60      0.48      0.53      1048\n",
      "\n",
      "    accuracy                           0.81      4650\n",
      "   macro avg       0.73      0.69      0.71      4650\n",
      "weighted avg       0.80      0.81      0.80      4650\n",
      "\n",
      "[[3259  343]\n",
      " [ 541  507]]\n",
      "{'precision': 0.45180722891566266, 'recall': 0.7211538461538461, 'F1': 0.5555555555555556, 'ERDE_5': 0.29840960491536916, 'ERDE_50': 0.12145040770361679, 'median_latency_tps': 11.0, 'median_penalty_tps': 0.03898023902249159, 'speed': 0.9610197609775084, 'latency_weighted_f1': 0.5338998672097269}\n"
     ]
    }
   ],
   "source": [
    "y_pred, classifier = train_and_evaluate(feats_train_comb, y_train, feats_test_comb, y_test, train_samples, \n",
    "                                        classifier_name=\"bayes\", strategy=\"weights\")\n",
    "eval_resul = evaluate(1, 10, {\"test\":\"test\"}, y_pred=y_pred, test_users=test_users)\n",
    "y_preds[\"bayes\"] = y_pred"
   ]
  },
  {
   "cell_type": "code",
   "execution_count": 9,
   "metadata": {},
   "outputs": [],
   "source": [
    "# deep learning classifiers\n",
    "batch_size=32\n",
    "model_name = \"cnn_model\"\n",
    "iterations = 3"
   ]
  },
  {
   "cell_type": "code",
   "execution_count": 10,
   "metadata": {},
   "outputs": [
    {
     "name": "stdout",
     "output_type": "stream",
     "text": [
      "Starting training with cnn_model=cnn_model and maxlen=1000 and batch size=32\n",
      "Generating embeddings\n",
      "Data size: 6283\n",
      "Training with callback\n",
      "Restoring model weights from the end of the best epoch.\n",
      "Epoch 00043: early stopping\n",
      "Evaluating\n",
      "146/146 [==============================] - 2s 9ms/step - loss: 0.5024 - tp: 133.0000 - fp: 20.0000 - tn: 3582.0000 - fn: 915.0000 - accuracy: 0.7989 - precision: 0.8693 - recall: 0.1269 - f1_metric: 0.1094\n",
      "Test Score: 0.5024381279945374\n",
      "Test Accuracy: 133.0\n",
      "146/146 [==============================] - 1s 8ms/step\n",
      "Entered here\n",
      "              precision    recall  f1-score   support\n",
      "\n",
      "           0       0.80      0.99      0.88      3602\n",
      "           1       0.87      0.13      0.22      1048\n",
      "\n",
      "    accuracy                           0.80      4650\n",
      "   macro avg       0.83      0.56      0.55      4650\n",
      "weighted avg       0.81      0.80      0.74      4650\n",
      "\n",
      "[[3582   20]\n",
      " [ 915  133]]\n",
      "Finished training and evaluation\n",
      "{'precision': 0.8205128205128205, 'recall': 0.3076923076923077, 'F1': 0.44755244755244755, 'ERDE_5': 0.24982781625063463, 'ERDE_50': 0.17428141888682255, 'median_latency_tps': 12.0, 'median_penalty_tps': 0.042873701496841665, 'speed': 0.9571262985031583, 'latency_weighted_f1': 0.428364217511903}\n",
      "Starting training with cnn_model=cnn_model and maxlen=1000 and batch size=32\n",
      "Generating embeddings\n",
      "Data size: 6283\n",
      "Training with callback\n",
      "Restoring model weights from the end of the best epoch.\n",
      "Epoch 00043: early stopping\n",
      "Evaluating\n",
      "146/146 [==============================] - 2s 9ms/step - loss: 0.5933 - tp: 98.0000 - fp: 18.0000 - tn: 3584.0000 - fn: 950.0000 - accuracy: 0.7918 - precision: 0.8448 - recall: 0.0935 - f1_metric: 0.0827\n",
      "Test Score: 0.593320906162262\n",
      "Test Accuracy: 98.0\n",
      "146/146 [==============================] - 1s 7ms/step\n",
      "Entered here\n",
      "              precision    recall  f1-score   support\n",
      "\n",
      "           0       0.79      1.00      0.88      3602\n",
      "           1       0.84      0.09      0.17      1048\n",
      "\n",
      "    accuracy                           0.79      4650\n",
      "   macro avg       0.82      0.54      0.52      4650\n",
      "weighted avg       0.80      0.79      0.72      4650\n",
      "\n",
      "[[3584   18]\n",
      " [ 950   98]]\n",
      "Finished training and evaluation\n",
      "{'precision': 0.8108108108108109, 'recall': 0.28846153846153844, 'F1': 0.42553191489361697, 'ERDE_5': 0.24986579434741235, 'ERDE_50': 0.17900955127453022, 'median_latency_tps': 14.0, 'median_penalty_tps': 0.05065660333872746, 'speed': 0.9493433966612725, 'latency_weighted_f1': 0.40397591347288186}\n",
      "Starting training with cnn_model=cnn_model and maxlen=1000 and batch size=32\n",
      "Generating embeddings\n",
      "Data size: 6283\n",
      "Training with callback\n",
      "Restoring model weights from the end of the best epoch.\n",
      "Epoch 00043: early stopping\n",
      "Evaluating\n",
      "146/146 [==============================] - 2s 9ms/step - loss: 0.6217 - tp: 95.0000 - fp: 19.0000 - tn: 3583.0000 - fn: 953.0000 - accuracy: 0.7910 - precision: 0.8333 - recall: 0.0906 - f1_metric: 0.0776\n",
      "Test Score: 0.6217230558395386\n",
      "Test Accuracy: 95.0\n",
      "146/146 [==============================] - 1s 7ms/step\n",
      "Entered here\n",
      "              precision    recall  f1-score   support\n",
      "\n",
      "           0       0.79      0.99      0.88      3602\n",
      "           1       0.83      0.09      0.16      1048\n",
      "\n",
      "    accuracy                           0.79      4650\n",
      "   macro avg       0.81      0.54      0.52      4650\n",
      "weighted avg       0.80      0.79      0.72      4650\n",
      "\n",
      "[[3583   19]\n",
      " [ 953   95]]\n",
      "Finished training and evaluation\n",
      "{'precision': 0.8333333333333334, 'recall': 0.2403846153846154, 'F1': 0.373134328358209, 'ERDE_5': 0.2487037633243873, 'ERDE_50': 0.1896674099782607, 'median_latency_tps': 13.0, 'median_penalty_tps': 0.046765862163709926, 'speed': 0.9532341378362901, 'latency_weighted_f1': 0.3556843797896605}\n"
     ]
    }
   ],
   "source": [
    "model_resuls = {}\n",
    "for i in range(0, iterations):\n",
    "    y_pred = do_train(model_name=model_name, maxlen=1000, epochs=100, batch_size=batch_size,\n",
    "                 shuffle=True, patience=30, feats_train=feats_train, feats_test=feats_test, \n",
    "                 X_train=X_train, X_test=X_test, y_train=y_train, y_test=y_test, train_sample_weights=train_samples)\n",
    "    eval_resul = evaluate(1, 10, {\"test\":\"test\"}, y_pred=y_pred, test_users=test_users)\n",
    "    model_resuls[eval_resul['latency_weighted_f1']] = y_pred\n",
    "\n",
    "y_preds[model_name] = model_resuls[max(model_resuls.keys())]"
   ]
  },
  {
   "cell_type": "code",
   "execution_count": 11,
   "metadata": {},
   "outputs": [],
   "source": [
    "# deep learning classifiers\n",
    "batch_size=32\n",
    "model_name = \"lstm_model_32\"\n",
    "iterations = 1"
   ]
  },
  {
   "cell_type": "code",
   "execution_count": 12,
   "metadata": {},
   "outputs": [
    {
     "name": "stdout",
     "output_type": "stream",
     "text": [
      "Starting training with cnn_model=lstm_model_32 and maxlen=1000 and batch size=32\n",
      "Generating embeddings\n",
      "Data size: 6283\n",
      "Training with callback\n",
      "Evaluating\n",
      "146/146 [==============================] - 24s 152ms/step - loss: 1.1015 - tp: 340.0000 - fp: 100.0000 - tn: 3502.0000 - fn: 708.0000 - accuracy: 0.8262 - precision: 0.7727 - recall: 0.3244 - f1_metric: 0.2466\n",
      "Test Score: 1.101483702659607\n",
      "Test Accuracy: 340.0\n",
      "146/146 [==============================] - 23s 151ms/step\n",
      "Entered here\n",
      "              precision    recall  f1-score   support\n",
      "\n",
      "           0       0.83      0.97      0.90      3602\n",
      "           1       0.77      0.32      0.46      1048\n",
      "\n",
      "    accuracy                           0.83      4650\n",
      "   macro avg       0.80      0.65      0.68      4650\n",
      "weighted avg       0.82      0.83      0.80      4650\n",
      "\n",
      "[[3502  100]\n",
      " [ 708  340]]\n",
      "Finished training and evaluation\n",
      "{'precision': 0.6352941176470588, 'recall': 0.5192307692307693, 'F1': 0.5714285714285715, 'ERDE_5': 0.26366901092866, 'ERDE_50': 0.1362216298084723, 'median_latency_tps': 11.0, 'median_penalty_tps': 0.03898023902249159, 'speed': 0.9610197609775084, 'latency_weighted_f1': 0.5491541491300049}\n"
     ]
    }
   ],
   "source": [
    "model_resuls = {}\n",
    "for i in range(0, iterations):\n",
    "    y_pred = do_train(model_name=model_name, maxlen=1000, epochs=100, batch_size=batch_size,\n",
    "                 shuffle=True, patience=100, feats_train=feats_train, feats_test=feats_test, \n",
    "                 X_train=X_train, X_test=X_test, y_train=y_train, y_test=y_test, train_sample_weights=train_samples)\n",
    "    eval_resul = evaluate(1, 10, {\"test\":\"test\"}, y_pred=y_pred, test_users=test_users)\n",
    "    model_resuls[eval_resul['latency_weighted_f1']] = y_pred\n",
    "\n",
    "y_preds[model_name] = model_resuls[max(model_resuls.keys())]"
   ]
  },
  {
   "cell_type": "code",
   "execution_count": null,
   "metadata": {},
   "outputs": [],
   "source": [
    "print(y_preds[\"cnn_model\"].flatten())"
   ]
  },
  {
   "cell_type": "code",
   "execution_count": null,
   "metadata": {},
   "outputs": [],
   "source": [
    "# ensemble"
   ]
  },
  {
   "cell_type": "code",
   "execution_count": 13,
   "metadata": {},
   "outputs": [
    {
     "name": "stdout",
     "output_type": "stream",
     "text": [
      "{'precision': 0.72, 'recall': 0.5192307692307693, 'F1': 0.6033519553072626, 'ERDE_5': 0.2578546144872604, 'ERDE_50': 0.13040926848079604, 'median_latency_tps': 11.0, 'median_penalty_tps': 0.03898023902249159, 'speed': 0.9610197609775084, 'latency_weighted_f1': 0.5798331518746979}\n"
     ]
    },
    {
     "data": {
      "text/plain": [
       "{'precision': 0.72,\n",
       " 'recall': 0.5192307692307693,\n",
       " 'F1': 0.6033519553072626,\n",
       " 'ERDE_5': 0.2578546144872604,\n",
       " 'ERDE_50': 0.13040926848079604,\n",
       " 'median_latency_tps': 11.0,\n",
       " 'median_penalty_tps': 0.03898023902249159,\n",
       " 'speed': 0.9610197609775084,\n",
       " 'latency_weighted_f1': 0.5798331518746979}"
      ]
     },
     "execution_count": 13,
     "metadata": {},
     "output_type": "execute_result"
    }
   ],
   "source": [
    "y_pred = ensemble_vote(np.array([y_preds[\"bayes\"], y_preds[\"cnn_model\"].flatten(), y_preds[\"lstm_model_32\"].flatten()]))\n",
    "evaluate(1, 10, {\"test\":\"test\"}, y_pred=y_pred, test_users=test_users)"
   ]
  },
  {
   "cell_type": "code",
   "execution_count": null,
   "metadata": {},
   "outputs": [],
   "source": []
  }
 ],
 "metadata": {
  "kernelspec": {
   "display_name": "Python 3",
   "language": "python",
   "name": "python3"
  },
  "language_info": {
   "codemirror_mode": {
    "name": "ipython",
    "version": 3
   },
   "file_extension": ".py",
   "mimetype": "text/x-python",
   "name": "python",
   "nbconvert_exporter": "python",
   "pygments_lexer": "ipython3",
   "version": "3.6.8"
  }
 },
 "nbformat": 4,
 "nbformat_minor": 4
}
