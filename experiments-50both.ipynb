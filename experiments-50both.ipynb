{
 "cells": [
  {
   "cell_type": "markdown",
   "metadata": {},
   "source": [
    "### Saved as an example of how to do experiments with this code"
   ]
  },
  {
   "cell_type": "code",
   "execution_count": null,
   "metadata": {},
   "outputs": [],
   "source": [
    "from utils import *\n",
    "from experiment_utils import *\n",
    "from preprocessing import preprocess\n",
    "from windowfy import windowfy\n",
    "from featurizing import featurize\n",
    "from tfidf_featurizer import combine_features, tfidf_featurize\n",
    "from training import train, do_ensemble, do_train\n",
    "from training_traditional import train_and_evaluate\n",
    "from eval_erisk import evaluate, ensemble_vote\n",
    "from IPython.display import display, Markdown\n",
    "from itertools import product\n",
    "import tensorflow\n",
    "import numpy as np"
   ]
  },
  {
   "cell_type": "code",
   "execution_count": null,
   "metadata": {},
   "outputs": [],
   "source": [
    "# experiment params. this is the part that must be modified for a different experiment\n",
    "\n",
    "seed_part = np.random.randint(1,101,10).tolist()\n",
    "\n",
    "first_part = {\n",
    "    \"random_seed\": seed_part,\n",
    "    \"include_feats\": [[\"first_prons\", \"nssi\"],[\"first_prons\",\"sentiment\",\"nssi\"]],\n",
    "    \"feat_window_size\": [10], #10\n",
    "    \"max_size\": [50],\n",
    "    \"sample_weights_size\": [50],\n",
    "    \"oversample\": [True],\n",
    "    \"sampling_strategy\": [0.8, 1, 1.5, 2],\n",
    "    \"include_new_data\": [True],\n",
    "    \"tfidf_max_features\": [5000],\n",
    "    \"scale\": [False],\n",
    "    \"normalize\": [True],\n",
    "    \"discretize\": [True],\n",
    "    \"discretize_size\": [50, 75],\n",
    "    \"dis_strategy\": [\"quantile\"]\n",
    "}\n",
    "\n",
    "second_part = {\n",
    "    \"eval_window_size\": [1],\n",
    "    \"maxlen\": [1000],\n",
    "    \"batch_size\": [32],\n",
    "    \"epochs\": [100],\n",
    "    \"patience\": [10],\n",
    "    \"iterations\": [5],\n",
    "    \"shuffle\": [True],\n",
    "}\n",
    "\n",
    "models = [\"svm\", \"bayes\", \"cnn_model\"]\n",
    "ensemble_combinations = [[\"svm\", \"bayes\", \"cnn_model\"]]\n",
    "weights = [[1, 1, 1], [2, 1, 1], [1, 2, 1], [2, 2, 1], [1, 1, 2], [3, 3, 1], [5, 5, 1], [1, 5, 1]]\n",
    "eval_filename = \"experiments_50-bothdata-seed.csv\""
   ]
  },
  {
   "cell_type": "markdown",
   "metadata": {},
   "source": [
    "## Experiments"
   ]
  },
  {
   "cell_type": "code",
   "execution_count": null,
   "metadata": {},
   "outputs": [],
   "source": [
    "firstpart_generator = traverse(first_part)\n",
    "\n",
    "for i in firstpart_generator:\n",
    "    try:\n",
    "        # experiment object defined in experiment_utils.py\n",
    "        experiment = Experiment(models, ensemble_combinations, eval_filename, random_seed=i[\"random_seed\"])\n",
    "        \n",
    "        logger(\"********** CALCULATING FEATURES FOR {} ***********\".format(i))\n",
    "        display(Markdown(\"#### Calculating features for {}\".format(i)))\n",
    "                \n",
    "        experiment.prepare_data(i)\n",
    "\n",
    "        secondpart_generator = traverse(second_part)\n",
    "\n",
    "        for j in secondpart_generator:\n",
    "            params = j.copy()\n",
    "            params.update(i)\n",
    "            logger(\"************ STARTING EXPERIMENT {} ***************\".format(params))\n",
    "            display(Markdown(\"#### Experiment {}\".format(params)))\n",
    "            try:\n",
    "                experiment.train_and_evaluate_model(params, weights)\n",
    "                logger(\"************ FINISHED EXPERIMENT {} ************* \\n\".format(params))\n",
    "            except Exception as e:\n",
    "                logger(\"*************************************\")\n",
    "                logger(\"Error during experiment {}: {}\".format(params, e))\n",
    "                logger(\"*************************************\")\n",
    "        del secondpart_generator\n",
    "    except Exception as e:\n",
    "        logger(\"*************************************\")\n",
    "        logger(\"General error during experiment {}: {}\".format(i, e))\n",
    "        logger(\"*************************************\")"
   ]
  },
  {
   "cell_type": "code",
   "execution_count": null,
   "metadata": {},
   "outputs": [],
   "source": []
  }
 ],
 "metadata": {
  "kernelspec": {
   "display_name": "Python 3",
   "language": "python",
   "name": "python3"
  },
  "language_info": {
   "codemirror_mode": {
    "name": "ipython",
    "version": 3
   },
   "file_extension": ".py",
   "mimetype": "text/x-python",
   "name": "python",
   "nbconvert_exporter": "python",
   "pygments_lexer": "ipython3",
   "version": "3.6.8"
  }
 },
 "nbformat": 4,
 "nbformat_minor": 4
}
