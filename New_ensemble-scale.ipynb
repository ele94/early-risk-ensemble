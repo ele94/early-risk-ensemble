{
 "cells": [
  {
   "cell_type": "code",
   "execution_count": 1,
   "metadata": {},
   "outputs": [
    {
     "name": "stderr",
     "output_type": "stream",
     "text": [
      "/usr/local/lib/python3.6/site-packages/nltk/twitter/__init__.py:20: UserWarning: The twython library has not been installed. Some functionality from the twitter package will not be available.\n",
      "  warnings.warn(\"The twython library has not been installed. \"\n"
     ]
    }
   ],
   "source": [
    "from utils import *\n",
    "from preprocessing import preprocess\n",
    "from windowfy import windowfy\n",
    "from featurizing import featurize\n",
    "from tfidf_featurizer import combine_features, tfidf_featurize\n",
    "from training import train, do_ensemble, do_train\n",
    "from training_traditional import train_and_evaluate\n",
    "from eval_erisk import evaluate, ensemble_vote\n",
    "from IPython.display import display, Markdown\n",
    "from itertools import product\n",
    "from numpy.random import seed\n",
    "import tensorflow\n",
    "import numpy as np"
   ]
  },
  {
   "cell_type": "code",
   "execution_count": 2,
   "metadata": {},
   "outputs": [
    {
     "name": "stdout",
     "output_type": "stream",
     "text": [
      "Initialized numpy random and tensorflow random seed at 42\n"
     ]
    }
   ],
   "source": [
    "seed(42)\n",
    "tensorflow.random.set_seed(42) \n",
    "logger(\"Initialized numpy random and tensorflow random seed at 42\")"
   ]
  },
  {
   "cell_type": "markdown",
   "metadata": {},
   "source": [
    "### With max_size = 10 and new data, sample_weights=10, oversample False, include_new_data=True"
   ]
  },
  {
   "cell_type": "code",
   "execution_count": 3,
   "metadata": {},
   "outputs": [],
   "source": [
    "y_preds = {}"
   ]
  },
  {
   "cell_type": "code",
   "execution_count": 4,
   "metadata": {},
   "outputs": [],
   "source": [
    "# prepare training data"
   ]
  },
  {
   "cell_type": "code",
   "execution_count": 5,
   "metadata": {},
   "outputs": [
    {
     "name": "stdout",
     "output_type": "stream",
     "text": [
      "Windowfying training users\n",
      "[====================] 100%\n",
      "Windowfying test users\n",
      "[====================] 100%\n",
      "Oversampling train users\n",
      "After oversample: positive messages: 2792, negative messages: 3491\n",
      "Data size: 6283\n",
      "\n",
      "Finished windowfying\n",
      "Featurizing calculate_feats=True, normalize=False, discretize=True, discretize_size=10, include_feats=['first_prons', 'sentiment', 'nssi']\n",
      "Initialized numpy random and tensorflow random seed at 42\n",
      "Data size: 6283, 6283\n",
      "Data size: 4650, 4650\n",
      "Calculating first prons\n",
      "Calculating sentiment\n",
      "Calculating NSSI words\n",
      "Calculating first prons\n",
      "Calculating sentiment\n",
      "Calculating NSSI words\n",
      "Scaling features\n",
      "Training features shape: (6283, 8)\n",
      "Test features shape: (4650, 8)\n",
      "Discretizing\n"
     ]
    },
    {
     "name": "stderr",
     "output_type": "stream",
     "text": [
      "/home/ecampillo/.local/lib/python3.6/site-packages/sklearn/preprocessing/_discretization.py:188: UserWarning: Feature 5 is constant and will be replaced with 0.\n",
      "  \"replaced with 0.\" % jj)\n",
      "/home/ecampillo/.local/lib/python3.6/site-packages/sklearn/preprocessing/_discretization.py:209: ConvergenceWarning: Number of distinct clusters (2) found smaller than n_clusters (10). Possibly due to duplicate points in X.\n",
      "  centers = km.fit(column[:, None]).cluster_centers_[:, 0]\n",
      "/home/ecampillo/.local/lib/python3.6/site-packages/sklearn/preprocessing/_discretization.py:222: UserWarning: Bins whose width are too small (i.e., <= 1e-8) in feature 6 are removed. Consider decreasing the number of bins.\n",
      "  'decreasing the number of bins.' % jj)\n"
     ]
    },
    {
     "name": "stdout",
     "output_type": "stream",
     "text": [
      "Is the combined the same from tfidf: False\n"
     ]
    }
   ],
   "source": [
    "train_users, y_train, test_users, y_test, train_samples, X_train, X_test = windowfy(window_size=10, max_size=20, sample_weights_size=20, is_oversample=False, include_new_data=True)\n",
    "feats_train, feats_test = featurize(calculate_feats=True, include_feats=[\"first_prons\",\"sentiment\",\"nssi\"], \n",
    "                       train_users=train_users, test_users=test_users, discretize=True, scale=True)\n",
    "tfidf_train, tfidf_test = tfidf_featurize(train_users, test_users, max_features=50000)\n",
    "\n",
    "feats_train_comb, feats_test_comb = combine_features([tfidf_train, feats_train], [tfidf_test, feats_test])\n",
    "\n",
    "feats_train_comb = feats_train_comb.toarray()\n",
    "feats_test_comb = feats_test_comb.toarray()"
   ]
  },
  {
   "cell_type": "code",
   "execution_count": 6,
   "metadata": {},
   "outputs": [],
   "source": [
    "# traditional classifiers"
   ]
  },
  {
   "cell_type": "code",
   "execution_count": 7,
   "metadata": {},
   "outputs": [
    {
     "name": "stdout",
     "output_type": "stream",
     "text": [
      "              precision    recall  f1-score   support\n",
      "\n",
      "           0       0.82      0.98      0.90      3602\n",
      "           1       0.82      0.27      0.40      1048\n",
      "\n",
      "    accuracy                           0.82      4650\n",
      "   macro avg       0.82      0.62      0.65      4650\n",
      "weighted avg       0.82      0.82      0.78      4650\n",
      "\n",
      "[[3541   61]\n",
      " [ 769  279]]\n",
      "{'precision': 0.7313432835820896, 'recall': 0.47115384615384615, 'F1': 0.5730994152046783, 'ERDE_5': 0.25612439101077644, 'ERDE_50': 0.14048589105175943, 'median_latency_tps': 11.0, 'median_penalty_tps': 0.03898023902249159, 'speed': 0.9610197609775084, 'latency_weighted_f1': 0.5507598630163498}\n"
     ]
    }
   ],
   "source": [
    "y_pred, classifier = train_and_evaluate(feats_train_comb, y_train, feats_test_comb, y_test, train_samples, \n",
    "                                        classifier_name=\"svm\", strategy=\"weights\")\n",
    "eval_resul = evaluate(1, 10, {\"test\":\"test\"}, y_pred=y_pred, test_users=test_users)\n",
    "y_preds[\"svm\"] = y_pred"
   ]
  },
  {
   "cell_type": "code",
   "execution_count": 8,
   "metadata": {},
   "outputs": [
    {
     "name": "stdout",
     "output_type": "stream",
     "text": [
      "              precision    recall  f1-score   support\n",
      "\n",
      "           0       0.84      0.90      0.87      3602\n",
      "           1       0.56      0.42      0.48      1048\n",
      "\n",
      "    accuracy                           0.79      4650\n",
      "   macro avg       0.70      0.66      0.68      4650\n",
      "weighted avg       0.78      0.79      0.78      4650\n",
      "\n",
      "[[3254  348]\n",
      " [ 606  442]]\n",
      "{'precision': 0.5338983050847458, 'recall': 0.6057692307692307, 'F1': 0.5675675675675675, 'ERDE_5': 0.27753497377746994, 'ERDE_50': 0.12889470125021749, 'median_latency_tps': 11.0, 'median_penalty_tps': 0.03898023902249159, 'speed': 0.9610197609775084, 'latency_weighted_f1': 0.5454436481223696}\n"
     ]
    }
   ],
   "source": [
    "y_pred, classifier = train_and_evaluate(feats_train_comb, y_train, feats_test_comb, y_test, train_samples, \n",
    "                                        classifier_name=\"bayes\", strategy=\"weights\")\n",
    "eval_resul = evaluate(1, 10, {\"test\":\"test\"}, y_pred=y_pred, test_users=test_users)\n",
    "y_preds[\"bayes\"] = y_pred"
   ]
  },
  {
   "cell_type": "code",
   "execution_count": 9,
   "metadata": {},
   "outputs": [],
   "source": [
    "# deep learning classifiers\n",
    "batch_size=32\n",
    "model_name = \"cnn_model\"\n",
    "iterations = 10"
   ]
  },
  {
   "cell_type": "code",
   "execution_count": null,
   "metadata": {},
   "outputs": [
    {
     "name": "stdout",
     "output_type": "stream",
     "text": [
      "Starting training with cnn_model=cnn_model and maxlen=1000 and batch size=32\n",
      "Generating embeddings\n",
      "Data size: 6283\n",
      "Training with callback\n",
      "Restoring model weights from the end of the best epoch.\n",
      "Epoch 00042: early stopping\n",
      "Evaluating\n",
      "146/146 [==============================] - 3s 12ms/step - loss: 0.4265 - tp: 366.0000 - fp: 121.0000 - tn: 3481.0000 - fn: 682.0000 - accuracy: 0.8273 - precision: 0.7515 - recall: 0.3492 - f1_metric: 0.2493\n",
      "Test Score: 0.4265153408050537\n",
      "Test Accuracy: 366.0\n",
      "146/146 [==============================] - 2s 9ms/step\n",
      "Entered here\n",
      "              precision    recall  f1-score   support\n",
      "\n",
      "           0       0.84      0.97      0.90      3602\n",
      "           1       0.75      0.35      0.48      1048\n",
      "\n",
      "    accuracy                           0.83      4650\n",
      "   macro avg       0.79      0.66      0.69      4650\n",
      "weighted avg       0.82      0.83      0.80      4650\n",
      "\n",
      "[[3481  121]\n",
      " [ 682  366]]\n",
      "Finished training and evaluation\n",
      "{'precision': 0.7108433734939759, 'recall': 0.5673076923076923, 'F1': 0.6310160427807486, 'ERDE_5': 0.25955905703648247, 'ERDE_50': 0.1203326459098314, 'median_latency_tps': 11.0, 'median_penalty_tps': 0.03898023902249159, 'speed': 0.9610197609775084, 'latency_weighted_f1': 0.6064188866061283}\n",
      "Starting training with cnn_model=cnn_model and maxlen=1000 and batch size=32\n",
      "Generating embeddings\n",
      "Data size: 6283\n",
      "Training with callback\n",
      "Restoring model weights from the end of the best epoch.\n",
      "Epoch 00043: early stopping\n",
      "Evaluating\n",
      "146/146 [==============================] - 3s 12ms/step - loss: 0.5436 - tp: 167.0000 - fp: 13.0000 - tn: 3589.0000 - fn: 881.0000 - accuracy: 0.8077 - precision: 0.9278 - recall: 0.1594 - f1_metric: 0.1278\n",
      "Test Score: 0.543635368347168\n",
      "Test Accuracy: 167.0\n",
      "146/146 [==============================] - 1s 9ms/step\n",
      "Entered here\n",
      "              precision    recall  f1-score   support\n",
      "\n",
      "           0       0.80      1.00      0.89      3602\n",
      "           1       0.93      0.16      0.27      1048\n",
      "\n",
      "    accuracy                           0.81      4650\n",
      "   macro avg       0.87      0.58      0.58      4650\n",
      "weighted avg       0.83      0.81      0.75      4650\n",
      "\n",
      "[[3589   13]\n",
      " [ 881  167]]\n",
      "Finished training and evaluation\n",
      "{'precision': 0.8409090909090909, 'recall': 0.3557692307692308, 'F1': 0.5, 'ERDE_5': 0.249817623991933, 'ERDE_50': 0.16246108791755548, 'median_latency_tps': 12.0, 'median_penalty_tps': 0.042873701496841665, 'speed': 0.9571262985031583, 'latency_weighted_f1': 0.47856314925157917}\n",
      "Starting training with cnn_model=cnn_model and maxlen=1000 and batch size=32\n",
      "Generating embeddings\n",
      "Data size: 6283\n",
      "Training with callback\n"
     ]
    }
   ],
   "source": [
    "model_resuls = {}\n",
    "for i in range(0, iterations):\n",
    "    y_pred = do_train(model_name=model_name, maxlen=1000, epochs=100, batch_size=batch_size,\n",
    "                 shuffle=True, patience=30, feats_train=feats_train, feats_test=feats_test, \n",
    "                 X_train=X_train, X_test=X_test, y_train=y_train, y_test=y_test, train_sample_weights=train_samples)\n",
    "    eval_resul = evaluate(1, 10, {\"test\":\"test\"}, y_pred=y_pred, test_users=test_users)\n",
    "    model_resuls[eval_resul['latency_weighted_f1']] = y_pred\n",
    "\n",
    "y_preds[model_name] = model_resuls[max(model_resuls.keys())]"
   ]
  },
  {
   "cell_type": "code",
   "execution_count": null,
   "metadata": {},
   "outputs": [],
   "source": [
    "# deep learning classifiers\n",
    "batch_size=32\n",
    "model_name = \"lstm_model_32\"\n",
    "iterations = 1"
   ]
  },
  {
   "cell_type": "code",
   "execution_count": null,
   "metadata": {},
   "outputs": [],
   "source": [
    "model_resuls = {}\n",
    "for i in range(0, iterations):\n",
    "    y_pred = do_train(model_name=model_name, maxlen=1000, epochs=100, batch_size=batch_size,\n",
    "                 shuffle=True, patience=30, feats_train=feats_train, feats_test=feats_test, \n",
    "                 X_train=X_train, X_test=X_test, y_train=y_train, y_test=y_test, train_sample_weights=train_samples)\n",
    "    eval_resul = evaluate(1, 10, {\"test\":\"test\"}, y_pred=y_pred, test_users=test_users)\n",
    "    model_resuls[eval_resul['latency_weighted_f1']] = y_pred\n",
    "\n",
    "if iterations > 0:\n",
    "    y_preds[model_name] = model_resuls[max(model_resuls.keys())]"
   ]
  },
  {
   "cell_type": "code",
   "execution_count": null,
   "metadata": {},
   "outputs": [],
   "source": [
    "print(y_preds[\"cnn_model\"].flatten())"
   ]
  },
  {
   "cell_type": "code",
   "execution_count": null,
   "metadata": {},
   "outputs": [],
   "source": [
    "# ensemble"
   ]
  },
  {
   "cell_type": "code",
   "execution_count": null,
   "metadata": {},
   "outputs": [],
   "source": [
    "y_pred = ensemble_vote(np.array([y_preds[\"svm\"], y_preds[\"cnn_model\"].flatten(), y_preds[\"lstm_model_32\"].flatten()]))\n",
    "evaluate(1, 10, {\"test\":\"test\"}, y_pred=y_pred, test_users=test_users)"
   ]
  },
  {
   "cell_type": "code",
   "execution_count": null,
   "metadata": {},
   "outputs": [],
   "source": [
    "y_pred = ensemble_vote(np.array([y_preds[\"bayes\"], y_preds[\"cnn_model\"].flatten(), y_preds[\"lstm_model_32\"].flatten()]))\n",
    "evaluate(1, 10, {\"test\":\"test\"}, y_pred=y_pred, test_users=test_users)"
   ]
  },
  {
   "cell_type": "code",
   "execution_count": null,
   "metadata": {},
   "outputs": [],
   "source": [
    "y_pred = ensemble_vote(np.array([y_preds[\"svm\"], y_preds[\"bayes\"], y_preds[\"lstm_model_32\"].flatten()]))\n",
    "evaluate(1, 10, {\"test\":\"test\"}, y_pred=y_pred, test_users=test_users)"
   ]
  },
  {
   "cell_type": "code",
   "execution_count": null,
   "metadata": {},
   "outputs": [],
   "source": [
    "y_pred = ensemble_vote(np.array([y_preds[\"svm\"], y_preds[\"bayes\"], y_preds[\"cnn_model\"].flatten()]))\n",
    "evaluate(1, 10, {\"test\":\"test\"}, y_pred=y_pred, test_users=test_users)"
   ]
  },
  {
   "cell_type": "code",
   "execution_count": null,
   "metadata": {},
   "outputs": [],
   "source": []
  }
 ],
 "metadata": {
  "kernelspec": {
   "display_name": "Python 3",
   "language": "python",
   "name": "python3"
  },
  "language_info": {
   "codemirror_mode": {
    "name": "ipython",
    "version": 3
   },
   "file_extension": ".py",
   "mimetype": "text/x-python",
   "name": "python",
   "nbconvert_exporter": "python",
   "pygments_lexer": "ipython3",
   "version": "3.6.8"
  }
 },
 "nbformat": 4,
 "nbformat_minor": 4
}
