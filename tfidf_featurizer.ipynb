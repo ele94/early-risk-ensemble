{
 "cells": [
  {
   "cell_type": "code",
   "execution_count": 2,
   "metadata": {},
   "outputs": [],
   "source": [
    "from utils import *\n",
    "from sklearn.feature_extraction.text import TfidfVectorizer"
   ]
  },
  {
   "cell_type": "code",
   "execution_count": 8,
   "metadata": {},
   "outputs": [],
   "source": [
    "def tfidf_featurize(X_train, X_test, max_features, only_positives=True):\n",
    "    tfidf_vect, xtrain_tfidf, xtest_tfidf = get_features(X_train, X_test, max_features, only_positives=only_positives)\n",
    "    return tfidf_vect, xtrain_tfidf, xtest_tfidf"
   ]
  },
  {
   "cell_type": "code",
   "execution_count": 7,
   "metadata": {},
   "outputs": [],
   "source": [
    "def get_features(X_train, X_test, max_features, only_positives=True, ngram=False):\n",
    "    \n",
    "    if ngram:\n",
    "        ngram_range = (2, 3)\n",
    "    else:\n",
    "        ngram_range = (1, 1)\n",
    "\n",
    "    train_x = load_pickle(window_path, fp.train_x_filename)\n",
    "    test_x = load_pickle(window_path, fp.test_x_filename)\n",
    "\n",
    "    remove_pickle(feats_path, train_file)\n",
    "    remove_pickle(feats_path, test_file)\n",
    "    # word level tf-idf\n",
    "    tfidf_vect = TfidfVectorizer(analyzer='word', token_pattern=r'\\w{1,}', \n",
    "                                 max_features=max_features, ngram_range=ngram_range)\n",
    "   \n",
    "    if only_positives:\n",
    "        g_truth = train_g_truth\n",
    "        train_x_positives = [text for text, g_truth in zip(train_x['clean_text'], \n",
    "                                                           train_x['g_truth']) if g_truth == 1]\n",
    "        tfidf_vect.fit(train_x_positives)\n",
    "    else:\n",
    "        tfidf_vect.fit(train_x['clean_text'])  # aqui pasar solo los positivos???\n",
    "\n",
    "    save_pickle(fp.pickles_path, \"tfidf_vectorizer.pkl\", tfidf_vect)\n",
    "\n",
    "    xtrain_tfidf = tfidf_vect.transform(train_x[\"clean_text\"])\n",
    "    xtest_tfidf = tfidf_vect.transform(test_x[\"clean_text\"])\n",
    "    \n",
    "    return tfidf_vect, xtrain_tfidf, xtest_tfidf"
   ]
  },
  {
   "cell_type": "code",
   "execution_count": 6,
   "metadata": {},
   "outputs": [],
   "source": [
    "from scipy.sparse import hstack\n",
    "\n",
    "def combine_features(train_feats, test_feats): # both are a list of the features we want to combine\n",
    "\n",
    "    train_combined_features = hstack(train_feats)\n",
    "    test_combined_features = hstack(test_feats)\n",
    "\n",
    "    print(\"Is the combined different from tfidf: {}\".format(\n",
    "        train_feats[0].toarray() == train_combined_features.toarray()))\n",
    "    \n",
    "    return train_combined_features, test_combined_features"
   ]
  },
  {
   "cell_type": "code",
   "execution_count": null,
   "metadata": {},
   "outputs": [],
   "source": []
  },
  {
   "cell_type": "code",
   "execution_count": null,
   "metadata": {},
   "outputs": [],
   "source": [
    "# training traditional"
   ]
  },
  {
   "cell_type": "code",
   "execution_count": 5,
   "metadata": {},
   "outputs": [],
   "source": [
    "from sklearn.svm import LinearSVC\n",
    "from sklearn.svm import SVC\n",
    "from sklearn import naive_bayes, ensemble\n",
    "import sklearn.metrics as metrics    \n",
    "import xgboost\n",
    "from utils import *\n",
    "\n",
    "\n",
    "\n"
   ]
  },
  {
   "cell_type": "code",
   "execution_count": 4,
   "metadata": {},
   "outputs": [],
   "source": [
    "def train_and_evaluate(X_train, y_train, X_test, y_test, train_weights, classifier_name=\"svm\", strategy=\"weights\"):\n",
    "    \n",
    "    classifier = train(X_train, y_train, train_weights, classifier_name, strategy)\n",
    "    y_pred = evaluate(classifier, X_test, y_test)\n",
    "    \n",
    "    return y_pred, classifier\n",
    "    \n",
    "\n",
    "def train(x_train, y_train, train_weights, classifier_name=\"svm\", strategy=\"weights\"):\n",
    "\n",
    "    train_feats = x_train\n",
    "    train_labels = y_train\n",
    "\n",
    "    if strategy == 'weights':\n",
    "        strategy=None\n",
    "    elif strategy == 'normal':\n",
    "        strategy=None\n",
    "        train_weights = None\n",
    "    else:\n",
    "        train_weights=None\n",
    "\n",
    "    if classifier_name == \"svm\":\n",
    "        classifier = SVC(class_weight=strategy)\n",
    "    elif classifier_name == \"linear_svm\":\n",
    "        classifier = LinearSVC(class_weight=strategy)\n",
    "    elif classifier_name == \"forest\":\n",
    "        classifier = ensemble.RandomForestClassifier(class_weight=strategy)\n",
    "    elif classifier_name == \"xgboost\":\n",
    "        classifier = xgboost.XGBClassifier(class_weight=strategy)\n",
    "    else:\n",
    "        classifier = naive_bayes.MultinomialNB()\n",
    "\n",
    "    #if feats != 'text':\n",
    "    train_feats = train_feats.tocsc()\n",
    "\n",
    "    # if train_feats.isnull().values.any():\n",
    "    #     train_feats = train_feats.fillna(value=0,axis=0)\n",
    "\n",
    "    classifier.fit(train_feats, train_labels, sample_weight=train_weights)\n",
    "    \n",
    "    return classifier\n",
    "\n",
    "def evaluate(classifier, x_test, y_test):\n",
    "    \n",
    "    test_feats = x_test.tocsc()\n",
    "    y_pred = classifier.predict(test_feats)\n",
    "    \n",
    "    classification_report = metrics.classification_report(y_test, y_pred)\n",
    "    confusion_matrix = metrics.confusion_matrix(y_test, y_pred)\n",
    "    \n",
    "    logger(classification_report)\n",
    "    logger(confusion_matrix)\n",
    "    \n",
    "    return y_pred\n",
    "    "
   ]
  },
  {
   "cell_type": "code",
   "execution_count": null,
   "metadata": {},
   "outputs": [],
   "source": []
  }
 ],
 "metadata": {
  "kernelspec": {
   "display_name": "Python 3",
   "language": "python",
   "name": "python3"
  },
  "language_info": {
   "codemirror_mode": {
    "name": "ipython",
    "version": 3
   },
   "file_extension": ".py",
   "mimetype": "text/x-python",
   "name": "python",
   "nbconvert_exporter": "python",
   "pygments_lexer": "ipython3",
   "version": "3.6.8"
  }
 },
 "nbformat": 4,
 "nbformat_minor": 4
}
