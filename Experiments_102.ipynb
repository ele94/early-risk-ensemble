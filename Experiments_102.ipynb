{
 "cells": [
  {
   "cell_type": "code",
   "execution_count": 1,
   "metadata": {},
   "outputs": [
    {
     "name": "stderr",
     "output_type": "stream",
     "text": [
      "/usr/local/lib/python3.6/site-packages/nltk/twitter/__init__.py:20: UserWarning: The twython library has not been installed. Some functionality from the twitter package will not be available.\n",
      "  warnings.warn(\"The twython library has not been installed. \"\n"
     ]
    }
   ],
   "source": [
    "from utils import *\n",
    "from preprocessing import preprocess\n",
    "from windowfy import windowfy\n",
    "from featurizing import featurize\n",
    "from training import train, do_ensemble, do_train\n",
    "from eval_erisk import evaluate\n",
    "from IPython.display import display, Markdown\n",
    "from itertools import product\n",
    "from numpy.random import seed\n",
    "import tensorflow"
   ]
  },
  {
   "cell_type": "code",
   "execution_count": 2,
   "metadata": {},
   "outputs": [
    {
     "name": "stdout",
     "output_type": "stream",
     "text": [
      "Initialized numpy random and tensorflow random seed at 42\n"
     ]
    }
   ],
   "source": [
    "seed(42)\n",
    "tensorflow.random.set_seed(42) \n",
    "logger(\"Initialized numpy random and tensorflow random seed at 42\")"
   ]
  },
  {
   "cell_type": "markdown",
   "metadata": {},
   "source": [
    "### With max_size = 10 and new data, sample_weights=10, oversample False, include_new_data=True"
   ]
  },
  {
   "cell_type": "code",
   "execution_count": 3,
   "metadata": {},
   "outputs": [
    {
     "name": "stdout",
     "output_type": "stream",
     "text": [
      "Windowfying training users\n",
      "[====================] 100%\n",
      "Windowfying test users\n",
      "[====================] 100%Data size: 5424\n",
      "\n",
      "Finished windowfying\n",
      "Featurizing calculate_feats=True, normalize=False, discretize=False, discretize_size=10, include_feats=['first_prons', 'sentiment', 'nssi']\n",
      "Initialized numpy random and tensorflow random seed at 42\n",
      "Data size: 5424, 5424\n",
      "Data size: 4650, 4650\n",
      "Calculating first prons\n",
      "Calculating sentiment\n",
      "Calculating NSSI words\n",
      "Calculating first prons\n",
      "Calculating sentiment\n",
      "Calculating NSSI words\n"
     ]
    }
   ],
   "source": [
    "train_users, y_train, test_users, y_test, train_samples, X_train, X_test = windowfy(window_size=10, max_size=20, sample_weights_size=20, is_oversample=False, include_new_data=True)\n",
    "\n",
    "feats_train, feats_test = featurize(calculate_feats=True, include_feats=[\"first_prons\",\"sentiment\",\"nssi\"], \n",
    "                       train_users=train_users, test_users=test_users)\n",
    "batch_size=32"
   ]
  },
  {
   "cell_type": "code",
   "execution_count": 4,
   "metadata": {},
   "outputs": [
    {
     "name": "stdout",
     "output_type": "stream",
     "text": [
      "Starting training with cnn_model=cnn_model and maxlen=1000 and batch size=32\n",
      "Generating embeddings\n",
      "Data size: 5424\n",
      "Training with callback\n",
      "Restoring model weights from the end of the best epoch.\n",
      "Epoch 00038: early stopping\n",
      "Evaluating\n",
      "146/146 [==============================] - 3s 13ms/step - loss: 0.9795 - tp: 687.0000 - fp: 1008.0000 - tn: 2594.0000 - fn: 361.0000 - accuracy: 0.7056 - precision: 0.4053 - recall: 0.6555 - f1_metric: 0.3586\n",
      "Test Score: 0.97948157787323\n",
      "Test Accuracy: 687.0\n",
      "146/146 [==============================] - 2s 10ms/step\n",
      "Entered here\n",
      "              precision    recall  f1-score   support\n",
      "\n",
      "           0       0.88      0.72      0.79      3602\n",
      "           1       0.41      0.66      0.50      1048\n",
      "\n",
      "    accuracy                           0.71      4650\n",
      "   macro avg       0.64      0.69      0.65      4650\n",
      "weighted avg       0.77      0.71      0.73      4650\n",
      "\n",
      "[[2594 1008]\n",
      " [ 361  687]]\n",
      "Finished training and evaluation\n",
      "{'precision': 0.38425925925925924, 'recall': 0.7980769230769231, 'F1': 0.5187499999999999, 'ERDE_5': 0.32275047412298585, 'ERDE_50': 0.12694979572903334, 'median_latency_tps': 11.0, 'median_penalty_tps': 0.03898023902249159, 'speed': 0.9610197609775084, 'latency_weighted_f1': 0.4985290010070824}\n",
      "Starting training with cnn_model=cnn_model and maxlen=1000 and batch size=32\n",
      "Generating embeddings\n",
      "Data size: 5424\n",
      "Training with callback\n",
      "Restoring model weights from the end of the best epoch.\n",
      "Epoch 00051: early stopping\n",
      "Evaluating\n",
      "146/146 [==============================] - 4s 12ms/step - loss: 0.6325 - tp: 476.0000 - fp: 375.0000 - tn: 3227.0000 - fn: 572.0000 - accuracy: 0.7963 - precision: 0.5593 - recall: 0.4542 - f1_metric: 0.2879\n",
      "Test Score: 0.6324586272239685\n",
      "Test Accuracy: 476.0\n",
      "146/146 [==============================] - 2s 11ms/step\n",
      "Entered here\n",
      "              precision    recall  f1-score   support\n",
      "\n",
      "           0       0.85      0.90      0.87      3602\n",
      "           1       0.56      0.45      0.50      1048\n",
      "\n",
      "    accuracy                           0.80      4650\n",
      "   macro avg       0.70      0.68      0.69      4650\n",
      "weighted avg       0.78      0.80      0.79      4650\n",
      "\n",
      "[[3227  375]\n",
      " [ 572  476]]\n",
      "Finished training and evaluation\n",
      "{'precision': 0.5583333333333333, 'recall': 0.6442307692307693, 'F1': 0.5982142857142857, 'ERDE_5': 0.27635016774959276, 'ERDE_50': 0.11827596420927076, 'median_latency_tps': 11.0, 'median_penalty_tps': 0.03898023902249159, 'speed': 0.9610197609775084, 'latency_weighted_f1': 0.5748957498704738}\n",
      "Starting training with cnn_model=cnn_model and maxlen=1000 and batch size=32\n",
      "Generating embeddings\n",
      "Data size: 5424\n",
      "Training with callback\n",
      "Restoring model weights from the end of the best epoch.\n",
      "Epoch 00044: early stopping\n",
      "Evaluating\n",
      "146/146 [==============================] - 3s 12ms/step - loss: 0.8425 - tp: 655.0000 - fp: 813.0000 - tn: 2789.0000 - fn: 393.0000 - accuracy: 0.7406 - precision: 0.4462 - recall: 0.6250 - f1_metric: 0.3526\n",
      "Test Score: 0.8425118923187256\n",
      "Test Accuracy: 655.0\n",
      "146/146 [==============================] - 2s 10ms/step\n",
      "Entered here\n",
      "              precision    recall  f1-score   support\n",
      "\n",
      "           0       0.88      0.77      0.82      3602\n",
      "           1       0.45      0.62      0.52      1048\n",
      "\n",
      "    accuracy                           0.74      4650\n",
      "   macro avg       0.66      0.70      0.67      4650\n",
      "weighted avg       0.78      0.74      0.75      4650\n",
      "\n",
      "[[2789  813]\n",
      " [ 393  655]]\n",
      "Finished training and evaluation\n",
      "{'precision': 0.39603960396039606, 'recall': 0.7692307692307693, 'F1': 0.5228758169934641, 'ERDE_5': 0.31636096229367977, 'ERDE_50': 0.12764839685014862, 'median_latency_tps': 11.0, 'median_penalty_tps': 0.03898023902249159, 'speed': 0.9610197609775084, 'latency_weighted_f1': 0.5024939926679782}\n",
      "Starting training with cnn_model=cnn_model and maxlen=1000 and batch size=32\n",
      "Generating embeddings\n",
      "Data size: 5424\n",
      "Training with callback\n",
      "Restoring model weights from the end of the best epoch.\n",
      "Epoch 00031: early stopping\n",
      "Evaluating\n",
      "146/146 [==============================] - 3s 13ms/step - loss: 92.0393 - tp: 1048.0000 - fp: 3602.0000 - tn: 0.0000e+00 - fn: 0.0000e+00 - accuracy: 0.2254 - precision: 0.2254 - recall: 1.0000 - f1_metric: 0.3146\n",
      "Test Score: 92.03934478759766\n",
      "Test Accuracy: 1048.0\n",
      "146/146 [==============================] - 2s 11ms/step\n",
      "Entered here\n",
      "              precision    recall  f1-score   support\n",
      "\n",
      "           0       0.00      0.00      0.00      3602\n",
      "           1       0.23      1.00      0.37      1048\n",
      "\n",
      "    accuracy                           0.23      4650\n",
      "   macro avg       0.11      0.50      0.18      4650\n",
      "weighted avg       0.05      0.23      0.08      4650\n",
      "\n",
      "[[   0 3602]\n",
      " [   0 1048]]\n",
      "Finished training and evaluation\n",
      "{'precision': 0.2458628841607565, 'recall': 1.0, 'F1': 0.3946869070208729, 'ERDE_5': 0.43066928425293466, 'ERDE_50': 0.18541432635291089, 'median_latency_tps': 11.0, 'median_penalty_tps': 0.03898023902249159, 'speed': 0.9610197609775084, 'latency_weighted_f1': 0.37930191704615135}\n",
      "Starting training with cnn_model=cnn_model and maxlen=1000 and batch size=32\n",
      "Generating embeddings\n"
     ]
    },
    {
     "name": "stderr",
     "output_type": "stream",
     "text": [
      "/home/ecampillo/.local/lib/python3.6/site-packages/sklearn/metrics/_classification.py:1245: UndefinedMetricWarning: Precision and F-score are ill-defined and being set to 0.0 in labels with no predicted samples. Use `zero_division` parameter to control this behavior.\n",
      "  _warn_prf(average, modifier, msg_start, len(result))\n",
      "/home/ecampillo/.local/lib/python3.6/site-packages/sklearn/metrics/_classification.py:1245: UndefinedMetricWarning: Precision and F-score are ill-defined and being set to 0.0 in labels with no predicted samples. Use `zero_division` parameter to control this behavior.\n",
      "  _warn_prf(average, modifier, msg_start, len(result))\n",
      "/home/ecampillo/.local/lib/python3.6/site-packages/sklearn/metrics/_classification.py:1245: UndefinedMetricWarning: Precision and F-score are ill-defined and being set to 0.0 in labels with no predicted samples. Use `zero_division` parameter to control this behavior.\n",
      "  _warn_prf(average, modifier, msg_start, len(result))\n"
     ]
    },
    {
     "name": "stdout",
     "output_type": "stream",
     "text": [
      "Data size: 5424\n",
      "Training with callback\n",
      "Restoring model weights from the end of the best epoch.\n",
      "Epoch 00051: early stopping\n",
      "Evaluating\n",
      "146/146 [==============================] - 3s 12ms/step - loss: 0.6319 - tp: 534.0000 - fp: 463.0000 - tn: 3139.0000 - fn: 514.0000 - accuracy: 0.7899 - precision: 0.5356 - recall: 0.5095 - f1_metric: 0.3210\n",
      "Test Score: 0.6318933963775635\n",
      "Test Accuracy: 534.0\n",
      "146/146 [==============================] - 2s 11ms/step\n",
      "Entered here\n",
      "              precision    recall  f1-score   support\n",
      "\n",
      "           0       0.86      0.87      0.87      3602\n",
      "           1       0.54      0.51      0.52      1048\n",
      "\n",
      "    accuracy                           0.79      4650\n",
      "   macro avg       0.70      0.69      0.69      4650\n",
      "weighted avg       0.79      0.79      0.79      4650\n",
      "\n",
      "[[3139  463]\n",
      " [ 514  534]]\n",
      "Finished training and evaluation\n",
      "{'precision': 0.5285714285714286, 'recall': 0.7115384615384616, 'F1': 0.6065573770491803, 'ERDE_5': 0.2838774569434117, 'ERDE_50': 0.10928357057827473, 'median_latency_tps': 11.0, 'median_penalty_tps': 0.03898023902249159, 'speed': 0.9610197609775084, 'latency_weighted_f1': 0.5829136255109477}\n"
     ]
    },
    {
     "data": {
      "text/plain": [
       "{'precision': 0.5285714285714286,\n",
       " 'recall': 0.7115384615384616,\n",
       " 'F1': 0.6065573770491803,\n",
       " 'ERDE_5': 0.2838774569434117,\n",
       " 'ERDE_50': 0.10928357057827473,\n",
       " 'median_latency_tps': 11.0,\n",
       " 'median_penalty_tps': 0.03898023902249159,\n",
       " 'speed': 0.9610197609775084,\n",
       " 'latency_weighted_f1': 0.5829136255109477}"
      ]
     },
     "execution_count": 4,
     "metadata": {},
     "output_type": "execute_result"
    }
   ],
   "source": [
    "y_pred = do_train(model_name=\"cnn_model\", maxlen=1000, epochs=100, batch_size=batch_size,\n",
    "         shuffle=True, patience=30, feats_train=feats_train, feats_test=feats_test, \n",
    "         X_train=X_train, X_test=X_test, y_train=y_train, y_test=y_test, train_sample_weights=train_samples)\n",
    "evaluate(1, 10, {\"test\":\"test\"}, y_pred=y_pred, test_users=test_users)\n",
    "y_pred = do_train(model_name=\"cnn_model\", maxlen=1000, epochs=100, batch_size=batch_size,\n",
    "         shuffle=True, patience=30, feats_train=feats_train, feats_test=feats_test, \n",
    "         X_train=X_train, X_test=X_test, y_train=y_train, y_test=y_test, train_sample_weights=train_samples)\n",
    "evaluate(1, 10, {\"test\":\"test\"}, y_pred=y_pred, test_users=test_users)\n",
    "y_pred = do_train(model_name=\"cnn_model\", maxlen=1000, epochs=100, batch_size=batch_size,\n",
    "         shuffle=True, patience=30, feats_train=feats_train, feats_test=feats_test, \n",
    "         X_train=X_train, X_test=X_test, y_train=y_train, y_test=y_test, train_sample_weights=train_samples)\n",
    "evaluate(1, 10, {\"test\":\"test\"}, y_pred=y_pred, test_users=test_users)\n",
    "y_pred = do_train(model_name=\"cnn_model\", maxlen=1000, epochs=100, batch_size=batch_size,\n",
    "         shuffle=True, patience=30, feats_train=feats_train, feats_test=feats_test, \n",
    "         X_train=X_train, X_test=X_test, y_train=y_train, y_test=y_test, train_sample_weights=train_samples)\n",
    "evaluate(1, 10, {\"test\":\"test\"}, y_pred=y_pred, test_users=test_users)\n",
    "y_pred = do_train(model_name=\"cnn_model\", maxlen=1000, epochs=100, batch_size=batch_size,\n",
    "         shuffle=True, patience=30, feats_train=feats_train, feats_test=feats_test, \n",
    "         X_train=X_train, X_test=X_test, y_train=y_train, y_test=y_test, train_sample_weights=train_samples)\n",
    "evaluate(1, 10, {\"test\":\"test\"}, y_pred=y_pred, test_users=test_users)"
   ]
  },
  {
   "cell_type": "code",
   "execution_count": 5,
   "metadata": {},
   "outputs": [
    {
     "name": "stdout",
     "output_type": "stream",
     "text": [
      "Starting training with cnn_model=lstm_model_32 and maxlen=1000 and batch size=32\n",
      "Generating embeddings\n",
      "Data size: 5424\n",
      "Training with callback\n",
      "Restoring model weights from the end of the best epoch.\n",
      "Epoch 00013: early stopping\n",
      "Evaluating\n",
      "146/146 [==============================] - 27s 172ms/step - loss: 0.8485 - tp: 578.0000 - fp: 742.0000 - tn: 2860.0000 - fn: 470.0000 - accuracy: 0.7394 - precision: 0.4379 - recall: 0.5515 - f1_metric: 0.3253\n",
      "Test Score: 0.8484840989112854\n",
      "Test Accuracy: 578.0\n",
      "146/146 [==============================] - 26s 174ms/step\n",
      "Entered here\n",
      "              precision    recall  f1-score   support\n",
      "\n",
      "           0       0.86      0.79      0.83      3602\n",
      "           1       0.44      0.55      0.49      1048\n",
      "\n",
      "    accuracy                           0.74      4650\n",
      "   macro avg       0.65      0.67      0.66      4650\n",
      "weighted avg       0.76      0.74      0.75      4650\n",
      "\n",
      "[[2860  742]\n",
      " [ 470  578]]\n",
      "Finished training and evaluation\n",
      "{'precision': 0.42045454545454547, 'recall': 0.7115384615384616, 'F1': 0.5285714285714285, 'ERDE_5': 0.3047625238674657, 'ERDE_50': 0.13020807135791476, 'median_latency_tps': 11.0, 'median_penalty_tps': 0.03898023902249159, 'speed': 0.9610197609775084, 'latency_weighted_f1': 0.5079675879452543}\n",
      "Starting training with cnn_model=lstm_model_32 and maxlen=1000 and batch size=32\n",
      "Generating embeddings\n",
      "Data size: 5424\n",
      "Training with callback\n",
      "Restoring model weights from the end of the best epoch.\n",
      "Epoch 00028: early stopping\n",
      "Evaluating\n",
      "146/146 [==============================] - 25s 157ms/step - loss: 0.7460 - tp: 613.0000 - fp: 709.0000 - tn: 2893.0000 - fn: 435.0000 - accuracy: 0.7540 - precision: 0.4637 - recall: 0.5849 - f1_metric: 0.3428\n",
      "Test Score: 0.7460402250289917\n",
      "Test Accuracy: 613.0\n",
      "146/146 [==============================] - 23s 155ms/step\n",
      "Entered here\n",
      "              precision    recall  f1-score   support\n",
      "\n",
      "           0       0.87      0.80      0.83      3602\n",
      "           1       0.46      0.58      0.52      1048\n",
      "\n",
      "    accuracy                           0.75      4650\n",
      "   macro avg       0.67      0.69      0.68      4650\n",
      "weighted avg       0.78      0.75      0.76      4650\n",
      "\n",
      "[[2893  709]\n",
      " [ 435  613]]\n",
      "Finished training and evaluation\n",
      "{'precision': 0.42857142857142855, 'recall': 0.8365384615384616, 'F1': 0.5667752442996743, 'ERDE_5': 0.3128621952525373, 'ERDE_50': 0.10761251669656781, 'median_latency_tps': 11.0, 'median_penalty_tps': 0.03898023902249159, 'speed': 0.9610197609775084, 'latency_weighted_f1': 0.5446822098048419}\n",
      "Starting training with cnn_model=lstm_model_32 and maxlen=1000 and batch size=32\n",
      "Generating embeddings\n",
      "Data size: 5424\n",
      "Training with callback\n",
      "Restoring model weights from the end of the best epoch.\n",
      "Epoch 00011: early stopping\n",
      "Evaluating\n",
      "146/146 [==============================] - 33s 207ms/step - loss: 58.4595 - tp: 1048.0000 - fp: 3601.0000 - tn: 1.0000 - fn: 0.0000e+00 - accuracy: 0.2256 - precision: 0.2254 - recall: 1.0000 - f1_metric: 0.3147\n",
      "Test Score: 58.459476470947266\n",
      "Test Accuracy: 1048.0\n",
      "146/146 [==============================] - 32s 210ms/step\n",
      "Entered here\n",
      "              precision    recall  f1-score   support\n",
      "\n",
      "           0       1.00      0.00      0.00      3602\n",
      "           1       0.23      1.00      0.37      1048\n",
      "\n",
      "    accuracy                           0.23      4650\n",
      "   macro avg       0.61      0.50      0.18      4650\n",
      "weighted avg       0.83      0.23      0.08      4650\n",
      "\n",
      "[[   1 3601]\n",
      " [   0 1048]]\n",
      "Finished training and evaluation\n",
      "{'precision': 0.2458628841607565, 'recall': 1.0, 'F1': 0.3946869070208729, 'ERDE_5': 0.43066928425293466, 'ERDE_50': 0.18541432635291089, 'median_latency_tps': 11.0, 'median_penalty_tps': 0.03898023902249159, 'speed': 0.9610197609775084, 'latency_weighted_f1': 0.37930191704615135}\n"
     ]
    },
    {
     "data": {
      "text/plain": [
       "{'precision': 0.2458628841607565,\n",
       " 'recall': 1.0,\n",
       " 'F1': 0.3946869070208729,\n",
       " 'ERDE_5': 0.43066928425293466,\n",
       " 'ERDE_50': 0.18541432635291089,\n",
       " 'median_latency_tps': 11.0,\n",
       " 'median_penalty_tps': 0.03898023902249159,\n",
       " 'speed': 0.9610197609775084,\n",
       " 'latency_weighted_f1': 0.37930191704615135}"
      ]
     },
     "execution_count": 5,
     "metadata": {},
     "output_type": "execute_result"
    }
   ],
   "source": [
    "y_pred = do_train(model_name=\"lstm_model_32\", maxlen=1000, epochs=100, batch_size=batch_size,\n",
    "         shuffle=True, patience=10, feats_train=feats_train, feats_test=feats_test, \n",
    "         X_train=X_train, X_test=X_test, y_train=y_train, y_test=y_test, train_sample_weights=train_samples)\n",
    "evaluate(1, 10, {\"test\":\"test\"}, y_pred=y_pred, test_users=test_users)\n",
    "y_pred = do_train(model_name=\"lstm_model_32\", maxlen=1000, epochs=100, batch_size=batch_size,\n",
    "         shuffle=True, patience=10, feats_train=feats_train, feats_test=feats_test, \n",
    "         X_train=X_train, X_test=X_test, y_train=y_train, y_test=y_test, train_sample_weights=train_samples)\n",
    "evaluate(1, 10, {\"test\":\"test\"}, y_pred=y_pred, test_users=test_users)\n",
    "y_pred = do_train(model_name=\"lstm_model_32\", maxlen=1000, epochs=100, batch_size=batch_size,\n",
    "         shuffle=True, patience=10, feats_train=feats_train, feats_test=feats_test, \n",
    "         X_train=X_train, X_test=X_test, y_train=y_train, y_test=y_test, train_sample_weights=train_samples)\n",
    "evaluate(1, 10, {\"test\":\"test\"}, y_pred=y_pred, test_users=test_users)"
   ]
  },
  {
   "cell_type": "code",
   "execution_count": 6,
   "metadata": {},
   "outputs": [
    {
     "ename": "ValueError",
     "evalue": "Cannot assign to variable embedding_1/embeddings:0 due to variable shape (20883, 100) and value shape (14941, 100) are incompatible",
     "output_type": "error",
     "traceback": [
      "\u001b[0;31m---------------------------------------------------------------------------\u001b[0m",
      "\u001b[0;31mValueError\u001b[0m                                Traceback (most recent call last)",
      "\u001b[0;32m<ipython-input-6-c593ad39de92>\u001b[0m in \u001b[0;36m<module>\u001b[0;34m\u001b[0m\n\u001b[1;32m      1\u001b[0m y_pred = do_train(model_name=\"ensemble_model\", maxlen=1000, epochs=100, batch_size=batch_size,\n\u001b[1;32m      2\u001b[0m          \u001b[0mshuffle\u001b[0m\u001b[0;34m=\u001b[0m\u001b[0;32mTrue\u001b[0m\u001b[0;34m,\u001b[0m \u001b[0mpatience\u001b[0m\u001b[0;34m=\u001b[0m\u001b[0;36m10\u001b[0m\u001b[0;34m,\u001b[0m \u001b[0mmodel_names\u001b[0m\u001b[0;34m=\u001b[0m\u001b[0;34m[\u001b[0m\u001b[0;34m\"cnn_model\"\u001b[0m\u001b[0;34m,\u001b[0m \u001b[0;34m\"lstm_model_32\"\u001b[0m\u001b[0;34m]\u001b[0m\u001b[0;34m,\u001b[0m \u001b[0mfeats_train\u001b[0m\u001b[0;34m=\u001b[0m\u001b[0mfeats_train\u001b[0m\u001b[0;34m,\u001b[0m \u001b[0mfeats_test\u001b[0m\u001b[0;34m=\u001b[0m\u001b[0mfeats_test\u001b[0m\u001b[0;34m,\u001b[0m\u001b[0;34m\u001b[0m\u001b[0;34m\u001b[0m\u001b[0m\n\u001b[0;32m----> 3\u001b[0;31m          X_train=X_train, X_test=X_test, y_train=y_train, y_test=y_test)\n\u001b[0m\u001b[1;32m      4\u001b[0m \u001b[0mevaluate\u001b[0m\u001b[0;34m(\u001b[0m\u001b[0;36m1\u001b[0m\u001b[0;34m,\u001b[0m \u001b[0;36m10\u001b[0m\u001b[0;34m,\u001b[0m \u001b[0;34m{\u001b[0m\u001b[0;34m\"test\"\u001b[0m\u001b[0;34m:\u001b[0m\u001b[0;34m\"test\"\u001b[0m\u001b[0;34m}\u001b[0m\u001b[0;34m,\u001b[0m \u001b[0my_pred\u001b[0m\u001b[0;34m=\u001b[0m\u001b[0my_pred\u001b[0m\u001b[0;34m,\u001b[0m \u001b[0mtest_users\u001b[0m\u001b[0;34m=\u001b[0m\u001b[0mtest_users\u001b[0m\u001b[0;34m)\u001b[0m\u001b[0;34m\u001b[0m\u001b[0;34m\u001b[0m\u001b[0m\n",
      "\u001b[0;32m/datos/ecampillo/jupyter/dl-notebooks/newensemble/early-risk-ensemble/training.py\u001b[0m in \u001b[0;36mdo_train\u001b[0;34m(model_name, maxlen, epochs, early_epochs, batch_size, shuffle, patience, model_names, early_stopping, validation_split, feats_train, feats_test, X_train, X_test, y_train, y_test, train_sample_weights, save)\u001b[0m\n\u001b[1;32m     40\u001b[0m     \u001b[0;32mif\u001b[0m \u001b[0mmodel_name\u001b[0m \u001b[0;32mis\u001b[0m \u001b[0;34m\"ensemble_model\"\u001b[0m\u001b[0;34m:\u001b[0m\u001b[0;34m\u001b[0m\u001b[0;34m\u001b[0m\u001b[0m\n\u001b[1;32m     41\u001b[0m         y_pred = do_ensemble(maxlen, batch_size, shuffle, model_names, feats_train, feats_test, X_train, X_test,\n\u001b[0;32m---> 42\u001b[0;31m                              y_train, y_test, save)\n\u001b[0m\u001b[1;32m     43\u001b[0m     \u001b[0;32melse\u001b[0m\u001b[0;34m:\u001b[0m\u001b[0;34m\u001b[0m\u001b[0;34m\u001b[0m\u001b[0m\n\u001b[1;32m     44\u001b[0m         y_pred = train(model_name, maxlen, epochs, early_epochs, batch_size, shuffle, patience, early_stopping, \n",
      "\u001b[0;32m/datos/ecampillo/jupyter/dl-notebooks/newensemble/early-risk-ensemble/training.py\u001b[0m in \u001b[0;36mdo_ensemble\u001b[0;34m(maxlen, batch_size, shuffle, model_names, feats_train, feats_test, X_train, X_test, y_train, y_test, save)\u001b[0m\n\u001b[1;32m     89\u001b[0m     \u001b[0;31m# reload trained weights\u001b[0m\u001b[0;34m\u001b[0m\u001b[0;34m\u001b[0m\u001b[0;34m\u001b[0m\u001b[0m\n\u001b[1;32m     90\u001b[0m     \u001b[0;32mfor\u001b[0m \u001b[0mi\u001b[0m \u001b[0;32min\u001b[0m \u001b[0mrange\u001b[0m\u001b[0;34m(\u001b[0m\u001b[0;36m0\u001b[0m\u001b[0;34m,\u001b[0m \u001b[0mlen\u001b[0m\u001b[0;34m(\u001b[0m\u001b[0mmodels\u001b[0m\u001b[0;34m)\u001b[0m\u001b[0;34m)\u001b[0m\u001b[0;34m:\u001b[0m\u001b[0;34m\u001b[0m\u001b[0;34m\u001b[0m\u001b[0m\n\u001b[0;32m---> 91\u001b[0;31m         \u001b[0mmodels\u001b[0m\u001b[0;34m[\u001b[0m\u001b[0mi\u001b[0m\u001b[0;34m]\u001b[0m\u001b[0;34m.\u001b[0m\u001b[0mload_weights\u001b[0m\u001b[0;34m(\u001b[0m\u001b[0;34m\"models/{}{}{}{}.hdf5\"\u001b[0m\u001b[0;34m.\u001b[0m\u001b[0mformat\u001b[0m\u001b[0;34m(\u001b[0m\u001b[0mmodels\u001b[0m\u001b[0;34m[\u001b[0m\u001b[0mi\u001b[0m\u001b[0;34m]\u001b[0m\u001b[0;34m.\u001b[0m\u001b[0mname\u001b[0m\u001b[0;34m,\u001b[0m \u001b[0mmaxlen\u001b[0m\u001b[0;34m,\u001b[0m \u001b[0mbatch_size\u001b[0m\u001b[0;34m,\u001b[0m \u001b[0mshuffle\u001b[0m\u001b[0;34m)\u001b[0m\u001b[0;34m)\u001b[0m\u001b[0;34m\u001b[0m\u001b[0;34m\u001b[0m\u001b[0m\n\u001b[0m\u001b[1;32m     92\u001b[0m \u001b[0;34m\u001b[0m\u001b[0m\n\u001b[1;32m     93\u001b[0m     \u001b[0;31m# reload trained weights\u001b[0m\u001b[0;34m\u001b[0m\u001b[0;34m\u001b[0m\u001b[0;34m\u001b[0m\u001b[0m\n",
      "\u001b[0;32m/usr/local/lib64/python3.6/site-packages/tensorflow/python/keras/engine/training.py\u001b[0m in \u001b[0;36mload_weights\u001b[0;34m(self, filepath, by_name, skip_mismatch, options)\u001b[0m\n\u001b[1;32m   2324\u001b[0m             f, self.layers, skip_mismatch=skip_mismatch)\n\u001b[1;32m   2325\u001b[0m       \u001b[0;32melse\u001b[0m\u001b[0;34m:\u001b[0m\u001b[0;34m\u001b[0m\u001b[0;34m\u001b[0m\u001b[0m\n\u001b[0;32m-> 2326\u001b[0;31m         \u001b[0mhdf5_format\u001b[0m\u001b[0;34m.\u001b[0m\u001b[0mload_weights_from_hdf5_group\u001b[0m\u001b[0;34m(\u001b[0m\u001b[0mf\u001b[0m\u001b[0;34m,\u001b[0m \u001b[0mself\u001b[0m\u001b[0;34m.\u001b[0m\u001b[0mlayers\u001b[0m\u001b[0;34m)\u001b[0m\u001b[0;34m\u001b[0m\u001b[0;34m\u001b[0m\u001b[0m\n\u001b[0m\u001b[1;32m   2327\u001b[0m \u001b[0;34m\u001b[0m\u001b[0m\n\u001b[1;32m   2328\u001b[0m   \u001b[0;32mdef\u001b[0m \u001b[0m_updated_config\u001b[0m\u001b[0;34m(\u001b[0m\u001b[0mself\u001b[0m\u001b[0;34m)\u001b[0m\u001b[0;34m:\u001b[0m\u001b[0;34m\u001b[0m\u001b[0;34m\u001b[0m\u001b[0m\n",
      "\u001b[0;32m/usr/local/lib64/python3.6/site-packages/tensorflow/python/keras/saving/hdf5_format.py\u001b[0m in \u001b[0;36mload_weights_from_hdf5_group\u001b[0;34m(f, layers)\u001b[0m\n\u001b[1;32m    711\u001b[0m                        str(len(weight_values)) + ' elements.')\n\u001b[1;32m    712\u001b[0m     \u001b[0mweight_value_tuples\u001b[0m \u001b[0;34m+=\u001b[0m \u001b[0mzip\u001b[0m\u001b[0;34m(\u001b[0m\u001b[0msymbolic_weights\u001b[0m\u001b[0;34m,\u001b[0m \u001b[0mweight_values\u001b[0m\u001b[0;34m)\u001b[0m\u001b[0;34m\u001b[0m\u001b[0;34m\u001b[0m\u001b[0m\n\u001b[0;32m--> 713\u001b[0;31m   \u001b[0mbackend\u001b[0m\u001b[0;34m.\u001b[0m\u001b[0mbatch_set_value\u001b[0m\u001b[0;34m(\u001b[0m\u001b[0mweight_value_tuples\u001b[0m\u001b[0;34m)\u001b[0m\u001b[0;34m\u001b[0m\u001b[0;34m\u001b[0m\u001b[0m\n\u001b[0m\u001b[1;32m    714\u001b[0m \u001b[0;34m\u001b[0m\u001b[0m\n\u001b[1;32m    715\u001b[0m \u001b[0;34m\u001b[0m\u001b[0m\n",
      "\u001b[0;32m/usr/local/lib64/python3.6/site-packages/tensorflow/python/util/dispatch.py\u001b[0m in \u001b[0;36mwrapper\u001b[0;34m(*args, **kwargs)\u001b[0m\n\u001b[1;32m    204\u001b[0m     \u001b[0;34m\"\"\"Call target, and fall back on dispatchers if there is a TypeError.\"\"\"\u001b[0m\u001b[0;34m\u001b[0m\u001b[0;34m\u001b[0m\u001b[0m\n\u001b[1;32m    205\u001b[0m     \u001b[0;32mtry\u001b[0m\u001b[0;34m:\u001b[0m\u001b[0;34m\u001b[0m\u001b[0;34m\u001b[0m\u001b[0m\n\u001b[0;32m--> 206\u001b[0;31m       \u001b[0;32mreturn\u001b[0m \u001b[0mtarget\u001b[0m\u001b[0;34m(\u001b[0m\u001b[0;34m*\u001b[0m\u001b[0margs\u001b[0m\u001b[0;34m,\u001b[0m \u001b[0;34m**\u001b[0m\u001b[0mkwargs\u001b[0m\u001b[0;34m)\u001b[0m\u001b[0;34m\u001b[0m\u001b[0;34m\u001b[0m\u001b[0m\n\u001b[0m\u001b[1;32m    207\u001b[0m     \u001b[0;32mexcept\u001b[0m \u001b[0;34m(\u001b[0m\u001b[0mTypeError\u001b[0m\u001b[0;34m,\u001b[0m \u001b[0mValueError\u001b[0m\u001b[0;34m)\u001b[0m\u001b[0;34m:\u001b[0m\u001b[0;34m\u001b[0m\u001b[0;34m\u001b[0m\u001b[0m\n\u001b[1;32m    208\u001b[0m       \u001b[0;31m# Note: convert_to_eager_tensor currently raises a ValueError, not a\u001b[0m\u001b[0;34m\u001b[0m\u001b[0;34m\u001b[0m\u001b[0;34m\u001b[0m\u001b[0m\n",
      "\u001b[0;32m/usr/local/lib64/python3.6/site-packages/tensorflow/python/keras/backend.py\u001b[0m in \u001b[0;36mbatch_set_value\u001b[0;34m(tuples)\u001b[0m\n\u001b[1;32m   3802\u001b[0m   \u001b[0;32mif\u001b[0m \u001b[0mops\u001b[0m\u001b[0;34m.\u001b[0m\u001b[0mexecuting_eagerly_outside_functions\u001b[0m\u001b[0;34m(\u001b[0m\u001b[0;34m)\u001b[0m\u001b[0;34m:\u001b[0m\u001b[0;34m\u001b[0m\u001b[0;34m\u001b[0m\u001b[0m\n\u001b[1;32m   3803\u001b[0m     \u001b[0;32mfor\u001b[0m \u001b[0mx\u001b[0m\u001b[0;34m,\u001b[0m \u001b[0mvalue\u001b[0m \u001b[0;32min\u001b[0m \u001b[0mtuples\u001b[0m\u001b[0;34m:\u001b[0m\u001b[0;34m\u001b[0m\u001b[0;34m\u001b[0m\u001b[0m\n\u001b[0;32m-> 3804\u001b[0;31m       \u001b[0mx\u001b[0m\u001b[0;34m.\u001b[0m\u001b[0massign\u001b[0m\u001b[0;34m(\u001b[0m\u001b[0mnp\u001b[0m\u001b[0;34m.\u001b[0m\u001b[0masarray\u001b[0m\u001b[0;34m(\u001b[0m\u001b[0mvalue\u001b[0m\u001b[0;34m,\u001b[0m \u001b[0mdtype\u001b[0m\u001b[0;34m=\u001b[0m\u001b[0mdtype_numpy\u001b[0m\u001b[0;34m(\u001b[0m\u001b[0mx\u001b[0m\u001b[0;34m)\u001b[0m\u001b[0;34m)\u001b[0m\u001b[0;34m)\u001b[0m\u001b[0;34m\u001b[0m\u001b[0;34m\u001b[0m\u001b[0m\n\u001b[0m\u001b[1;32m   3805\u001b[0m   \u001b[0;32melse\u001b[0m\u001b[0;34m:\u001b[0m\u001b[0;34m\u001b[0m\u001b[0;34m\u001b[0m\u001b[0m\n\u001b[1;32m   3806\u001b[0m     \u001b[0;32mwith\u001b[0m \u001b[0mget_graph\u001b[0m\u001b[0;34m(\u001b[0m\u001b[0;34m)\u001b[0m\u001b[0;34m.\u001b[0m\u001b[0mas_default\u001b[0m\u001b[0;34m(\u001b[0m\u001b[0;34m)\u001b[0m\u001b[0;34m:\u001b[0m\u001b[0;34m\u001b[0m\u001b[0;34m\u001b[0m\u001b[0m\n",
      "\u001b[0;32m/usr/local/lib64/python3.6/site-packages/tensorflow/python/ops/resource_variable_ops.py\u001b[0m in \u001b[0;36massign\u001b[0;34m(self, value, use_locking, name, read_value)\u001b[0m\n\u001b[1;32m    899\u001b[0m             (\"Cannot assign to variable%s due to variable shape %s and value \"\n\u001b[1;32m    900\u001b[0m              \"shape %s are incompatible\") %\n\u001b[0;32m--> 901\u001b[0;31m             (tensor_name, self._shape, value_tensor.shape))\n\u001b[0m\u001b[1;32m    902\u001b[0m       assign_op = gen_resource_variable_ops.assign_variable_op(\n\u001b[1;32m    903\u001b[0m           self.handle, value_tensor, name=name)\n",
      "\u001b[0;31mValueError\u001b[0m: Cannot assign to variable embedding_1/embeddings:0 due to variable shape (20883, 100) and value shape (14941, 100) are incompatible"
     ]
    }
   ],
   "source": [
    "y_pred = do_train(model_name=\"ensemble_model\", maxlen=1000, epochs=100, batch_size=batch_size,\n",
    "         shuffle=True, patience=10, model_names=[\"cnn_model\", \"lstm_model_32\"], feats_train=feats_train, feats_test=feats_test, \n",
    "         X_train=X_train, X_test=X_test, y_train=y_train, y_test=y_test)\n",
    "evaluate(1, 10, {\"test\":\"test\"}, y_pred=y_pred, test_users=test_users)"
   ]
  },
  {
   "cell_type": "code",
   "execution_count": null,
   "metadata": {},
   "outputs": [],
   "source": []
  },
  {
   "cell_type": "code",
   "execution_count": null,
   "metadata": {},
   "outputs": [],
   "source": []
  }
 ],
 "metadata": {
  "kernelspec": {
   "display_name": "Python 3",
   "language": "python",
   "name": "python3"
  },
  "language_info": {
   "codemirror_mode": {
    "name": "ipython",
    "version": 3
   },
   "file_extension": ".py",
   "mimetype": "text/x-python",
   "name": "python",
   "nbconvert_exporter": "python",
   "pygments_lexer": "ipython3",
   "version": "3.6.8"
  }
 },
 "nbformat": 4,
 "nbformat_minor": 4
}
