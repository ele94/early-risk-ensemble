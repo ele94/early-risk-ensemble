{
 "cells": [
  {
   "cell_type": "code",
   "execution_count": 1,
   "metadata": {},
   "outputs": [
    {
     "name": "stderr",
     "output_type": "stream",
     "text": [
      "/usr/local/lib/python3.6/site-packages/nltk/twitter/__init__.py:20: UserWarning: The twython library has not been installed. Some functionality from the twitter package will not be available.\n",
      "  warnings.warn(\"The twython library has not been installed. \"\n"
     ]
    }
   ],
   "source": [
    "from utils import *\n",
    "from preprocessing import preprocess\n",
    "from windowfy import windowfy\n",
    "from featurizing import featurize\n",
    "from training import train, do_ensemble, do_train\n",
    "from eval_erisk import evaluate\n",
    "from IPython.display import display, Markdown\n",
    "from itertools import product\n",
    "from numpy.random import seed\n",
    "import tensorflow"
   ]
  },
  {
   "cell_type": "code",
   "execution_count": 2,
   "metadata": {},
   "outputs": [
    {
     "name": "stdout",
     "output_type": "stream",
     "text": [
      "Initialized numpy random and tensorflow random seed at 42\n"
     ]
    }
   ],
   "source": [
    "seed(42)\n",
    "tensorflow.random.set_seed(42) \n",
    "logger(\"Initialized numpy random and tensorflow random seed at 42\")"
   ]
  },
  {
   "cell_type": "markdown",
   "metadata": {},
   "source": [
    "## Experiments"
   ]
  },
  {
   "cell_type": "markdown",
   "metadata": {},
   "source": [
    "experimentos a dejar por la noche:\n",
    "\n",
    "comparar con ensembles etc.\n",
    "\n"
   ]
  },
  {
   "cell_type": "markdown",
   "metadata": {},
   "source": [
    "### With max_size = 10 and new data"
   ]
  },
  {
   "cell_type": "code",
   "execution_count": null,
   "metadata": {},
   "outputs": [],
   "source": [
    "windowfy(window_size=10, max_size=10, sample_weights_size=10, is_oversample=False, include_new_data=True)\n",
    "featurize(calculate_feats=True, include_feats=[\"first_prons\",\"sentiment\",\"nssi\"], train_users=)"
   ]
  },
  {
   "cell_type": "code",
   "execution_count": null,
   "metadata": {},
   "outputs": [],
   "source": [
    "do_train(model_name=\"cnn_model\", maxlen=1000, epochs=100, batch_size=32,\n",
    "         shuffle=True, patience=30)\n",
    "evaluate(1, 10, {\"test\":\"test\"})\n",
    "do_train(model_name=\"cnn_model\", maxlen=1000, epochs=100, batch_size=32,\n",
    "         shuffle=True, patience=30)\n",
    "evaluate(1, 10, {\"test\":\"test\"})\n",
    "do_train(model_name=\"cnn_model\", maxlen=1000, epochs=100, batch_size=32,\n",
    "         shuffle=True, patience=30)\n",
    "evaluate(1, 10, {\"test\":\"test\"})\n",
    "do_train(model_name=\"cnn_model\", maxlen=1000, epochs=100, batch_size=32,\n",
    "         shuffle=True, patience=30)\n",
    "evaluate(1, 10, {\"test\":\"test\"})\n",
    "do_train(model_name=\"cnn_model\", maxlen=1000, epochs=100, batch_size=32,\n",
    "         shuffle=True, patience=30)\n",
    "evaluate(1, 10, {\"test\":\"test\"})"
   ]
  },
  {
   "cell_type": "code",
   "execution_count": null,
   "metadata": {},
   "outputs": [],
   "source": [
    "do_train(model_name=\"lstm_model_32\", maxlen=1000, epochs=100, batch_size=32,\n",
    "         shuffle=True, patience=10)\n",
    "evaluate(1, 10, {\"test\":\"test\"})\n",
    "do_train(model_name=\"lstm_model_32\", maxlen=1000, epochs=100, batch_size=32,\n",
    "         shuffle=True, patience=10)\n",
    "evaluate(1, 10, {\"test\":\"test\"})\n",
    "do_train(model_name=\"lstm_model_32\", maxlen=1000, epochs=100, batch_size=32,\n",
    "         shuffle=True, patience=10)\n",
    "evaluate(1, 10, {\"test\":\"test\"})"
   ]
  },
  {
   "cell_type": "code",
   "execution_count": null,
   "metadata": {},
   "outputs": [],
   "source": [
    "do_train(model_name=\"ensemble_model\", maxlen=1000, epochs=100, batch_size=32,\n",
    "         shuffle=True, patience=10, model_names=[\"cnn_model\", \"lstm_model_32\"])\n",
    "evaluate(1, 10, {\"test\":\"test\"})"
   ]
  },
  {
   "cell_type": "code",
   "execution_count": 3,
   "metadata": {},
   "outputs": [],
   "source": [
    "### With max_size = 20"
   ]
  },
  {
   "cell_type": "code",
   "execution_count": null,
   "metadata": {},
   "outputs": [],
   "source": [
    "windowfy(window_size=10, max_size=20, sample_weights_size=10, is_oversample=False, include_new_data=True)\n",
    "featurize(calculate_feats=True, include_feats=[\"first_prons\",\"sentiment\",\"nssi\"])"
   ]
  },
  {
   "cell_type": "code",
   "execution_count": null,
   "metadata": {},
   "outputs": [],
   "source": [
    "do_train(model_name=\"cnn_model\", maxlen=1000, epochs=100, batch_size=32,\n",
    "         shuffle=True, patience=30)\n",
    "evaluate(1, 10, {\"test\":\"test\"})\n",
    "do_train(model_name=\"cnn_model\", maxlen=1000, epochs=100, batch_size=32,\n",
    "         shuffle=True, patience=30)\n",
    "evaluate(1, 10, {\"test\":\"test\"})\n",
    "do_train(model_name=\"cnn_model\", maxlen=1000, epochs=100, batch_size=32,\n",
    "         shuffle=True, patience=30)\n",
    "evaluate(1, 10, {\"test\":\"test\"})\n",
    "do_train(model_name=\"cnn_model\", maxlen=1000, epochs=100, batch_size=32,\n",
    "         shuffle=True, patience=30)\n",
    "evaluate(1, 10, {\"test\":\"test\"})\n",
    "do_train(model_name=\"cnn_model\", maxlen=1000, epochs=100, batch_size=32,\n",
    "         shuffle=True, patience=30)\n",
    "evaluate(1, 10, {\"test\":\"test\"})"
   ]
  },
  {
   "cell_type": "code",
   "execution_count": null,
   "metadata": {},
   "outputs": [],
   "source": [
    "do_train(model_name=\"lstm_model_32\", maxlen=1000, epochs=100, batch_size=32,\n",
    "         shuffle=True, patience=10)\n",
    "evaluate(1, 10, {\"test\":\"test\"})\n",
    "do_train(model_name=\"lstm_model_32\", maxlen=1000, epochs=100, batch_size=32,\n",
    "         shuffle=True, patience=10)\n",
    "evaluate(1, 10, {\"test\":\"test\"})\n",
    "do_train(model_name=\"lstm_model_32\", maxlen=1000, epochs=100, batch_size=32,\n",
    "         shuffle=True, patience=10)\n",
    "evaluate(1, 10, {\"test\":\"test\"})"
   ]
  },
  {
   "cell_type": "code",
   "execution_count": null,
   "metadata": {},
   "outputs": [],
   "source": [
    "do_train(model_name=\"ensemble_model\", maxlen=1000, epochs=100, batch_size=32,\n",
    "         shuffle=True, patience=10, model_names=[\"cnn_model\", \"lstm_model_32\"])\n",
    "evaluate(1, 10, {\"test\":\"test\"})"
   ]
  }
 ],
 "metadata": {
  "kernelspec": {
   "display_name": "Python 3",
   "language": "python",
   "name": "python3"
  },
  "language_info": {
   "codemirror_mode": {
    "name": "ipython",
    "version": 3
   },
   "file_extension": ".py",
   "mimetype": "text/x-python",
   "name": "python",
   "nbconvert_exporter": "python",
   "pygments_lexer": "ipython3",
   "version": "3.6.8"
  }
 },
 "nbformat": 4,
 "nbformat_minor": 4
}
