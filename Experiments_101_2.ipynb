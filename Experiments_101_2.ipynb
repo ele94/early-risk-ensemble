{
 "cells": [
  {
   "cell_type": "code",
   "execution_count": 1,
   "metadata": {},
   "outputs": [
    {
     "name": "stderr",
     "output_type": "stream",
     "text": [
      "/usr/local/lib/python3.6/site-packages/nltk/twitter/__init__.py:20: UserWarning: The twython library has not been installed. Some functionality from the twitter package will not be available.\n",
      "  warnings.warn(\"The twython library has not been installed. \"\n"
     ]
    }
   ],
   "source": [
    "from utils import *\n",
    "from preprocessing import preprocess\n",
    "from windowfy import windowfy\n",
    "from featurizing import featurize\n",
    "from training import train, do_ensemble, do_train\n",
    "from eval_erisk import evaluate\n",
    "from IPython.display import display, Markdown\n",
    "from itertools import product\n",
    "from numpy.random import seed\n",
    "import tensorflow"
   ]
  },
  {
   "cell_type": "code",
   "execution_count": 2,
   "metadata": {},
   "outputs": [
    {
     "name": "stdout",
     "output_type": "stream",
     "text": [
      "Initialized numpy random and tensorflow random seed at 42\n"
     ]
    }
   ],
   "source": [
    "seed(42)\n",
    "tensorflow.random.set_seed(42) \n",
    "logger(\"Initialized numpy random and tensorflow random seed at 42\")"
   ]
  },
  {
   "cell_type": "markdown",
   "metadata": {},
   "source": [
    "### With max_size = 10 and new data, sample_weights=10, oversample False, include_new_data=True"
   ]
  },
  {
   "cell_type": "code",
   "execution_count": 3,
   "metadata": {},
   "outputs": [
    {
     "name": "stdout",
     "output_type": "stream",
     "text": [
      "Windowfying training users\n",
      "[====================] 100%\n",
      "Windowfying test users\n",
      "[====================] 100%Data size: 967\n",
      "\n",
      "Finished windowfying\n",
      "Featurizing calculate_feats=True, normalize=False, discretize=False, discretize_size=10, include_feats=['first_prons']\n",
      "Initialized numpy random and tensorflow random seed at 42\n",
      "Data size: 967, 967\n",
      "Data size: 841, 841\n",
      "Calculating first prons\n",
      "Calculating first prons\n"
     ]
    }
   ],
   "source": [
    "train_users, y_train, test_users, y_test, train_samples, X_train, X_test = windowfy(window_size=10, max_size=10, sample_weights_size=10, is_oversample=False, include_new_data=True)\n",
    "\n",
    "\n",
    "feats_train, feats_test = featurize(calculate_feats=True, include_feats=[\"first_prons\"], \n",
    "                       train_users=train_users, test_users=test_users)\n",
    "batch_size=32"
   ]
  },
  {
   "cell_type": "code",
   "execution_count": 4,
   "metadata": {},
   "outputs": [
    {
     "name": "stdout",
     "output_type": "stream",
     "text": [
      "Starting training with cnn_model=cnn_model and maxlen=1000 and batch size=32\n",
      "Generating embeddings\n",
      "Data size: 967\n",
      "Training with callback\n",
      "Restoring model weights from the end of the best epoch.\n",
      "Epoch 00039: early stopping\n",
      "Evaluating\n",
      "27/27 [==============================] - 3s 24ms/step - loss: 0.9527 - tp: 135.0000 - fp: 168.0000 - tn: 468.0000 - fn: 70.0000 - accuracy: 0.7170 - precision: 0.4455 - recall: 0.6585 - f1_metric: 0.5072\n",
      "Test Score: 0.9527215361595154\n",
      "Test Accuracy: 135.0\n",
      "27/27 [==============================] - 1s 21ms/step\n",
      "Entered here\n",
      "              precision    recall  f1-score   support\n",
      "\n",
      "           0       0.87      0.74      0.80       636\n",
      "           1       0.45      0.66      0.53       205\n",
      "\n",
      "    accuracy                           0.72       841\n",
      "   macro avg       0.66      0.70      0.66       841\n",
      "weighted avg       0.77      0.72      0.73       841\n",
      "\n",
      "[[468 168]\n",
      " [ 70 135]]\n",
      "Finished training and evaluation\n",
      "{'precision': 0.43478260869565216, 'recall': 0.6730769230769231, 'F1': 0.5283018867924529, 'ERDE_5': 0.29834619110558963, 'ERDE_50': 0.13327073867288142, 'median_latency_tps': 11.0, 'median_penalty_tps': 0.03898023902249159, 'speed': 0.9610197609775084, 'latency_weighted_f1': 0.5077085529692498}\n",
      "Starting training with cnn_model=cnn_model and maxlen=1000 and batch size=32\n",
      "Generating embeddings\n",
      "Data size: 967\n",
      "Training with callback\n",
      "Restoring model weights from the end of the best epoch.\n",
      "Epoch 00039: early stopping\n",
      "Evaluating\n",
      "27/27 [==============================] - 2s 15ms/step - loss: 1.3595 - tp: 166.0000 - fp: 259.0000 - tn: 377.0000 - fn: 39.0000 - accuracy: 0.6457 - precision: 0.3906 - recall: 0.8098 - f1_metric: 0.4949\n",
      "Test Score: 1.3594658374786377\n",
      "Test Accuracy: 166.0\n",
      "27/27 [==============================] - 0s 11ms/step\n",
      "Entered here\n",
      "              precision    recall  f1-score   support\n",
      "\n",
      "           0       0.91      0.59      0.72       636\n",
      "           1       0.39      0.81      0.53       205\n",
      "\n",
      "    accuracy                           0.65       841\n",
      "   macro avg       0.65      0.70      0.62       841\n",
      "weighted avg       0.78      0.65      0.67       841\n",
      "\n",
      "[[377 259]\n",
      " [ 39 166]]\n",
      "Finished training and evaluation\n",
      "{'precision': 0.38738738738738737, 'recall': 0.8269230769230769, 'F1': 0.5276073619631901, 'ERDE_5': 0.32441198162258755, 'ERDE_50': 0.12160130554577513, 'median_latency_tps': 11.0, 'median_penalty_tps': 0.03898023902249159, 'speed': 0.9610197609775084, 'latency_weighted_f1': 0.5070411008838387}\n",
      "Starting training with cnn_model=cnn_model and maxlen=1000 and batch size=32\n",
      "Generating embeddings\n",
      "Data size: 967\n",
      "Training with callback\n",
      "Restoring model weights from the end of the best epoch.\n",
      "Epoch 00055: early stopping\n",
      "Evaluating\n",
      "27/27 [==============================] - 2s 15ms/step - loss: 0.7552 - tp: 115.0000 - fp: 86.0000 - tn: 550.0000 - fn: 90.0000 - accuracy: 0.7907 - precision: 0.5721 - recall: 0.5610 - f1_metric: 0.4807\n",
      "Test Score: 0.7552106380462646\n",
      "Test Accuracy: 115.0\n",
      "27/27 [==============================] - 0s 7ms/step\n",
      "Entered here\n",
      "              precision    recall  f1-score   support\n",
      "\n",
      "           0       0.86      0.86      0.86       636\n",
      "           1       0.57      0.56      0.57       205\n",
      "\n",
      "    accuracy                           0.79       841\n",
      "   macro avg       0.72      0.71      0.71       841\n",
      "weighted avg       0.79      0.79      0.79       841\n",
      "\n",
      "[[550  86]\n",
      " [ 90 115]]\n",
      "Finished training and evaluation\n",
      "{'precision': 0.5688073394495413, 'recall': 0.5961538461538461, 'F1': 0.5821596244131455, 'ERDE_5': 0.2728185648223267, 'ERDE_50': 0.12660887838192803, 'median_latency_tps': 11.0, 'median_penalty_tps': 0.03898023902249159, 'speed': 0.9610197609775084, 'latency_weighted_f1': 0.5594669031042772}\n",
      "Starting training with cnn_model=cnn_model and maxlen=1000 and batch size=32\n",
      "Generating embeddings\n",
      "Data size: 967\n",
      "Training with callback\n",
      "Restoring model weights from the end of the best epoch.\n",
      "Epoch 00031: early stopping\n",
      "Evaluating\n",
      "27/27 [==============================] - 2s 15ms/step - loss: 89.3014 - tp: 205.0000 - fp: 636.0000 - tn: 0.0000e+00 - fn: 0.0000e+00 - accuracy: 0.2438 - precision: 0.2438 - recall: 1.0000 - f1_metric: 0.3753\n",
      "Test Score: 89.3013916015625\n",
      "Test Accuracy: 205.0\n",
      "27/27 [==============================] - 0s 13ms/step\n",
      "Entered here\n",
      "              precision    recall  f1-score   support\n",
      "\n",
      "           0       0.00      0.00      0.00       636\n",
      "           1       0.24      1.00      0.39       205\n",
      "\n",
      "    accuracy                           0.24       841\n",
      "   macro avg       0.12      0.50      0.20       841\n",
      "weighted avg       0.06      0.24      0.10       841\n",
      "\n",
      "[[  0 636]\n",
      " [  0 205]]\n",
      "Finished training and evaluation\n",
      "{'precision': 0.2458628841607565, 'recall': 1.0, 'F1': 0.3946869070208729, 'ERDE_5': 0.43066928425293466, 'ERDE_50': 0.18541432635291089, 'median_latency_tps': 11.0, 'median_penalty_tps': 0.03898023902249159, 'speed': 0.9610197609775084, 'latency_weighted_f1': 0.37930191704615135}\n",
      "Starting training with cnn_model=cnn_model and maxlen=1000 and batch size=32\n",
      "Generating embeddings\n"
     ]
    },
    {
     "name": "stderr",
     "output_type": "stream",
     "text": [
      "/home/ecampillo/.local/lib/python3.6/site-packages/sklearn/metrics/_classification.py:1245: UndefinedMetricWarning: Precision and F-score are ill-defined and being set to 0.0 in labels with no predicted samples. Use `zero_division` parameter to control this behavior.\n",
      "  _warn_prf(average, modifier, msg_start, len(result))\n",
      "/home/ecampillo/.local/lib/python3.6/site-packages/sklearn/metrics/_classification.py:1245: UndefinedMetricWarning: Precision and F-score are ill-defined and being set to 0.0 in labels with no predicted samples. Use `zero_division` parameter to control this behavior.\n",
      "  _warn_prf(average, modifier, msg_start, len(result))\n",
      "/home/ecampillo/.local/lib/python3.6/site-packages/sklearn/metrics/_classification.py:1245: UndefinedMetricWarning: Precision and F-score are ill-defined and being set to 0.0 in labels with no predicted samples. Use `zero_division` parameter to control this behavior.\n",
      "  _warn_prf(average, modifier, msg_start, len(result))\n"
     ]
    },
    {
     "name": "stdout",
     "output_type": "stream",
     "text": [
      "Data size: 967\n",
      "Training with callback\n",
      "Restoring model weights from the end of the best epoch.\n",
      "Epoch 00049: early stopping\n",
      "Evaluating\n",
      "27/27 [==============================] - 2s 9ms/step - loss: 0.6203 - tp: 105.0000 - fp: 79.0000 - tn: 557.0000 - fn: 100.0000 - accuracy: 0.7872 - precision: 0.5707 - recall: 0.5122 - f1_metric: 0.4568\n",
      "Test Score: 0.6203367114067078\n",
      "Test Accuracy: 105.0\n",
      "27/27 [==============================] - 0s 7ms/step\n",
      "Entered here\n",
      "              precision    recall  f1-score   support\n",
      "\n",
      "           0       0.85      0.88      0.86       636\n",
      "           1       0.57      0.51      0.54       205\n",
      "\n",
      "    accuracy                           0.79       841\n",
      "   macro avg       0.71      0.69      0.70       841\n",
      "weighted avg       0.78      0.79      0.78       841\n",
      "\n",
      "[[557  79]\n",
      " [100 105]]\n",
      "Finished training and evaluation\n",
      "{'precision': 0.5686274509803921, 'recall': 0.5576923076923077, 'F1': 0.5631067961165048, 'ERDE_5': 0.27109823820328244, 'ERDE_50': 0.1343214347590385, 'median_latency_tps': 11.0, 'median_penalty_tps': 0.03898023902249159, 'speed': 0.9610197609775084, 'latency_weighted_f1': 0.541156758608694}\n"
     ]
    },
    {
     "data": {
      "text/plain": [
       "{'precision': 0.5686274509803921,\n",
       " 'recall': 0.5576923076923077,\n",
       " 'F1': 0.5631067961165048,\n",
       " 'ERDE_5': 0.27109823820328244,\n",
       " 'ERDE_50': 0.1343214347590385,\n",
       " 'median_latency_tps': 11.0,\n",
       " 'median_penalty_tps': 0.03898023902249159,\n",
       " 'speed': 0.9610197609775084,\n",
       " 'latency_weighted_f1': 0.541156758608694}"
      ]
     },
     "execution_count": 4,
     "metadata": {},
     "output_type": "execute_result"
    }
   ],
   "source": [
    "y_pred = do_train(model_name=\"cnn_model\", maxlen=1000, epochs=100, batch_size=batch_size,\n",
    "         shuffle=True, patience=30, feats_train=feats_train, feats_test=feats_test, \n",
    "         X_train=X_train, X_test=X_test, y_train=y_train, y_test=y_test, train_sample_weights=train_samples)\n",
    "evaluate(1, 10, {\"test\":\"test\"}, y_pred=y_pred, test_users=test_users)\n",
    "y_pred = do_train(model_name=\"cnn_model\", maxlen=1000, epochs=100, batch_size=batch_size,\n",
    "         shuffle=True, patience=30, feats_train=feats_train, feats_test=feats_test, \n",
    "         X_train=X_train, X_test=X_test, y_train=y_train, y_test=y_test, train_sample_weights=train_samples)\n",
    "evaluate(1, 10, {\"test\":\"test\"}, y_pred=y_pred, test_users=test_users)\n",
    "y_pred = do_train(model_name=\"cnn_model\", maxlen=1000, epochs=100, batch_size=batch_size,\n",
    "         shuffle=True, patience=30, feats_train=feats_train, feats_test=feats_test, \n",
    "         X_train=X_train, X_test=X_test, y_train=y_train, y_test=y_test, train_sample_weights=train_samples)\n",
    "evaluate(1, 10, {\"test\":\"test\"}, y_pred=y_pred, test_users=test_users)\n",
    "y_pred = do_train(model_name=\"cnn_model\", maxlen=1000, epochs=100, batch_size=batch_size,\n",
    "         shuffle=True, patience=30, feats_train=feats_train, feats_test=feats_test, \n",
    "         X_train=X_train, X_test=X_test, y_train=y_train, y_test=y_test, train_sample_weights=train_samples)\n",
    "evaluate(1, 10, {\"test\":\"test\"}, y_pred=y_pred, test_users=test_users)\n",
    "y_pred = do_train(model_name=\"cnn_model\", maxlen=1000, epochs=100, batch_size=batch_size,\n",
    "         shuffle=True, patience=30, feats_train=feats_train, feats_test=feats_test, \n",
    "         X_train=X_train, X_test=X_test, y_train=y_train, y_test=y_test, train_sample_weights=train_samples)\n",
    "evaluate(1, 10, {\"test\":\"test\"}, y_pred=y_pred, test_users=test_users)"
   ]
  },
  {
   "cell_type": "code",
   "execution_count": 5,
   "metadata": {},
   "outputs": [
    {
     "name": "stdout",
     "output_type": "stream",
     "text": [
      "Starting training with cnn_model=lstm_model_32 and maxlen=1000 and batch size=32\n",
      "Generating embeddings\n",
      "Data size: 967\n",
      "Training with callback\n",
      "Restoring model weights from the end of the best epoch.\n",
      "Epoch 00012: early stopping\n",
      "Evaluating\n",
      "27/27 [==============================] - 19s 538ms/step - loss: 1.2252 - tp: 143.0000 - fp: 210.0000 - tn: 426.0000 - fn: 62.0000 - accuracy: 0.6766 - precision: 0.4051 - recall: 0.6976 - f1_metric: 0.4503\n",
      "Test Score: 1.2251935005187988\n",
      "Test Accuracy: 143.0\n",
      "27/27 [==============================] - 17s 553ms/step\n",
      "Entered here\n",
      "              precision    recall  f1-score   support\n",
      "\n",
      "           0       0.87      0.67      0.76       636\n",
      "           1       0.41      0.70      0.51       205\n",
      "\n",
      "    accuracy                           0.68       841\n",
      "   macro avg       0.64      0.68      0.64       841\n",
      "weighted avg       0.76      0.68      0.70       841\n",
      "\n",
      "[[426 210]\n",
      " [ 62 143]]\n",
      "Finished training and evaluation\n",
      "{'precision': 0.39893617021276595, 'recall': 0.7211538461538461, 'F1': 0.5136986301369864, 'ERDE_5': 0.3111041588024063, 'ERDE_50': 0.13423760262450468, 'median_latency_tps': 11.0, 'median_penalty_tps': 0.03898023902249159, 'speed': 0.9610197609775084, 'latency_weighted_f1': 0.49367453474872014}\n",
      "Starting training with cnn_model=lstm_model_32 and maxlen=1000 and batch size=32\n",
      "Generating embeddings\n",
      "Data size: 967\n",
      "Training with callback\n",
      "Restoring model weights from the end of the best epoch.\n",
      "Epoch 00012: early stopping\n",
      "Evaluating\n",
      "27/27 [==============================] - 16s 435ms/step - loss: 1.3235 - tp: 104.0000 - fp: 202.0000 - tn: 434.0000 - fn: 101.0000 - accuracy: 0.6397 - precision: 0.3399 - recall: 0.5073 - f1_metric: 0.3535\n",
      "Test Score: 1.3234694004058838\n",
      "Test Accuracy: 104.0\n",
      "27/27 [==============================] - 15s 466ms/step\n",
      "Entered here\n",
      "              precision    recall  f1-score   support\n",
      "\n",
      "           0       0.81      0.68      0.74       636\n",
      "           1       0.34      0.51      0.41       205\n",
      "\n",
      "    accuracy                           0.64       841\n",
      "   macro avg       0.58      0.59      0.57       841\n",
      "weighted avg       0.70      0.64      0.66       841\n",
      "\n",
      "[[434 202]\n",
      " [101 104]]\n",
      "Finished training and evaluation\n",
      "{'precision': 0.3431952662721893, 'recall': 0.5576923076923077, 'F1': 0.4249084249084249, 'ERDE_5': 0.31004105909872137, 'ERDE_50': 0.17326425565447748, 'median_latency_tps': 11.0, 'median_penalty_tps': 0.03898023902249159, 'speed': 0.9610197609775084, 'latency_weighted_f1': 0.40834539294282407}\n",
      "Starting training with cnn_model=lstm_model_32 and maxlen=1000 and batch size=32\n",
      "Generating embeddings\n",
      "Data size: 967\n",
      "Training with callback\n",
      "Restoring model weights from the end of the best epoch.\n",
      "Epoch 00011: early stopping\n",
      "Evaluating\n",
      "27/27 [==============================] - 16s 399ms/step - loss: 57.7497 - tp: 205.0000 - fp: 636.0000 - tn: 0.0000e+00 - fn: 0.0000e+00 - accuracy: 0.2438 - precision: 0.2438 - recall: 1.0000 - f1_metric: 0.3753\n",
      "Test Score: 57.74967575073242\n",
      "Test Accuracy: 205.0\n",
      "27/27 [==============================] - 14s 438ms/step\n",
      "Entered here\n",
      "              precision    recall  f1-score   support\n",
      "\n",
      "           0       0.00      0.00      0.00       636\n",
      "           1       0.24      1.00      0.39       205\n",
      "\n",
      "    accuracy                           0.24       841\n",
      "   macro avg       0.12      0.50      0.20       841\n",
      "weighted avg       0.06      0.24      0.10       841\n",
      "\n",
      "[[  0 636]\n",
      " [  0 205]]\n",
      "Finished training and evaluation\n",
      "{'precision': 0.2458628841607565, 'recall': 1.0, 'F1': 0.3946869070208729, 'ERDE_5': 0.43066928425293466, 'ERDE_50': 0.18541432635291089, 'median_latency_tps': 11.0, 'median_penalty_tps': 0.03898023902249159, 'speed': 0.9610197609775084, 'latency_weighted_f1': 0.37930191704615135}\n"
     ]
    },
    {
     "name": "stderr",
     "output_type": "stream",
     "text": [
      "/home/ecampillo/.local/lib/python3.6/site-packages/sklearn/metrics/_classification.py:1245: UndefinedMetricWarning: Precision and F-score are ill-defined and being set to 0.0 in labels with no predicted samples. Use `zero_division` parameter to control this behavior.\n",
      "  _warn_prf(average, modifier, msg_start, len(result))\n",
      "/home/ecampillo/.local/lib/python3.6/site-packages/sklearn/metrics/_classification.py:1245: UndefinedMetricWarning: Precision and F-score are ill-defined and being set to 0.0 in labels with no predicted samples. Use `zero_division` parameter to control this behavior.\n",
      "  _warn_prf(average, modifier, msg_start, len(result))\n",
      "/home/ecampillo/.local/lib/python3.6/site-packages/sklearn/metrics/_classification.py:1245: UndefinedMetricWarning: Precision and F-score are ill-defined and being set to 0.0 in labels with no predicted samples. Use `zero_division` parameter to control this behavior.\n",
      "  _warn_prf(average, modifier, msg_start, len(result))\n"
     ]
    },
    {
     "data": {
      "text/plain": [
       "{'precision': 0.2458628841607565,\n",
       " 'recall': 1.0,\n",
       " 'F1': 0.3946869070208729,\n",
       " 'ERDE_5': 0.43066928425293466,\n",
       " 'ERDE_50': 0.18541432635291089,\n",
       " 'median_latency_tps': 11.0,\n",
       " 'median_penalty_tps': 0.03898023902249159,\n",
       " 'speed': 0.9610197609775084,\n",
       " 'latency_weighted_f1': 0.37930191704615135}"
      ]
     },
     "execution_count": 5,
     "metadata": {},
     "output_type": "execute_result"
    }
   ],
   "source": [
    "y_pred = do_train(model_name=\"lstm_model_32\", maxlen=1000, epochs=100, batch_size=batch_size,\n",
    "         shuffle=True, patience=10, feats_train=feats_train, feats_test=feats_test, \n",
    "         X_train=X_train, X_test=X_test, y_train=y_train, y_test=y_test, train_sample_weights=train_samples)\n",
    "evaluate(1, 10, {\"test\":\"test\"}, y_pred=y_pred, test_users=test_users)\n",
    "y_pred = do_train(model_name=\"lstm_model_32\", maxlen=1000, epochs=100, batch_size=batch_size,\n",
    "         shuffle=True, patience=10, feats_train=feats_train, feats_test=feats_test, \n",
    "         X_train=X_train, X_test=X_test, y_train=y_train, y_test=y_test, train_sample_weights=train_samples)\n",
    "evaluate(1, 10, {\"test\":\"test\"}, y_pred=y_pred, test_users=test_users)\n",
    "y_pred = do_train(model_name=\"lstm_model_32\", maxlen=1000, epochs=100, batch_size=batch_size,\n",
    "         shuffle=True, patience=10, feats_train=feats_train, feats_test=feats_test, \n",
    "         X_train=X_train, X_test=X_test, y_train=y_train, y_test=y_test, train_sample_weights=train_samples)\n",
    "evaluate(1, 10, {\"test\":\"test\"}, y_pred=y_pred, test_users=test_users)"
   ]
  },
  {
   "cell_type": "code",
   "execution_count": 6,
   "metadata": {},
   "outputs": [
    {
     "ename": "ValueError",
     "evalue": "Cannot assign to variable dense_2/kernel:0 due to variable shape (67, 32) and value shape (72, 32) are incompatible",
     "output_type": "error",
     "traceback": [
      "\u001b[0;31m---------------------------------------------------------------------------\u001b[0m",
      "\u001b[0;31mValueError\u001b[0m                                Traceback (most recent call last)",
      "\u001b[0;32m<ipython-input-6-c593ad39de92>\u001b[0m in \u001b[0;36m<module>\u001b[0;34m\u001b[0m\n\u001b[1;32m      1\u001b[0m y_pred = do_train(model_name=\"ensemble_model\", maxlen=1000, epochs=100, batch_size=batch_size,\n\u001b[1;32m      2\u001b[0m          \u001b[0mshuffle\u001b[0m\u001b[0;34m=\u001b[0m\u001b[0;32mTrue\u001b[0m\u001b[0;34m,\u001b[0m \u001b[0mpatience\u001b[0m\u001b[0;34m=\u001b[0m\u001b[0;36m10\u001b[0m\u001b[0;34m,\u001b[0m \u001b[0mmodel_names\u001b[0m\u001b[0;34m=\u001b[0m\u001b[0;34m[\u001b[0m\u001b[0;34m\"cnn_model\"\u001b[0m\u001b[0;34m,\u001b[0m \u001b[0;34m\"lstm_model_32\"\u001b[0m\u001b[0;34m]\u001b[0m\u001b[0;34m,\u001b[0m \u001b[0mfeats_train\u001b[0m\u001b[0;34m=\u001b[0m\u001b[0mfeats_train\u001b[0m\u001b[0;34m,\u001b[0m \u001b[0mfeats_test\u001b[0m\u001b[0;34m=\u001b[0m\u001b[0mfeats_test\u001b[0m\u001b[0;34m,\u001b[0m\u001b[0;34m\u001b[0m\u001b[0;34m\u001b[0m\u001b[0m\n\u001b[0;32m----> 3\u001b[0;31m          X_train=X_train, X_test=X_test, y_train=y_train, y_test=y_test)\n\u001b[0m\u001b[1;32m      4\u001b[0m \u001b[0mevaluate\u001b[0m\u001b[0;34m(\u001b[0m\u001b[0;36m1\u001b[0m\u001b[0;34m,\u001b[0m \u001b[0;36m10\u001b[0m\u001b[0;34m,\u001b[0m \u001b[0;34m{\u001b[0m\u001b[0;34m\"test\"\u001b[0m\u001b[0;34m:\u001b[0m\u001b[0;34m\"test\"\u001b[0m\u001b[0;34m}\u001b[0m\u001b[0;34m,\u001b[0m \u001b[0my_pred\u001b[0m\u001b[0;34m=\u001b[0m\u001b[0my_pred\u001b[0m\u001b[0;34m,\u001b[0m \u001b[0mtest_users\u001b[0m\u001b[0;34m=\u001b[0m\u001b[0mtest_users\u001b[0m\u001b[0;34m)\u001b[0m\u001b[0;34m\u001b[0m\u001b[0;34m\u001b[0m\u001b[0m\n",
      "\u001b[0;32m/datos/ecampillo/jupyter/dl-notebooks/newensemble/early-risk-ensemble/training.py\u001b[0m in \u001b[0;36mdo_train\u001b[0;34m(model_name, maxlen, epochs, early_epochs, batch_size, shuffle, patience, model_names, early_stopping, validation_split, feats_train, feats_test, X_train, X_test, y_train, y_test, train_sample_weights, save)\u001b[0m\n\u001b[1;32m     40\u001b[0m     \u001b[0;32mif\u001b[0m \u001b[0mmodel_name\u001b[0m \u001b[0;32mis\u001b[0m \u001b[0;34m\"ensemble_model\"\u001b[0m\u001b[0;34m:\u001b[0m\u001b[0;34m\u001b[0m\u001b[0;34m\u001b[0m\u001b[0m\n\u001b[1;32m     41\u001b[0m         y_pred = do_ensemble(maxlen, batch_size, shuffle, model_names, feats_train, feats_test, X_train, X_test,\n\u001b[0;32m---> 42\u001b[0;31m                              y_train, y_test, save)\n\u001b[0m\u001b[1;32m     43\u001b[0m     \u001b[0;32melse\u001b[0m\u001b[0;34m:\u001b[0m\u001b[0;34m\u001b[0m\u001b[0;34m\u001b[0m\u001b[0m\n\u001b[1;32m     44\u001b[0m         y_pred = train(model_name, maxlen, epochs, early_epochs, batch_size, shuffle, patience, early_stopping, \n",
      "\u001b[0;32m/datos/ecampillo/jupyter/dl-notebooks/newensemble/early-risk-ensemble/training.py\u001b[0m in \u001b[0;36mdo_ensemble\u001b[0;34m(maxlen, batch_size, shuffle, model_names, feats_train, feats_test, X_train, X_test, y_train, y_test, save)\u001b[0m\n\u001b[1;32m     89\u001b[0m     \u001b[0;31m# reload trained weights\u001b[0m\u001b[0;34m\u001b[0m\u001b[0;34m\u001b[0m\u001b[0;34m\u001b[0m\u001b[0m\n\u001b[1;32m     90\u001b[0m     \u001b[0;32mfor\u001b[0m \u001b[0mi\u001b[0m \u001b[0;32min\u001b[0m \u001b[0mrange\u001b[0m\u001b[0;34m(\u001b[0m\u001b[0;36m0\u001b[0m\u001b[0;34m,\u001b[0m \u001b[0mlen\u001b[0m\u001b[0;34m(\u001b[0m\u001b[0mmodels\u001b[0m\u001b[0;34m)\u001b[0m\u001b[0;34m)\u001b[0m\u001b[0;34m:\u001b[0m\u001b[0;34m\u001b[0m\u001b[0;34m\u001b[0m\u001b[0m\n\u001b[0;32m---> 91\u001b[0;31m         \u001b[0mmodels\u001b[0m\u001b[0;34m[\u001b[0m\u001b[0mi\u001b[0m\u001b[0;34m]\u001b[0m\u001b[0;34m.\u001b[0m\u001b[0mload_weights\u001b[0m\u001b[0;34m(\u001b[0m\u001b[0;34m\"models/{}{}{}{}.hdf5\"\u001b[0m\u001b[0;34m.\u001b[0m\u001b[0mformat\u001b[0m\u001b[0;34m(\u001b[0m\u001b[0mmodels\u001b[0m\u001b[0;34m[\u001b[0m\u001b[0mi\u001b[0m\u001b[0;34m]\u001b[0m\u001b[0;34m.\u001b[0m\u001b[0mname\u001b[0m\u001b[0;34m,\u001b[0m \u001b[0mmaxlen\u001b[0m\u001b[0;34m,\u001b[0m \u001b[0mbatch_size\u001b[0m\u001b[0;34m,\u001b[0m \u001b[0mshuffle\u001b[0m\u001b[0;34m)\u001b[0m\u001b[0;34m)\u001b[0m\u001b[0;34m\u001b[0m\u001b[0;34m\u001b[0m\u001b[0m\n\u001b[0m\u001b[1;32m     92\u001b[0m \u001b[0;34m\u001b[0m\u001b[0m\n\u001b[1;32m     93\u001b[0m     \u001b[0;31m# reload trained weights\u001b[0m\u001b[0;34m\u001b[0m\u001b[0;34m\u001b[0m\u001b[0;34m\u001b[0m\u001b[0m\n",
      "\u001b[0;32m/usr/local/lib64/python3.6/site-packages/tensorflow/python/keras/engine/training.py\u001b[0m in \u001b[0;36mload_weights\u001b[0;34m(self, filepath, by_name, skip_mismatch, options)\u001b[0m\n\u001b[1;32m   2324\u001b[0m             f, self.layers, skip_mismatch=skip_mismatch)\n\u001b[1;32m   2325\u001b[0m       \u001b[0;32melse\u001b[0m\u001b[0;34m:\u001b[0m\u001b[0;34m\u001b[0m\u001b[0;34m\u001b[0m\u001b[0m\n\u001b[0;32m-> 2326\u001b[0;31m         \u001b[0mhdf5_format\u001b[0m\u001b[0;34m.\u001b[0m\u001b[0mload_weights_from_hdf5_group\u001b[0m\u001b[0;34m(\u001b[0m\u001b[0mf\u001b[0m\u001b[0;34m,\u001b[0m \u001b[0mself\u001b[0m\u001b[0;34m.\u001b[0m\u001b[0mlayers\u001b[0m\u001b[0;34m)\u001b[0m\u001b[0;34m\u001b[0m\u001b[0;34m\u001b[0m\u001b[0m\n\u001b[0m\u001b[1;32m   2327\u001b[0m \u001b[0;34m\u001b[0m\u001b[0m\n\u001b[1;32m   2328\u001b[0m   \u001b[0;32mdef\u001b[0m \u001b[0m_updated_config\u001b[0m\u001b[0;34m(\u001b[0m\u001b[0mself\u001b[0m\u001b[0;34m)\u001b[0m\u001b[0;34m:\u001b[0m\u001b[0;34m\u001b[0m\u001b[0;34m\u001b[0m\u001b[0m\n",
      "\u001b[0;32m/usr/local/lib64/python3.6/site-packages/tensorflow/python/keras/saving/hdf5_format.py\u001b[0m in \u001b[0;36mload_weights_from_hdf5_group\u001b[0;34m(f, layers)\u001b[0m\n\u001b[1;32m    711\u001b[0m                        str(len(weight_values)) + ' elements.')\n\u001b[1;32m    712\u001b[0m     \u001b[0mweight_value_tuples\u001b[0m \u001b[0;34m+=\u001b[0m \u001b[0mzip\u001b[0m\u001b[0;34m(\u001b[0m\u001b[0msymbolic_weights\u001b[0m\u001b[0;34m,\u001b[0m \u001b[0mweight_values\u001b[0m\u001b[0;34m)\u001b[0m\u001b[0;34m\u001b[0m\u001b[0;34m\u001b[0m\u001b[0m\n\u001b[0;32m--> 713\u001b[0;31m   \u001b[0mbackend\u001b[0m\u001b[0;34m.\u001b[0m\u001b[0mbatch_set_value\u001b[0m\u001b[0;34m(\u001b[0m\u001b[0mweight_value_tuples\u001b[0m\u001b[0;34m)\u001b[0m\u001b[0;34m\u001b[0m\u001b[0;34m\u001b[0m\u001b[0m\n\u001b[0m\u001b[1;32m    714\u001b[0m \u001b[0;34m\u001b[0m\u001b[0m\n\u001b[1;32m    715\u001b[0m \u001b[0;34m\u001b[0m\u001b[0m\n",
      "\u001b[0;32m/usr/local/lib64/python3.6/site-packages/tensorflow/python/util/dispatch.py\u001b[0m in \u001b[0;36mwrapper\u001b[0;34m(*args, **kwargs)\u001b[0m\n\u001b[1;32m    204\u001b[0m     \u001b[0;34m\"\"\"Call target, and fall back on dispatchers if there is a TypeError.\"\"\"\u001b[0m\u001b[0;34m\u001b[0m\u001b[0;34m\u001b[0m\u001b[0m\n\u001b[1;32m    205\u001b[0m     \u001b[0;32mtry\u001b[0m\u001b[0;34m:\u001b[0m\u001b[0;34m\u001b[0m\u001b[0;34m\u001b[0m\u001b[0m\n\u001b[0;32m--> 206\u001b[0;31m       \u001b[0;32mreturn\u001b[0m \u001b[0mtarget\u001b[0m\u001b[0;34m(\u001b[0m\u001b[0;34m*\u001b[0m\u001b[0margs\u001b[0m\u001b[0;34m,\u001b[0m \u001b[0;34m**\u001b[0m\u001b[0mkwargs\u001b[0m\u001b[0;34m)\u001b[0m\u001b[0;34m\u001b[0m\u001b[0;34m\u001b[0m\u001b[0m\n\u001b[0m\u001b[1;32m    207\u001b[0m     \u001b[0;32mexcept\u001b[0m \u001b[0;34m(\u001b[0m\u001b[0mTypeError\u001b[0m\u001b[0;34m,\u001b[0m \u001b[0mValueError\u001b[0m\u001b[0;34m)\u001b[0m\u001b[0;34m:\u001b[0m\u001b[0;34m\u001b[0m\u001b[0;34m\u001b[0m\u001b[0m\n\u001b[1;32m    208\u001b[0m       \u001b[0;31m# Note: convert_to_eager_tensor currently raises a ValueError, not a\u001b[0m\u001b[0;34m\u001b[0m\u001b[0;34m\u001b[0m\u001b[0;34m\u001b[0m\u001b[0m\n",
      "\u001b[0;32m/usr/local/lib64/python3.6/site-packages/tensorflow/python/keras/backend.py\u001b[0m in \u001b[0;36mbatch_set_value\u001b[0;34m(tuples)\u001b[0m\n\u001b[1;32m   3802\u001b[0m   \u001b[0;32mif\u001b[0m \u001b[0mops\u001b[0m\u001b[0;34m.\u001b[0m\u001b[0mexecuting_eagerly_outside_functions\u001b[0m\u001b[0;34m(\u001b[0m\u001b[0;34m)\u001b[0m\u001b[0;34m:\u001b[0m\u001b[0;34m\u001b[0m\u001b[0;34m\u001b[0m\u001b[0m\n\u001b[1;32m   3803\u001b[0m     \u001b[0;32mfor\u001b[0m \u001b[0mx\u001b[0m\u001b[0;34m,\u001b[0m \u001b[0mvalue\u001b[0m \u001b[0;32min\u001b[0m \u001b[0mtuples\u001b[0m\u001b[0;34m:\u001b[0m\u001b[0;34m\u001b[0m\u001b[0;34m\u001b[0m\u001b[0m\n\u001b[0;32m-> 3804\u001b[0;31m       \u001b[0mx\u001b[0m\u001b[0;34m.\u001b[0m\u001b[0massign\u001b[0m\u001b[0;34m(\u001b[0m\u001b[0mnp\u001b[0m\u001b[0;34m.\u001b[0m\u001b[0masarray\u001b[0m\u001b[0;34m(\u001b[0m\u001b[0mvalue\u001b[0m\u001b[0;34m,\u001b[0m \u001b[0mdtype\u001b[0m\u001b[0;34m=\u001b[0m\u001b[0mdtype_numpy\u001b[0m\u001b[0;34m(\u001b[0m\u001b[0mx\u001b[0m\u001b[0;34m)\u001b[0m\u001b[0;34m)\u001b[0m\u001b[0;34m)\u001b[0m\u001b[0;34m\u001b[0m\u001b[0;34m\u001b[0m\u001b[0m\n\u001b[0m\u001b[1;32m   3805\u001b[0m   \u001b[0;32melse\u001b[0m\u001b[0;34m:\u001b[0m\u001b[0;34m\u001b[0m\u001b[0;34m\u001b[0m\u001b[0m\n\u001b[1;32m   3806\u001b[0m     \u001b[0;32mwith\u001b[0m \u001b[0mget_graph\u001b[0m\u001b[0;34m(\u001b[0m\u001b[0;34m)\u001b[0m\u001b[0;34m.\u001b[0m\u001b[0mas_default\u001b[0m\u001b[0;34m(\u001b[0m\u001b[0;34m)\u001b[0m\u001b[0;34m:\u001b[0m\u001b[0;34m\u001b[0m\u001b[0;34m\u001b[0m\u001b[0m\n",
      "\u001b[0;32m/usr/local/lib64/python3.6/site-packages/tensorflow/python/ops/resource_variable_ops.py\u001b[0m in \u001b[0;36massign\u001b[0;34m(self, value, use_locking, name, read_value)\u001b[0m\n\u001b[1;32m    899\u001b[0m             (\"Cannot assign to variable%s due to variable shape %s and value \"\n\u001b[1;32m    900\u001b[0m              \"shape %s are incompatible\") %\n\u001b[0;32m--> 901\u001b[0;31m             (tensor_name, self._shape, value_tensor.shape))\n\u001b[0m\u001b[1;32m    902\u001b[0m       assign_op = gen_resource_variable_ops.assign_variable_op(\n\u001b[1;32m    903\u001b[0m           self.handle, value_tensor, name=name)\n",
      "\u001b[0;31mValueError\u001b[0m: Cannot assign to variable dense_2/kernel:0 due to variable shape (67, 32) and value shape (72, 32) are incompatible"
     ]
    }
   ],
   "source": [
    "y_pred = do_train(model_name=\"ensemble_model\", maxlen=1000, epochs=100, batch_size=batch_size,\n",
    "         shuffle=True, patience=10, model_names=[\"cnn_model\", \"lstm_model_32\"], feats_train=feats_train, feats_test=feats_test, \n",
    "         X_train=X_train, X_test=X_test, y_train=y_train, y_test=y_test)\n",
    "evaluate(1, 10, {\"test\":\"test\"}, y_pred=y_pred, test_users=test_users)"
   ]
  },
  {
   "cell_type": "code",
   "execution_count": 7,
   "metadata": {},
   "outputs": [],
   "source": [
    "# with different batch_size and all that"
   ]
  },
  {
   "cell_type": "code",
   "execution_count": 8,
   "metadata": {},
   "outputs": [],
   "source": [
    "model_name=\"lstm_model_16\"\n",
    "patience=10"
   ]
  },
  {
   "cell_type": "code",
   "execution_count": 9,
   "metadata": {},
   "outputs": [
    {
     "name": "stdout",
     "output_type": "stream",
     "text": [
      "Starting training with cnn_model=lstm_model_16 and maxlen=1000 and batch size=32\n",
      "Generating embeddings\n",
      "Data size: 967\n",
      "Training with callback\n",
      "Restoring model weights from the end of the best epoch.\n",
      "Epoch 00011: early stopping\n",
      "Evaluating\n",
      "27/27 [==============================] - 4s 99ms/step - loss: 27.4870 - tp: 205.0000 - fp: 636.0000 - tn: 0.0000e+00 - fn: 0.0000e+00 - accuracy: 0.2438 - precision: 0.2438 - recall: 1.0000 - f1_metric: 0.3753\n",
      "Test Score: 27.48702049255371\n",
      "Test Accuracy: 205.0\n",
      "27/27 [==============================] - 3s 98ms/step\n",
      "Entered here\n",
      "              precision    recall  f1-score   support\n",
      "\n",
      "           0       0.00      0.00      0.00       636\n",
      "           1       0.24      1.00      0.39       205\n",
      "\n",
      "    accuracy                           0.24       841\n",
      "   macro avg       0.12      0.50      0.20       841\n",
      "weighted avg       0.06      0.24      0.10       841\n",
      "\n",
      "[[  0 636]\n",
      " [  0 205]]\n",
      "Finished training and evaluation\n",
      "{'precision': 0.2458628841607565, 'recall': 1.0, 'F1': 0.3946869070208729, 'ERDE_5': 0.43066928425293466, 'ERDE_50': 0.18541432635291089, 'median_latency_tps': 11.0, 'median_penalty_tps': 0.03898023902249159, 'speed': 0.9610197609775084, 'latency_weighted_f1': 0.37930191704615135}\n",
      "Starting training with cnn_model=lstm_model_16 and maxlen=1000 and batch size=32\n",
      "Generating embeddings\n"
     ]
    },
    {
     "name": "stderr",
     "output_type": "stream",
     "text": [
      "/home/ecampillo/.local/lib/python3.6/site-packages/sklearn/metrics/_classification.py:1245: UndefinedMetricWarning: Precision and F-score are ill-defined and being set to 0.0 in labels with no predicted samples. Use `zero_division` parameter to control this behavior.\n",
      "  _warn_prf(average, modifier, msg_start, len(result))\n",
      "/home/ecampillo/.local/lib/python3.6/site-packages/sklearn/metrics/_classification.py:1245: UndefinedMetricWarning: Precision and F-score are ill-defined and being set to 0.0 in labels with no predicted samples. Use `zero_division` parameter to control this behavior.\n",
      "  _warn_prf(average, modifier, msg_start, len(result))\n",
      "/home/ecampillo/.local/lib/python3.6/site-packages/sklearn/metrics/_classification.py:1245: UndefinedMetricWarning: Precision and F-score are ill-defined and being set to 0.0 in labels with no predicted samples. Use `zero_division` parameter to control this behavior.\n",
      "  _warn_prf(average, modifier, msg_start, len(result))\n"
     ]
    },
    {
     "name": "stdout",
     "output_type": "stream",
     "text": [
      "Data size: 967\n",
      "Training with callback\n",
      "Restoring model weights from the end of the best epoch.\n",
      "Epoch 00017: early stopping\n",
      "Evaluating\n",
      "27/27 [==============================] - 8s 181ms/step - loss: 0.6991 - tp: 137.0000 - fp: 159.0000 - tn: 477.0000 - fn: 68.0000 - accuracy: 0.7301 - precision: 0.4628 - recall: 0.6683 - f1_metric: 0.4831\n",
      "Test Score: 0.6990692615509033\n",
      "Test Accuracy: 137.0\n",
      "27/27 [==============================] - 6s 179ms/step\n",
      "Entered here\n",
      "              precision    recall  f1-score   support\n",
      "\n",
      "           0       0.88      0.75      0.81       636\n",
      "           1       0.46      0.67      0.55       205\n",
      "\n",
      "    accuracy                           0.73       841\n",
      "   macro avg       0.67      0.71      0.68       841\n",
      "weighted avg       0.77      0.73      0.74       841\n",
      "\n",
      "[[477 159]\n",
      " [ 68 137]]\n",
      "Finished training and evaluation\n",
      "{'precision': 0.45, 'recall': 0.6923076923076923, 'F1': 0.5454545454545455, 'ERDE_5': 0.29659448347714207, 'ERDE_50': 0.12679889788687132, 'median_latency_tps': 11.0, 'median_penalty_tps': 0.03898023902249159, 'speed': 0.9610197609775084, 'latency_weighted_f1': 0.5241925968968228}\n",
      "Starting training with cnn_model=lstm_model_16 and maxlen=1000 and batch size=32\n",
      "Generating embeddings\n",
      "Data size: 967\n",
      "Training with callback\n",
      "Restoring model weights from the end of the best epoch.\n",
      "Epoch 00024: early stopping\n",
      "Evaluating\n",
      "27/27 [==============================] - 6s 134ms/step - loss: 0.9452 - tp: 143.0000 - fp: 199.0000 - tn: 437.0000 - fn: 62.0000 - accuracy: 0.6897 - precision: 0.4181 - recall: 0.6976 - f1_metric: 0.4848\n",
      "Test Score: 0.9451727271080017\n",
      "Test Accuracy: 143.0\n",
      "27/27 [==============================] - 5s 134ms/step\n",
      "Entered here\n",
      "              precision    recall  f1-score   support\n",
      "\n",
      "           0       0.88      0.69      0.77       636\n",
      "           1       0.42      0.70      0.52       205\n",
      "\n",
      "    accuracy                           0.69       841\n",
      "   macro avg       0.65      0.69      0.65       841\n",
      "weighted avg       0.76      0.69      0.71       841\n",
      "\n",
      "[[437 199]\n",
      " [ 62 143]]\n",
      "Finished training and evaluation\n",
      "{'precision': 0.3978494623655914, 'recall': 0.7115384615384616, 'F1': 0.5103448275862068, 'ERDE_5': 0.3105324597739385, 'ERDE_50': 0.13602043268559036, 'median_latency_tps': 11.0, 'median_penalty_tps': 0.03898023902249159, 'speed': 0.9610197609775084, 'latency_weighted_f1': 0.49045146422300423}\n"
     ]
    },
    {
     "data": {
      "text/plain": [
       "{'precision': 0.3978494623655914,\n",
       " 'recall': 0.7115384615384616,\n",
       " 'F1': 0.5103448275862068,\n",
       " 'ERDE_5': 0.3105324597739385,\n",
       " 'ERDE_50': 0.13602043268559036,\n",
       " 'median_latency_tps': 11.0,\n",
       " 'median_penalty_tps': 0.03898023902249159,\n",
       " 'speed': 0.9610197609775084,\n",
       " 'latency_weighted_f1': 0.49045146422300423}"
      ]
     },
     "execution_count": 9,
     "metadata": {},
     "output_type": "execute_result"
    }
   ],
   "source": [
    "y_pred = do_train(model_name=model_name, maxlen=1000, epochs=100, batch_size=batch_size,\n",
    "         shuffle=True, patience=patience, feats_train=feats_train, feats_test=feats_test, \n",
    "         X_train=X_train, X_test=X_test, y_train=y_train, y_test=y_test, train_sample_weights=train_samples)\n",
    "evaluate(1, 10, {\"test\":\"test\"}, y_pred=y_pred, test_users=test_users)\n",
    "y_pred = do_train(model_name=model_name, maxlen=1000, epochs=100, batch_size=batch_size,\n",
    "         shuffle=True, patience=patience, feats_train=feats_train, feats_test=feats_test, \n",
    "         X_train=X_train, X_test=X_test, y_train=y_train, y_test=y_test, train_sample_weights=train_samples)\n",
    "evaluate(1, 10, {\"test\":\"test\"}, y_pred=y_pred, test_users=test_users)\n",
    "y_pred = do_train(model_name=model_name, maxlen=1000, epochs=100, batch_size=batch_size,\n",
    "         shuffle=True, patience=patience, feats_train=feats_train, feats_test=feats_test, \n",
    "         X_train=X_train, X_test=X_test, y_train=y_train, y_test=y_test, train_sample_weights=train_samples)\n",
    "evaluate(1, 10, {\"test\":\"test\"}, y_pred=y_pred, test_users=test_users)"
   ]
  },
  {
   "cell_type": "code",
   "execution_count": 10,
   "metadata": {},
   "outputs": [
    {
     "ename": "ValueError",
     "evalue": "Cannot assign to variable embedding_1/embeddings:0 due to variable shape (14941, 100) and value shape (20883, 100) are incompatible",
     "output_type": "error",
     "traceback": [
      "\u001b[0;31m---------------------------------------------------------------------------\u001b[0m",
      "\u001b[0;31mValueError\u001b[0m                                Traceback (most recent call last)",
      "\u001b[0;32m<ipython-input-10-ad9fa81eac8d>\u001b[0m in \u001b[0;36m<module>\u001b[0;34m\u001b[0m\n\u001b[1;32m      1\u001b[0m y_pred = do_train(model_name=\"ensemble_model\", maxlen=1000, epochs=100, batch_size=batch_size,\n\u001b[1;32m      2\u001b[0m          \u001b[0mshuffle\u001b[0m\u001b[0;34m=\u001b[0m\u001b[0;32mTrue\u001b[0m\u001b[0;34m,\u001b[0m \u001b[0mpatience\u001b[0m\u001b[0;34m=\u001b[0m\u001b[0mpatience\u001b[0m\u001b[0;34m,\u001b[0m \u001b[0mmodel_names\u001b[0m\u001b[0;34m=\u001b[0m\u001b[0;34m[\u001b[0m\u001b[0;34m\"cnn_model\"\u001b[0m\u001b[0;34m,\u001b[0m \u001b[0mmodel_name\u001b[0m\u001b[0;34m]\u001b[0m\u001b[0;34m,\u001b[0m \u001b[0mfeats_train\u001b[0m\u001b[0;34m=\u001b[0m\u001b[0mfeats_train\u001b[0m\u001b[0;34m,\u001b[0m \u001b[0mfeats_test\u001b[0m\u001b[0;34m=\u001b[0m\u001b[0mfeats_test\u001b[0m\u001b[0;34m,\u001b[0m\u001b[0;34m\u001b[0m\u001b[0;34m\u001b[0m\u001b[0m\n\u001b[0;32m----> 3\u001b[0;31m          X_train=X_train, X_test=X_test, y_train=y_train, y_test=y_test)\n\u001b[0m\u001b[1;32m      4\u001b[0m \u001b[0mevaluate\u001b[0m\u001b[0;34m(\u001b[0m\u001b[0;36m1\u001b[0m\u001b[0;34m,\u001b[0m \u001b[0;36m10\u001b[0m\u001b[0;34m,\u001b[0m \u001b[0;34m{\u001b[0m\u001b[0;34m\"test\"\u001b[0m\u001b[0;34m:\u001b[0m\u001b[0;34m\"test\"\u001b[0m\u001b[0;34m}\u001b[0m\u001b[0;34m,\u001b[0m \u001b[0my_pred\u001b[0m\u001b[0;34m=\u001b[0m\u001b[0my_pred\u001b[0m\u001b[0;34m,\u001b[0m \u001b[0mtest_users\u001b[0m\u001b[0;34m=\u001b[0m\u001b[0mtest_users\u001b[0m\u001b[0;34m)\u001b[0m\u001b[0;34m\u001b[0m\u001b[0;34m\u001b[0m\u001b[0m\n",
      "\u001b[0;32m/datos/ecampillo/jupyter/dl-notebooks/newensemble/early-risk-ensemble/training.py\u001b[0m in \u001b[0;36mdo_train\u001b[0;34m(model_name, maxlen, epochs, early_epochs, batch_size, shuffle, patience, model_names, early_stopping, validation_split, feats_train, feats_test, X_train, X_test, y_train, y_test, train_sample_weights, save)\u001b[0m\n\u001b[1;32m     40\u001b[0m     \u001b[0;32mif\u001b[0m \u001b[0mmodel_name\u001b[0m \u001b[0;32mis\u001b[0m \u001b[0;34m\"ensemble_model\"\u001b[0m\u001b[0;34m:\u001b[0m\u001b[0;34m\u001b[0m\u001b[0;34m\u001b[0m\u001b[0m\n\u001b[1;32m     41\u001b[0m         y_pred = do_ensemble(maxlen, batch_size, shuffle, model_names, feats_train, feats_test, X_train, X_test,\n\u001b[0;32m---> 42\u001b[0;31m                              y_train, y_test, save)\n\u001b[0m\u001b[1;32m     43\u001b[0m     \u001b[0;32melse\u001b[0m\u001b[0;34m:\u001b[0m\u001b[0;34m\u001b[0m\u001b[0;34m\u001b[0m\u001b[0m\n\u001b[1;32m     44\u001b[0m         y_pred = train(model_name, maxlen, epochs, early_epochs, batch_size, shuffle, patience, early_stopping, \n",
      "\u001b[0;32m/datos/ecampillo/jupyter/dl-notebooks/newensemble/early-risk-ensemble/training.py\u001b[0m in \u001b[0;36mdo_ensemble\u001b[0;34m(maxlen, batch_size, shuffle, model_names, feats_train, feats_test, X_train, X_test, y_train, y_test, save)\u001b[0m\n\u001b[1;32m     89\u001b[0m     \u001b[0;31m# reload trained weights\u001b[0m\u001b[0;34m\u001b[0m\u001b[0;34m\u001b[0m\u001b[0;34m\u001b[0m\u001b[0m\n\u001b[1;32m     90\u001b[0m     \u001b[0;32mfor\u001b[0m \u001b[0mi\u001b[0m \u001b[0;32min\u001b[0m \u001b[0mrange\u001b[0m\u001b[0;34m(\u001b[0m\u001b[0;36m0\u001b[0m\u001b[0;34m,\u001b[0m \u001b[0mlen\u001b[0m\u001b[0;34m(\u001b[0m\u001b[0mmodels\u001b[0m\u001b[0;34m)\u001b[0m\u001b[0;34m)\u001b[0m\u001b[0;34m:\u001b[0m\u001b[0;34m\u001b[0m\u001b[0;34m\u001b[0m\u001b[0m\n\u001b[0;32m---> 91\u001b[0;31m         \u001b[0mmodels\u001b[0m\u001b[0;34m[\u001b[0m\u001b[0mi\u001b[0m\u001b[0;34m]\u001b[0m\u001b[0;34m.\u001b[0m\u001b[0mload_weights\u001b[0m\u001b[0;34m(\u001b[0m\u001b[0;34m\"models/{}{}{}{}.hdf5\"\u001b[0m\u001b[0;34m.\u001b[0m\u001b[0mformat\u001b[0m\u001b[0;34m(\u001b[0m\u001b[0mmodels\u001b[0m\u001b[0;34m[\u001b[0m\u001b[0mi\u001b[0m\u001b[0;34m]\u001b[0m\u001b[0;34m.\u001b[0m\u001b[0mname\u001b[0m\u001b[0;34m,\u001b[0m \u001b[0mmaxlen\u001b[0m\u001b[0;34m,\u001b[0m \u001b[0mbatch_size\u001b[0m\u001b[0;34m,\u001b[0m \u001b[0mshuffle\u001b[0m\u001b[0;34m)\u001b[0m\u001b[0;34m)\u001b[0m\u001b[0;34m\u001b[0m\u001b[0;34m\u001b[0m\u001b[0m\n\u001b[0m\u001b[1;32m     92\u001b[0m \u001b[0;34m\u001b[0m\u001b[0m\n\u001b[1;32m     93\u001b[0m     \u001b[0;31m# reload trained weights\u001b[0m\u001b[0;34m\u001b[0m\u001b[0;34m\u001b[0m\u001b[0;34m\u001b[0m\u001b[0m\n",
      "\u001b[0;32m/usr/local/lib64/python3.6/site-packages/tensorflow/python/keras/engine/training.py\u001b[0m in \u001b[0;36mload_weights\u001b[0;34m(self, filepath, by_name, skip_mismatch, options)\u001b[0m\n\u001b[1;32m   2324\u001b[0m             f, self.layers, skip_mismatch=skip_mismatch)\n\u001b[1;32m   2325\u001b[0m       \u001b[0;32melse\u001b[0m\u001b[0;34m:\u001b[0m\u001b[0;34m\u001b[0m\u001b[0;34m\u001b[0m\u001b[0m\n\u001b[0;32m-> 2326\u001b[0;31m         \u001b[0mhdf5_format\u001b[0m\u001b[0;34m.\u001b[0m\u001b[0mload_weights_from_hdf5_group\u001b[0m\u001b[0;34m(\u001b[0m\u001b[0mf\u001b[0m\u001b[0;34m,\u001b[0m \u001b[0mself\u001b[0m\u001b[0;34m.\u001b[0m\u001b[0mlayers\u001b[0m\u001b[0;34m)\u001b[0m\u001b[0;34m\u001b[0m\u001b[0;34m\u001b[0m\u001b[0m\n\u001b[0m\u001b[1;32m   2327\u001b[0m \u001b[0;34m\u001b[0m\u001b[0m\n\u001b[1;32m   2328\u001b[0m   \u001b[0;32mdef\u001b[0m \u001b[0m_updated_config\u001b[0m\u001b[0;34m(\u001b[0m\u001b[0mself\u001b[0m\u001b[0;34m)\u001b[0m\u001b[0;34m:\u001b[0m\u001b[0;34m\u001b[0m\u001b[0;34m\u001b[0m\u001b[0m\n",
      "\u001b[0;32m/usr/local/lib64/python3.6/site-packages/tensorflow/python/keras/saving/hdf5_format.py\u001b[0m in \u001b[0;36mload_weights_from_hdf5_group\u001b[0;34m(f, layers)\u001b[0m\n\u001b[1;32m    711\u001b[0m                        str(len(weight_values)) + ' elements.')\n\u001b[1;32m    712\u001b[0m     \u001b[0mweight_value_tuples\u001b[0m \u001b[0;34m+=\u001b[0m \u001b[0mzip\u001b[0m\u001b[0;34m(\u001b[0m\u001b[0msymbolic_weights\u001b[0m\u001b[0;34m,\u001b[0m \u001b[0mweight_values\u001b[0m\u001b[0;34m)\u001b[0m\u001b[0;34m\u001b[0m\u001b[0;34m\u001b[0m\u001b[0m\n\u001b[0;32m--> 713\u001b[0;31m   \u001b[0mbackend\u001b[0m\u001b[0;34m.\u001b[0m\u001b[0mbatch_set_value\u001b[0m\u001b[0;34m(\u001b[0m\u001b[0mweight_value_tuples\u001b[0m\u001b[0;34m)\u001b[0m\u001b[0;34m\u001b[0m\u001b[0;34m\u001b[0m\u001b[0m\n\u001b[0m\u001b[1;32m    714\u001b[0m \u001b[0;34m\u001b[0m\u001b[0m\n\u001b[1;32m    715\u001b[0m \u001b[0;34m\u001b[0m\u001b[0m\n",
      "\u001b[0;32m/usr/local/lib64/python3.6/site-packages/tensorflow/python/util/dispatch.py\u001b[0m in \u001b[0;36mwrapper\u001b[0;34m(*args, **kwargs)\u001b[0m\n\u001b[1;32m    204\u001b[0m     \u001b[0;34m\"\"\"Call target, and fall back on dispatchers if there is a TypeError.\"\"\"\u001b[0m\u001b[0;34m\u001b[0m\u001b[0;34m\u001b[0m\u001b[0m\n\u001b[1;32m    205\u001b[0m     \u001b[0;32mtry\u001b[0m\u001b[0;34m:\u001b[0m\u001b[0;34m\u001b[0m\u001b[0;34m\u001b[0m\u001b[0m\n\u001b[0;32m--> 206\u001b[0;31m       \u001b[0;32mreturn\u001b[0m \u001b[0mtarget\u001b[0m\u001b[0;34m(\u001b[0m\u001b[0;34m*\u001b[0m\u001b[0margs\u001b[0m\u001b[0;34m,\u001b[0m \u001b[0;34m**\u001b[0m\u001b[0mkwargs\u001b[0m\u001b[0;34m)\u001b[0m\u001b[0;34m\u001b[0m\u001b[0;34m\u001b[0m\u001b[0m\n\u001b[0m\u001b[1;32m    207\u001b[0m     \u001b[0;32mexcept\u001b[0m \u001b[0;34m(\u001b[0m\u001b[0mTypeError\u001b[0m\u001b[0;34m,\u001b[0m \u001b[0mValueError\u001b[0m\u001b[0;34m)\u001b[0m\u001b[0;34m:\u001b[0m\u001b[0;34m\u001b[0m\u001b[0;34m\u001b[0m\u001b[0m\n\u001b[1;32m    208\u001b[0m       \u001b[0;31m# Note: convert_to_eager_tensor currently raises a ValueError, not a\u001b[0m\u001b[0;34m\u001b[0m\u001b[0;34m\u001b[0m\u001b[0;34m\u001b[0m\u001b[0m\n",
      "\u001b[0;32m/usr/local/lib64/python3.6/site-packages/tensorflow/python/keras/backend.py\u001b[0m in \u001b[0;36mbatch_set_value\u001b[0;34m(tuples)\u001b[0m\n\u001b[1;32m   3802\u001b[0m   \u001b[0;32mif\u001b[0m \u001b[0mops\u001b[0m\u001b[0;34m.\u001b[0m\u001b[0mexecuting_eagerly_outside_functions\u001b[0m\u001b[0;34m(\u001b[0m\u001b[0;34m)\u001b[0m\u001b[0;34m:\u001b[0m\u001b[0;34m\u001b[0m\u001b[0;34m\u001b[0m\u001b[0m\n\u001b[1;32m   3803\u001b[0m     \u001b[0;32mfor\u001b[0m \u001b[0mx\u001b[0m\u001b[0;34m,\u001b[0m \u001b[0mvalue\u001b[0m \u001b[0;32min\u001b[0m \u001b[0mtuples\u001b[0m\u001b[0;34m:\u001b[0m\u001b[0;34m\u001b[0m\u001b[0;34m\u001b[0m\u001b[0m\n\u001b[0;32m-> 3804\u001b[0;31m       \u001b[0mx\u001b[0m\u001b[0;34m.\u001b[0m\u001b[0massign\u001b[0m\u001b[0;34m(\u001b[0m\u001b[0mnp\u001b[0m\u001b[0;34m.\u001b[0m\u001b[0masarray\u001b[0m\u001b[0;34m(\u001b[0m\u001b[0mvalue\u001b[0m\u001b[0;34m,\u001b[0m \u001b[0mdtype\u001b[0m\u001b[0;34m=\u001b[0m\u001b[0mdtype_numpy\u001b[0m\u001b[0;34m(\u001b[0m\u001b[0mx\u001b[0m\u001b[0;34m)\u001b[0m\u001b[0;34m)\u001b[0m\u001b[0;34m)\u001b[0m\u001b[0;34m\u001b[0m\u001b[0;34m\u001b[0m\u001b[0m\n\u001b[0m\u001b[1;32m   3805\u001b[0m   \u001b[0;32melse\u001b[0m\u001b[0;34m:\u001b[0m\u001b[0;34m\u001b[0m\u001b[0;34m\u001b[0m\u001b[0m\n\u001b[1;32m   3806\u001b[0m     \u001b[0;32mwith\u001b[0m \u001b[0mget_graph\u001b[0m\u001b[0;34m(\u001b[0m\u001b[0;34m)\u001b[0m\u001b[0;34m.\u001b[0m\u001b[0mas_default\u001b[0m\u001b[0;34m(\u001b[0m\u001b[0;34m)\u001b[0m\u001b[0;34m:\u001b[0m\u001b[0;34m\u001b[0m\u001b[0;34m\u001b[0m\u001b[0m\n",
      "\u001b[0;32m/usr/local/lib64/python3.6/site-packages/tensorflow/python/ops/resource_variable_ops.py\u001b[0m in \u001b[0;36massign\u001b[0;34m(self, value, use_locking, name, read_value)\u001b[0m\n\u001b[1;32m    899\u001b[0m             (\"Cannot assign to variable%s due to variable shape %s and value \"\n\u001b[1;32m    900\u001b[0m              \"shape %s are incompatible\") %\n\u001b[0;32m--> 901\u001b[0;31m             (tensor_name, self._shape, value_tensor.shape))\n\u001b[0m\u001b[1;32m    902\u001b[0m       assign_op = gen_resource_variable_ops.assign_variable_op(\n\u001b[1;32m    903\u001b[0m           self.handle, value_tensor, name=name)\n",
      "\u001b[0;31mValueError\u001b[0m: Cannot assign to variable embedding_1/embeddings:0 due to variable shape (14941, 100) and value shape (20883, 100) are incompatible"
     ]
    }
   ],
   "source": [
    "y_pred = do_train(model_name=\"ensemble_model\", maxlen=1000, epochs=100, batch_size=batch_size,\n",
    "         shuffle=True, patience=patience, model_names=[\"cnn_model\", model_name], feats_train=feats_train, feats_test=feats_test, \n",
    "         X_train=X_train, X_test=X_test, y_train=y_train, y_test=y_test)\n",
    "evaluate(1, 10, {\"test\":\"test\"}, y_pred=y_pred, test_users=test_users)"
   ]
  },
  {
   "cell_type": "code",
   "execution_count": null,
   "metadata": {},
   "outputs": [],
   "source": [
    "y_pred = do_train(model_name=\"ensemble_model\", maxlen=1000, epochs=100, batch_size=batch_size,\n",
    "         shuffle=True, patience=patience, model_names=[\"cnn_model\", \"lstm_model_16\", \"lstm_model_32\"], feats_train=feats_train, feats_test=feats_test, \n",
    "         X_train=X_train, X_test=X_test, y_train=y_train, y_test=y_test)\n",
    "evaluate(1, 10, {\"test\":\"test\"}, y_pred=y_pred, test_users=test_users)"
   ]
  },
  {
   "cell_type": "code",
   "execution_count": 11,
   "metadata": {},
   "outputs": [],
   "source": [
    "# this time with batch-size = 16"
   ]
  },
  {
   "cell_type": "code",
   "execution_count": 12,
   "metadata": {},
   "outputs": [],
   "source": [
    "batch_size=16"
   ]
  },
  {
   "cell_type": "code",
   "execution_count": 13,
   "metadata": {},
   "outputs": [
    {
     "name": "stdout",
     "output_type": "stream",
     "text": [
      "Starting training with cnn_model=lstm_model_16 and maxlen=1000 and batch size=16\n",
      "Generating embeddings\n",
      "Data size: 967\n",
      "Training with callback\n",
      "Restoring model weights from the end of the best epoch.\n",
      "Epoch 00031: early stopping\n",
      "Evaluating\n",
      "27/27 [==============================] - 5s 112ms/step - loss: 0.7068 - tp: 195.0000 - fp: 620.0000 - tn: 16.0000 - fn: 10.0000 - accuracy: 0.2509 - precision: 0.2393 - recall: 0.9512 - f1_metric: 0.3644\n",
      "Test Score: 0.706753134727478\n",
      "Test Accuracy: 195.0\n",
      "53/53 [==============================] - 5s 81ms/step\n",
      "Entered here\n",
      "              precision    recall  f1-score   support\n",
      "\n",
      "           0       0.62      0.03      0.05       636\n",
      "           1       0.24      0.95      0.38       205\n",
      "\n",
      "    accuracy                           0.25       841\n",
      "   macro avg       0.43      0.49      0.22       841\n",
      "weighted avg       0.52      0.25      0.13       841\n",
      "\n",
      "[[ 16 620]\n",
      " [ 10 195]]\n",
      "Finished training and evaluation\n",
      "{'precision': 0.24455205811138014, 'recall': 0.9711538461538461, 'F1': 0.390715667311412, 'ERDE_5': 0.4266292426364602, 'ERDE_50': 0.18843787200509696, 'median_latency_tps': 11.0, 'median_penalty_tps': 0.03898023902249159, 'speed': 0.9610197609775084, 'latency_weighted_f1': 0.37548547720978087}\n",
      "Starting training with cnn_model=lstm_model_16 and maxlen=1000 and batch size=16\n",
      "Generating embeddings\n",
      "Data size: 967\n",
      "Training with callback\n",
      "Restoring model weights from the end of the best epoch.\n",
      "Epoch 00016: early stopping\n",
      "Evaluating\n",
      "27/27 [==============================] - 5s 114ms/step - loss: 1.2693 - tp: 176.0000 - fp: 547.0000 - tn: 89.0000 - fn: 29.0000 - accuracy: 0.3151 - precision: 0.2434 - recall: 0.8585 - f1_metric: 0.3562\n",
      "Test Score: 1.2692638635635376\n",
      "Test Accuracy: 176.0\n",
      "53/53 [==============================] - 5s 76ms/step\n",
      "Entered here\n",
      "              precision    recall  f1-score   support\n",
      "\n",
      "           0       0.75      0.14      0.24       636\n",
      "           1       0.24      0.86      0.38       205\n",
      "\n",
      "    accuracy                           0.32       841\n",
      "   macro avg       0.50      0.50      0.31       841\n",
      "weighted avg       0.63      0.32      0.27       841\n",
      "\n",
      "[[ 89 547]\n",
      " [ 29 176]]\n",
      "Finished training and evaluation\n",
      "{'precision': 0.2446236559139785, 'recall': 0.875, 'F1': 0.3823529411764706, 'ERDE_5': 0.40866568530932224, 'ERDE_50': 0.19406021382783115, 'median_latency_tps': 11.0, 'median_penalty_tps': 0.03898023902249159, 'speed': 0.9610197609775084, 'latency_weighted_f1': 0.36744873213845913}\n",
      "Starting training with cnn_model=lstm_model_16 and maxlen=1000 and batch size=16\n",
      "Generating embeddings\n",
      "Data size: 967\n",
      "Training with callback\n",
      "Restoring model weights from the end of the best epoch.\n",
      "Epoch 00011: early stopping\n",
      "Evaluating\n",
      "27/27 [==============================] - 5s 114ms/step - loss: 51.3057 - tp: 205.0000 - fp: 636.0000 - tn: 0.0000e+00 - fn: 0.0000e+00 - accuracy: 0.2438 - precision: 0.2438 - recall: 1.0000 - f1_metric: 0.3753\n",
      "Test Score: 51.30568313598633\n",
      "Test Accuracy: 205.0\n",
      "53/53 [==============================] - 5s 79ms/step\n",
      "Entered here\n",
      "              precision    recall  f1-score   support\n",
      "\n",
      "           0       0.00      0.00      0.00       636\n",
      "           1       0.24      1.00      0.39       205\n",
      "\n",
      "    accuracy                           0.24       841\n",
      "   macro avg       0.12      0.50      0.20       841\n",
      "weighted avg       0.06      0.24      0.10       841\n",
      "\n",
      "[[  0 636]\n",
      " [  0 205]]\n",
      "Finished training and evaluation\n",
      "{'precision': 0.2458628841607565, 'recall': 1.0, 'F1': 0.3946869070208729, 'ERDE_5': 0.43066928425293466, 'ERDE_50': 0.18541432635291089, 'median_latency_tps': 11.0, 'median_penalty_tps': 0.03898023902249159, 'speed': 0.9610197609775084, 'latency_weighted_f1': 0.37930191704615135}\n"
     ]
    },
    {
     "name": "stderr",
     "output_type": "stream",
     "text": [
      "/home/ecampillo/.local/lib/python3.6/site-packages/sklearn/metrics/_classification.py:1245: UndefinedMetricWarning: Precision and F-score are ill-defined and being set to 0.0 in labels with no predicted samples. Use `zero_division` parameter to control this behavior.\n",
      "  _warn_prf(average, modifier, msg_start, len(result))\n",
      "/home/ecampillo/.local/lib/python3.6/site-packages/sklearn/metrics/_classification.py:1245: UndefinedMetricWarning: Precision and F-score are ill-defined and being set to 0.0 in labels with no predicted samples. Use `zero_division` parameter to control this behavior.\n",
      "  _warn_prf(average, modifier, msg_start, len(result))\n",
      "/home/ecampillo/.local/lib/python3.6/site-packages/sklearn/metrics/_classification.py:1245: UndefinedMetricWarning: Precision and F-score are ill-defined and being set to 0.0 in labels with no predicted samples. Use `zero_division` parameter to control this behavior.\n",
      "  _warn_prf(average, modifier, msg_start, len(result))\n"
     ]
    },
    {
     "data": {
      "text/plain": [
       "{'precision': 0.2458628841607565,\n",
       " 'recall': 1.0,\n",
       " 'F1': 0.3946869070208729,\n",
       " 'ERDE_5': 0.43066928425293466,\n",
       " 'ERDE_50': 0.18541432635291089,\n",
       " 'median_latency_tps': 11.0,\n",
       " 'median_penalty_tps': 0.03898023902249159,\n",
       " 'speed': 0.9610197609775084,\n",
       " 'latency_weighted_f1': 0.37930191704615135}"
      ]
     },
     "execution_count": 13,
     "metadata": {},
     "output_type": "execute_result"
    }
   ],
   "source": [
    "y_pred = do_train(model_name=model_name, maxlen=1000, epochs=100, batch_size=batch_size,\n",
    "         shuffle=True, patience=patience, feats_train=feats_train, feats_test=feats_test, \n",
    "         X_train=X_train, X_test=X_test, y_train=y_train, y_test=y_test, train_sample_weights=train_samples)\n",
    "evaluate(1, 10, {\"test\":\"test\"}, y_pred=y_pred, test_users=test_users)\n",
    "y_pred = do_train(model_name=model_name, maxlen=1000, epochs=100, batch_size=batch_size,\n",
    "         shuffle=True, patience=patience, feats_train=feats_train, feats_test=feats_test, \n",
    "         X_train=X_train, X_test=X_test, y_train=y_train, y_test=y_test, train_sample_weights=train_samples)\n",
    "evaluate(1, 10, {\"test\":\"test\"}, y_pred=y_pred, test_users=test_users)\n",
    "y_pred = do_train(model_name=model_name, maxlen=1000, epochs=100, batch_size=batch_size,\n",
    "         shuffle=True, patience=patience, feats_train=feats_train, feats_test=feats_test, \n",
    "         X_train=X_train, X_test=X_test, y_train=y_train, y_test=y_test, train_sample_weights=train_samples)\n",
    "evaluate(1, 10, {\"test\":\"test\"}, y_pred=y_pred, test_users=test_users)"
   ]
  },
  {
   "cell_type": "code",
   "execution_count": 14,
   "metadata": {},
   "outputs": [
    {
     "ename": "OSError",
     "evalue": "Unable to open file (unable to open file: name = 'models/cnn_model100016True.hdf5', errno = 2, error message = 'No such file or directory', flags = 0, o_flags = 0)",
     "output_type": "error",
     "traceback": [
      "\u001b[0;31m---------------------------------------------------------------------------\u001b[0m",
      "\u001b[0;31mOSError\u001b[0m                                   Traceback (most recent call last)",
      "\u001b[0;32m<ipython-input-14-ad9fa81eac8d>\u001b[0m in \u001b[0;36m<module>\u001b[0;34m\u001b[0m\n\u001b[1;32m      1\u001b[0m y_pred = do_train(model_name=\"ensemble_model\", maxlen=1000, epochs=100, batch_size=batch_size,\n\u001b[1;32m      2\u001b[0m          \u001b[0mshuffle\u001b[0m\u001b[0;34m=\u001b[0m\u001b[0;32mTrue\u001b[0m\u001b[0;34m,\u001b[0m \u001b[0mpatience\u001b[0m\u001b[0;34m=\u001b[0m\u001b[0mpatience\u001b[0m\u001b[0;34m,\u001b[0m \u001b[0mmodel_names\u001b[0m\u001b[0;34m=\u001b[0m\u001b[0;34m[\u001b[0m\u001b[0;34m\"cnn_model\"\u001b[0m\u001b[0;34m,\u001b[0m \u001b[0mmodel_name\u001b[0m\u001b[0;34m]\u001b[0m\u001b[0;34m,\u001b[0m \u001b[0mfeats_train\u001b[0m\u001b[0;34m=\u001b[0m\u001b[0mfeats_train\u001b[0m\u001b[0;34m,\u001b[0m \u001b[0mfeats_test\u001b[0m\u001b[0;34m=\u001b[0m\u001b[0mfeats_test\u001b[0m\u001b[0;34m,\u001b[0m\u001b[0;34m\u001b[0m\u001b[0;34m\u001b[0m\u001b[0m\n\u001b[0;32m----> 3\u001b[0;31m          X_train=X_train, X_test=X_test, y_train=y_train, y_test=y_test)\n\u001b[0m\u001b[1;32m      4\u001b[0m \u001b[0mevaluate\u001b[0m\u001b[0;34m(\u001b[0m\u001b[0;36m1\u001b[0m\u001b[0;34m,\u001b[0m \u001b[0;36m10\u001b[0m\u001b[0;34m,\u001b[0m \u001b[0;34m{\u001b[0m\u001b[0;34m\"test\"\u001b[0m\u001b[0;34m:\u001b[0m\u001b[0;34m\"test\"\u001b[0m\u001b[0;34m}\u001b[0m\u001b[0;34m,\u001b[0m \u001b[0my_pred\u001b[0m\u001b[0;34m=\u001b[0m\u001b[0my_pred\u001b[0m\u001b[0;34m,\u001b[0m \u001b[0mtest_users\u001b[0m\u001b[0;34m=\u001b[0m\u001b[0mtest_users\u001b[0m\u001b[0;34m)\u001b[0m\u001b[0;34m\u001b[0m\u001b[0;34m\u001b[0m\u001b[0m\n",
      "\u001b[0;32m/datos/ecampillo/jupyter/dl-notebooks/newensemble/early-risk-ensemble/training.py\u001b[0m in \u001b[0;36mdo_train\u001b[0;34m(model_name, maxlen, epochs, early_epochs, batch_size, shuffle, patience, model_names, early_stopping, validation_split, feats_train, feats_test, X_train, X_test, y_train, y_test, train_sample_weights, save)\u001b[0m\n\u001b[1;32m     40\u001b[0m     \u001b[0;32mif\u001b[0m \u001b[0mmodel_name\u001b[0m \u001b[0;32mis\u001b[0m \u001b[0;34m\"ensemble_model\"\u001b[0m\u001b[0;34m:\u001b[0m\u001b[0;34m\u001b[0m\u001b[0;34m\u001b[0m\u001b[0m\n\u001b[1;32m     41\u001b[0m         y_pred = do_ensemble(maxlen, batch_size, shuffle, model_names, feats_train, feats_test, X_train, X_test,\n\u001b[0;32m---> 42\u001b[0;31m                              y_train, y_test, save)\n\u001b[0m\u001b[1;32m     43\u001b[0m     \u001b[0;32melse\u001b[0m\u001b[0;34m:\u001b[0m\u001b[0;34m\u001b[0m\u001b[0;34m\u001b[0m\u001b[0m\n\u001b[1;32m     44\u001b[0m         y_pred = train(model_name, maxlen, epochs, early_epochs, batch_size, shuffle, patience, early_stopping, \n",
      "\u001b[0;32m/datos/ecampillo/jupyter/dl-notebooks/newensemble/early-risk-ensemble/training.py\u001b[0m in \u001b[0;36mdo_ensemble\u001b[0;34m(maxlen, batch_size, shuffle, model_names, feats_train, feats_test, X_train, X_test, y_train, y_test, save)\u001b[0m\n\u001b[1;32m     89\u001b[0m     \u001b[0;31m# reload trained weights\u001b[0m\u001b[0;34m\u001b[0m\u001b[0;34m\u001b[0m\u001b[0;34m\u001b[0m\u001b[0m\n\u001b[1;32m     90\u001b[0m     \u001b[0;32mfor\u001b[0m \u001b[0mi\u001b[0m \u001b[0;32min\u001b[0m \u001b[0mrange\u001b[0m\u001b[0;34m(\u001b[0m\u001b[0;36m0\u001b[0m\u001b[0;34m,\u001b[0m \u001b[0mlen\u001b[0m\u001b[0;34m(\u001b[0m\u001b[0mmodels\u001b[0m\u001b[0;34m)\u001b[0m\u001b[0;34m)\u001b[0m\u001b[0;34m:\u001b[0m\u001b[0;34m\u001b[0m\u001b[0;34m\u001b[0m\u001b[0m\n\u001b[0;32m---> 91\u001b[0;31m         \u001b[0mmodels\u001b[0m\u001b[0;34m[\u001b[0m\u001b[0mi\u001b[0m\u001b[0;34m]\u001b[0m\u001b[0;34m.\u001b[0m\u001b[0mload_weights\u001b[0m\u001b[0;34m(\u001b[0m\u001b[0;34m\"models/{}{}{}{}.hdf5\"\u001b[0m\u001b[0;34m.\u001b[0m\u001b[0mformat\u001b[0m\u001b[0;34m(\u001b[0m\u001b[0mmodels\u001b[0m\u001b[0;34m[\u001b[0m\u001b[0mi\u001b[0m\u001b[0;34m]\u001b[0m\u001b[0;34m.\u001b[0m\u001b[0mname\u001b[0m\u001b[0;34m,\u001b[0m \u001b[0mmaxlen\u001b[0m\u001b[0;34m,\u001b[0m \u001b[0mbatch_size\u001b[0m\u001b[0;34m,\u001b[0m \u001b[0mshuffle\u001b[0m\u001b[0;34m)\u001b[0m\u001b[0;34m)\u001b[0m\u001b[0;34m\u001b[0m\u001b[0;34m\u001b[0m\u001b[0m\n\u001b[0m\u001b[1;32m     92\u001b[0m \u001b[0;34m\u001b[0m\u001b[0m\n\u001b[1;32m     93\u001b[0m     \u001b[0;31m# reload trained weights\u001b[0m\u001b[0;34m\u001b[0m\u001b[0;34m\u001b[0m\u001b[0;34m\u001b[0m\u001b[0m\n",
      "\u001b[0;32m/usr/local/lib64/python3.6/site-packages/tensorflow/python/keras/engine/training.py\u001b[0m in \u001b[0;36mload_weights\u001b[0;34m(self, filepath, by_name, skip_mismatch, options)\u001b[0m\n\u001b[1;32m   2317\u001b[0m           'first, then load the weights.')\n\u001b[1;32m   2318\u001b[0m     \u001b[0mself\u001b[0m\u001b[0;34m.\u001b[0m\u001b[0m_assert_weights_created\u001b[0m\u001b[0;34m(\u001b[0m\u001b[0;34m)\u001b[0m\u001b[0;34m\u001b[0m\u001b[0;34m\u001b[0m\u001b[0m\n\u001b[0;32m-> 2319\u001b[0;31m     \u001b[0;32mwith\u001b[0m \u001b[0mh5py\u001b[0m\u001b[0;34m.\u001b[0m\u001b[0mFile\u001b[0m\u001b[0;34m(\u001b[0m\u001b[0mfilepath\u001b[0m\u001b[0;34m,\u001b[0m \u001b[0;34m'r'\u001b[0m\u001b[0;34m)\u001b[0m \u001b[0;32mas\u001b[0m \u001b[0mf\u001b[0m\u001b[0;34m:\u001b[0m\u001b[0;34m\u001b[0m\u001b[0;34m\u001b[0m\u001b[0m\n\u001b[0m\u001b[1;32m   2320\u001b[0m       \u001b[0;32mif\u001b[0m \u001b[0;34m'layer_names'\u001b[0m \u001b[0;32mnot\u001b[0m \u001b[0;32min\u001b[0m \u001b[0mf\u001b[0m\u001b[0;34m.\u001b[0m\u001b[0mattrs\u001b[0m \u001b[0;32mand\u001b[0m \u001b[0;34m'model_weights'\u001b[0m \u001b[0;32min\u001b[0m \u001b[0mf\u001b[0m\u001b[0;34m:\u001b[0m\u001b[0;34m\u001b[0m\u001b[0;34m\u001b[0m\u001b[0m\n\u001b[1;32m   2321\u001b[0m         \u001b[0mf\u001b[0m \u001b[0;34m=\u001b[0m \u001b[0mf\u001b[0m\u001b[0;34m[\u001b[0m\u001b[0;34m'model_weights'\u001b[0m\u001b[0;34m]\u001b[0m\u001b[0;34m\u001b[0m\u001b[0;34m\u001b[0m\u001b[0m\n",
      "\u001b[0;32m/usr/local/lib64/python3.6/site-packages/h5py/_hl/files.py\u001b[0m in \u001b[0;36m__init__\u001b[0;34m(self, name, mode, driver, libver, userblock_size, swmr, rdcc_nslots, rdcc_nbytes, rdcc_w0, track_order, fs_strategy, fs_persist, fs_threshold, **kwds)\u001b[0m\n\u001b[1;32m    425\u001b[0m                                fapl, fcpl=make_fcpl(track_order=track_order, fs_strategy=fs_strategy,\n\u001b[1;32m    426\u001b[0m                                fs_persist=fs_persist, fs_threshold=fs_threshold),\n\u001b[0;32m--> 427\u001b[0;31m                                swmr=swmr)\n\u001b[0m\u001b[1;32m    428\u001b[0m \u001b[0;34m\u001b[0m\u001b[0m\n\u001b[1;32m    429\u001b[0m             \u001b[0;32mif\u001b[0m \u001b[0misinstance\u001b[0m\u001b[0;34m(\u001b[0m\u001b[0mlibver\u001b[0m\u001b[0;34m,\u001b[0m \u001b[0mtuple\u001b[0m\u001b[0;34m)\u001b[0m\u001b[0;34m:\u001b[0m\u001b[0;34m\u001b[0m\u001b[0;34m\u001b[0m\u001b[0m\n",
      "\u001b[0;32m/usr/local/lib64/python3.6/site-packages/h5py/_hl/files.py\u001b[0m in \u001b[0;36mmake_fid\u001b[0;34m(name, mode, userblock_size, fapl, fcpl, swmr)\u001b[0m\n\u001b[1;32m    188\u001b[0m         \u001b[0;32mif\u001b[0m \u001b[0mswmr\u001b[0m \u001b[0;32mand\u001b[0m \u001b[0mswmr_support\u001b[0m\u001b[0;34m:\u001b[0m\u001b[0;34m\u001b[0m\u001b[0;34m\u001b[0m\u001b[0m\n\u001b[1;32m    189\u001b[0m             \u001b[0mflags\u001b[0m \u001b[0;34m|=\u001b[0m \u001b[0mh5f\u001b[0m\u001b[0;34m.\u001b[0m\u001b[0mACC_SWMR_READ\u001b[0m\u001b[0;34m\u001b[0m\u001b[0;34m\u001b[0m\u001b[0m\n\u001b[0;32m--> 190\u001b[0;31m         \u001b[0mfid\u001b[0m \u001b[0;34m=\u001b[0m \u001b[0mh5f\u001b[0m\u001b[0;34m.\u001b[0m\u001b[0mopen\u001b[0m\u001b[0;34m(\u001b[0m\u001b[0mname\u001b[0m\u001b[0;34m,\u001b[0m \u001b[0mflags\u001b[0m\u001b[0;34m,\u001b[0m \u001b[0mfapl\u001b[0m\u001b[0;34m=\u001b[0m\u001b[0mfapl\u001b[0m\u001b[0;34m)\u001b[0m\u001b[0;34m\u001b[0m\u001b[0;34m\u001b[0m\u001b[0m\n\u001b[0m\u001b[1;32m    191\u001b[0m     \u001b[0;32melif\u001b[0m \u001b[0mmode\u001b[0m \u001b[0;34m==\u001b[0m \u001b[0;34m'r+'\u001b[0m\u001b[0;34m:\u001b[0m\u001b[0;34m\u001b[0m\u001b[0;34m\u001b[0m\u001b[0m\n\u001b[1;32m    192\u001b[0m         \u001b[0mfid\u001b[0m \u001b[0;34m=\u001b[0m \u001b[0mh5f\u001b[0m\u001b[0;34m.\u001b[0m\u001b[0mopen\u001b[0m\u001b[0;34m(\u001b[0m\u001b[0mname\u001b[0m\u001b[0;34m,\u001b[0m \u001b[0mh5f\u001b[0m\u001b[0;34m.\u001b[0m\u001b[0mACC_RDWR\u001b[0m\u001b[0;34m,\u001b[0m \u001b[0mfapl\u001b[0m\u001b[0;34m=\u001b[0m\u001b[0mfapl\u001b[0m\u001b[0;34m)\u001b[0m\u001b[0;34m\u001b[0m\u001b[0;34m\u001b[0m\u001b[0m\n",
      "\u001b[0;32mh5py/_objects.pyx\u001b[0m in \u001b[0;36mh5py._objects.with_phil.wrapper\u001b[0;34m()\u001b[0m\n",
      "\u001b[0;32mh5py/_objects.pyx\u001b[0m in \u001b[0;36mh5py._objects.with_phil.wrapper\u001b[0;34m()\u001b[0m\n",
      "\u001b[0;32mh5py/h5f.pyx\u001b[0m in \u001b[0;36mh5py.h5f.open\u001b[0;34m()\u001b[0m\n",
      "\u001b[0;31mOSError\u001b[0m: Unable to open file (unable to open file: name = 'models/cnn_model100016True.hdf5', errno = 2, error message = 'No such file or directory', flags = 0, o_flags = 0)"
     ]
    }
   ],
   "source": [
    "y_pred = do_train(model_name=\"ensemble_model\", maxlen=1000, epochs=100, batch_size=batch_size,\n",
    "         shuffle=True, patience=patience, model_names=[\"cnn_model\", model_name], feats_train=feats_train, feats_test=feats_test, \n",
    "         X_train=X_train, X_test=X_test, y_train=y_train, y_test=y_test)\n",
    "evaluate(1, 10, {\"test\":\"test\"}, y_pred=y_pred, test_users=test_users)"
   ]
  },
  {
   "cell_type": "code",
   "execution_count": null,
   "metadata": {},
   "outputs": [],
   "source": []
  }
 ],
 "metadata": {
  "kernelspec": {
   "display_name": "Python 3",
   "language": "python",
   "name": "python3"
  },
  "language_info": {
   "codemirror_mode": {
    "name": "ipython",
    "version": 3
   },
   "file_extension": ".py",
   "mimetype": "text/x-python",
   "name": "python",
   "nbconvert_exporter": "python",
   "pygments_lexer": "ipython3",
   "version": "3.6.8"
  }
 },
 "nbformat": 4,
 "nbformat_minor": 4
}
