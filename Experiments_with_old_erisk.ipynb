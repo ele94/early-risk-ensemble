{
 "cells": [
  {
   "cell_type": "code",
   "execution_count": 1,
   "metadata": {},
   "outputs": [
    {
     "name": "stderr",
     "output_type": "stream",
     "text": [
      "/usr/local/lib/python3.6/site-packages/nltk/twitter/__init__.py:20: UserWarning: The twython library has not been installed. Some functionality from the twitter package will not be available.\n",
      "  warnings.warn(\"The twython library has not been installed. \"\n"
     ]
    }
   ],
   "source": [
    "from utils import *\n",
    "from preprocessing import preprocess\n",
    "from windowfy import windowfy\n",
    "from featurizing import featurize\n",
    "from tfidf_featurizer import combine_features, tfidf_featurize\n",
    "from training import train, do_ensemble, do_train\n",
    "from training_traditional import train_and_evaluate\n",
    "from eval_erisk import evaluate\n",
    "from IPython.display import display, Markdown\n",
    "from itertools import product\n",
    "from numpy.random import seed\n",
    "import tensorflow"
   ]
  },
  {
   "cell_type": "code",
   "execution_count": 2,
   "metadata": {},
   "outputs": [
    {
     "name": "stdout",
     "output_type": "stream",
     "text": [
      "Initialized numpy random and tensorflow random seed at 42\n"
     ]
    }
   ],
   "source": [
    "seed(42)\n",
    "tensorflow.random.set_seed(42) \n",
    "logger(\"Initialized numpy random and tensorflow random seed at 42\")"
   ]
  },
  {
   "cell_type": "code",
   "execution_count": 4,
   "metadata": {},
   "outputs": [
    {
     "name": "stdout",
     "output_type": "stream",
     "text": [
      "Windowfying training users\n",
      "[====================] 100%\n",
      "Windowfying test users\n",
      "[====================] 100%Data size: 5424\n",
      "\n",
      "Finished windowfying\n",
      "Featurizing calculate_feats=True, normalize=False, discretize=True, discretize_size=10, include_feats=['first_prons', 'sentiment', 'nssi']\n",
      "Initialized numpy random and tensorflow random seed at 42\n",
      "Data size: 5424, 5424\n",
      "Data size: 4650, 4650\n",
      "Calculating first prons\n",
      "Calculating sentiment\n",
      "Calculating NSSI words\n",
      "Calculating first prons\n",
      "Calculating sentiment\n",
      "Calculating NSSI words\n",
      "Discretizing\n"
     ]
    },
    {
     "name": "stderr",
     "output_type": "stream",
     "text": [
      "/home/ecampillo/.local/lib/python3.6/site-packages/sklearn/preprocessing/_discretization.py:188: UserWarning: Feature 5 is constant and will be replaced with 0.\n",
      "  \"replaced with 0.\" % jj)\n",
      "/home/ecampillo/.local/lib/python3.6/site-packages/sklearn/preprocessing/_discretization.py:209: ConvergenceWarning: Number of distinct clusters (5) found smaller than n_clusters (10). Possibly due to duplicate points in X.\n",
      "  centers = km.fit(column[:, None]).cluster_centers_[:, 0]\n",
      "/home/ecampillo/.local/lib/python3.6/site-packages/sklearn/preprocessing/_discretization.py:222: UserWarning: Bins whose width are too small (i.e., <= 1e-8) in feature 6 are removed. Consider decreasing the number of bins.\n",
      "  'decreasing the number of bins.' % jj)\n"
     ]
    },
    {
     "name": "stdout",
     "output_type": "stream",
     "text": [
      "Is the combined different from tfidf: False\n",
      "              precision    recall  f1-score   support\n",
      "\n",
      "           0       0.86      0.87      0.87      3602\n",
      "           1       0.55      0.53      0.54      1048\n",
      "\n",
      "    accuracy                           0.80      4650\n",
      "   macro avg       0.71      0.70      0.70      4650\n",
      "weighted avg       0.79      0.80      0.79      4650\n",
      "\n",
      "[[3142  460]\n",
      " [ 491  557]]\n",
      "{'precision': 0.4550898203592814, 'recall': 0.7307692307692307, 'F1': 0.5608856088560886, 'ERDE_5': 0.2983885451186414, 'ERDE_50': 0.11908634150976129, 'median_latency_tps': 11.0, 'median_penalty_tps': 0.03898023902249159, 'speed': 0.9610197609775084, 'latency_weighted_f1': 0.5390221537586025}\n"
     ]
    },
    {
     "data": {
      "text/plain": [
       "{'precision': 0.4550898203592814,\n",
       " 'recall': 0.7307692307692307,\n",
       " 'F1': 0.5608856088560886,\n",
       " 'ERDE_5': 0.2983885451186414,\n",
       " 'ERDE_50': 0.11908634150976129,\n",
       " 'median_latency_tps': 11.0,\n",
       " 'median_penalty_tps': 0.03898023902249159,\n",
       " 'speed': 0.9610197609775084,\n",
       " 'latency_weighted_f1': 0.5390221537586025}"
      ]
     },
     "execution_count": 4,
     "metadata": {},
     "output_type": "execute_result"
    }
   ],
   "source": [
    "train_users, y_train, test_users, y_test, train_samples, X_train, X_test = windowfy(window_size=10, max_size=20, sample_weights_size=20, is_oversample=False, include_new_data=True)\n",
    "feats_text_train, feats_text_test = featurize(calculate_feats=True, include_feats=[\"first_prons\",\"sentiment\",\"nssi\"], \n",
    "                       train_users=train_users, test_users=test_users, discretize=True)\n",
    "tfidf_train, tfidf_test = tfidf_featurize(train_users, test_users, max_features=50000)\n",
    "\n",
    "feats_train, feats_test = combine_features([tfidf_train, feats_text_train], [tfidf_test, feats_text_test])\n",
    "\n",
    "y_pred, classifier = train_and_evaluate(feats_train, y_train, feats_test, y_test, train_samples, \n",
    "                                        classifier_name=\"svm\", strategy=\"weights\")\n",
    "\n",
    "evaluate(1, 10, {\"test\":\"test\"}, y_pred=y_pred, test_users=test_users)\n"
   ]
  },
  {
   "cell_type": "code",
   "execution_count": 5,
   "metadata": {},
   "outputs": [
    {
     "name": "stdout",
     "output_type": "stream",
     "text": [
      "              precision    recall  f1-score   support\n",
      "\n",
      "           0       0.86      0.86      0.86      3602\n",
      "           1       0.52      0.51      0.52      1048\n",
      "\n",
      "    accuracy                           0.78      4650\n",
      "   macro avg       0.69      0.69      0.69      4650\n",
      "weighted avg       0.78      0.78      0.78      4650\n",
      "\n",
      "[[3111  491]\n",
      " [ 510  538]]\n",
      "{'precision': 0.44805194805194803, 'recall': 0.6634615384615384, 'F1': 0.5348837209302326, 'ERDE_5': 0.2949095034861263, 'ERDE_50': 0.13214738807013127, 'median_latency_tps': 11.0, 'median_penalty_tps': 0.03898023902249159, 'speed': 0.9610197609775084, 'latency_weighted_f1': 0.5140338256391325}\n"
     ]
    },
    {
     "data": {
      "text/plain": [
       "{'precision': 0.44805194805194803,\n",
       " 'recall': 0.6634615384615384,\n",
       " 'F1': 0.5348837209302326,\n",
       " 'ERDE_5': 0.2949095034861263,\n",
       " 'ERDE_50': 0.13214738807013127,\n",
       " 'median_latency_tps': 11.0,\n",
       " 'median_penalty_tps': 0.03898023902249159,\n",
       " 'speed': 0.9610197609775084,\n",
       " 'latency_weighted_f1': 0.5140338256391325}"
      ]
     },
     "execution_count": 5,
     "metadata": {},
     "output_type": "execute_result"
    }
   ],
   "source": [
    "y_pred, classifier = train_and_evaluate(feats_train, y_train, feats_test, y_test, train_samples, \n",
    "                                        classifier_name=\"naive_bayes\", strategy=\"weights\")\n",
    "\n",
    "evaluate(1, 10, {\"test\":\"test\"}, y_pred=y_pred, test_users=test_users)"
   ]
  },
  {
   "cell_type": "code",
   "execution_count": 6,
   "metadata": {},
   "outputs": [
    {
     "name": "stdout",
     "output_type": "stream",
     "text": [
      "              precision    recall  f1-score   support\n",
      "\n",
      "           0       0.87      0.87      0.87      3602\n",
      "           1       0.55      0.55      0.55      1048\n",
      "\n",
      "    accuracy                           0.80      4650\n",
      "   macro avg       0.71      0.71      0.71      4650\n",
      "weighted avg       0.80      0.80      0.80      4650\n",
      "\n",
      "[[3121  481]\n",
      " [ 470  578]]\n",
      "{'precision': 0.4375, 'recall': 0.7403846153846154, 'F1': 0.55, 'ERDE_5': 0.30303327075402364, 'ERDE_50': 0.12137216437804965, 'median_latency_tps': 11.0, 'median_penalty_tps': 0.03898023902249159, 'speed': 0.9610197609775084, 'latency_weighted_f1': 0.5285608685376296}\n"
     ]
    },
    {
     "data": {
      "text/plain": [
       "{'precision': 0.4375,\n",
       " 'recall': 0.7403846153846154,\n",
       " 'F1': 0.55,\n",
       " 'ERDE_5': 0.30303327075402364,\n",
       " 'ERDE_50': 0.12137216437804965,\n",
       " 'median_latency_tps': 11.0,\n",
       " 'median_penalty_tps': 0.03898023902249159,\n",
       " 'speed': 0.9610197609775084,\n",
       " 'latency_weighted_f1': 0.5285608685376296}"
      ]
     },
     "execution_count": 6,
     "metadata": {},
     "output_type": "execute_result"
    }
   ],
   "source": [
    "y_pred, classifier = train_and_evaluate(feats_train, y_train, feats_test, y_test, train_samples, \n",
    "                                        classifier_name=\"linear_svm\", strategy=\"weights\")\n",
    "\n",
    "evaluate(1, 10, {\"test\":\"test\"}, y_pred=y_pred, test_users=test_users)"
   ]
  }
 ],
 "metadata": {
  "kernelspec": {
   "display_name": "Python 3",
   "language": "python",
   "name": "python3"
  },
  "language_info": {
   "codemirror_mode": {
    "name": "ipython",
    "version": 3
   },
   "file_extension": ".py",
   "mimetype": "text/x-python",
   "name": "python",
   "nbconvert_exporter": "python",
   "pygments_lexer": "ipython3",
   "version": "3.6.8"
  }
 },
 "nbformat": 4,
 "nbformat_minor": 4
}
