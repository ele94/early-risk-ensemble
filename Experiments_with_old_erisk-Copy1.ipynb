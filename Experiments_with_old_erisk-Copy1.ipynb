{
 "cells": [
  {
   "cell_type": "code",
   "execution_count": 2,
   "metadata": {},
   "outputs": [
    {
     "name": "stderr",
     "output_type": "stream",
     "text": [
      "/usr/local/lib/python3.6/site-packages/nltk/twitter/__init__.py:20: UserWarning: The twython library has not been installed. Some functionality from the twitter package will not be available.\n",
      "  warnings.warn(\"The twython library has not been installed. \"\n"
     ]
    }
   ],
   "source": [
    "from utils import *\n",
    "from preprocessing import preprocess\n",
    "from windowfy import windowfy\n",
    "from featurizing import featurize\n",
    "from tfidf_featurizer import combine_features, tfidf_featurize\n",
    "from training import train, do_ensemble, do_train\n",
    "from training_traditional import train_and_evaluate\n",
    "from eval_erisk import evaluate\n",
    "from IPython.display import display, Markdown\n",
    "from itertools import product\n",
    "from numpy.random import seed\n",
    "import tensorflow"
   ]
  },
  {
   "cell_type": "code",
   "execution_count": 3,
   "metadata": {},
   "outputs": [
    {
     "name": "stdout",
     "output_type": "stream",
     "text": [
      "Initialized numpy random and tensorflow random seed at 42\n"
     ]
    }
   ],
   "source": [
    "seed(42)\n",
    "tensorflow.random.set_seed(42) \n",
    "logger(\"Initialized numpy random and tensorflow random seed at 42\")"
   ]
  },
  {
   "cell_type": "code",
   "execution_count": 4,
   "metadata": {},
   "outputs": [
    {
     "name": "stdout",
     "output_type": "stream",
     "text": [
      "Windowfying training users\n",
      "[====================] 100%\n",
      "Windowfying test users\n",
      "[====================] 100%Data size: 32892\n",
      "\n",
      "Finished windowfying\n",
      "Featurizing calculate_feats=True, normalize=False, discretize=True, discretize_size=10, include_feats=['first_prons', 'sentiment', 'nssi']\n",
      "Initialized numpy random and tensorflow random seed at 42\n",
      "Data size: 32892, 32892\n",
      "Data size: 25611, 25611\n",
      "Calculating first prons\n",
      "Calculating sentiment\n",
      "Calculating NSSI words\n",
      "Calculating first prons\n",
      "Calculating sentiment\n",
      "Calculating NSSI words\n",
      "Discretizing\n"
     ]
    },
    {
     "name": "stderr",
     "output_type": "stream",
     "text": [
      "/home/ecampillo/.local/lib/python3.6/site-packages/sklearn/preprocessing/_discretization.py:188: UserWarning: Feature 5 is constant and will be replaced with 0.\n",
      "  \"replaced with 0.\" % jj)\n"
     ]
    },
    {
     "name": "stdout",
     "output_type": "stream",
     "text": [
      "Is the combined different from tfidf: False\n",
      "              precision    recall  f1-score   support\n",
      "\n",
      "           0       0.90      0.91      0.91     21304\n",
      "           1       0.53      0.49      0.51      4307\n",
      "\n",
      "    accuracy                           0.84     25611\n",
      "   macro avg       0.72      0.70      0.71     25611\n",
      "weighted avg       0.84      0.84      0.84     25611\n",
      "\n",
      "[[19472  1832]\n",
      " [ 2205  2102]]\n",
      "{'precision': 0.3879310344827586, 'recall': 0.8653846153846154, 'F1': 0.5357142857142857, 'ERDE_5': 0.3280570051854223, 'ERDE_50': 0.12621841939396872, 'median_latency_tps': 11.0, 'median_penalty_tps': 0.03898023902249159, 'speed': 0.9610197609775084, 'latency_weighted_f1': 0.5148320148093795}\n"
     ]
    },
    {
     "data": {
      "text/plain": [
       "{'precision': 0.3879310344827586,\n",
       " 'recall': 0.8653846153846154,\n",
       " 'F1': 0.5357142857142857,\n",
       " 'ERDE_5': 0.3280570051854223,\n",
       " 'ERDE_50': 0.12621841939396872,\n",
       " 'median_latency_tps': 11.0,\n",
       " 'median_penalty_tps': 0.03898023902249159,\n",
       " 'speed': 0.9610197609775084,\n",
       " 'latency_weighted_f1': 0.5148320148093795}"
      ]
     },
     "execution_count": 4,
     "metadata": {},
     "output_type": "execute_result"
    }
   ],
   "source": [
    "train_users, y_train, test_users, y_test, train_samples, X_train, X_test = windowfy(window_size=10, max_size=100, sample_weights_size=100, is_oversample=False, include_new_data=True)\n",
    "feats_text_train, feats_text_test = featurize(calculate_feats=True, include_feats=[\"first_prons\",\"sentiment\",\"nssi\"], \n",
    "                       train_users=train_users, test_users=test_users, discretize=True)\n",
    "tfidf_train, tfidf_test = tfidf_featurize(train_users, test_users, max_features=50000)\n",
    "\n",
    "feats_train, feats_test = combine_features([tfidf_train, feats_text_train], [tfidf_test, feats_text_test])\n",
    "\n",
    "y_pred, classifier = train_and_evaluate(feats_train, y_train, feats_test, y_test, train_samples, \n",
    "                                        classifier_name=\"svm\", strategy=\"weights\")\n",
    "\n",
    "evaluate(1, 10, {\"test\":\"test\"}, y_pred=y_pred, test_users=test_users)\n"
   ]
  },
  {
   "cell_type": "code",
   "execution_count": 5,
   "metadata": {},
   "outputs": [
    {
     "name": "stdout",
     "output_type": "stream",
     "text": [
      "              precision    recall  f1-score   support\n",
      "\n",
      "           0       0.90      0.91      0.90     21304\n",
      "           1       0.53      0.48      0.50      4307\n",
      "\n",
      "    accuracy                           0.84     25611\n",
      "   macro avg       0.71      0.69      0.70     25611\n",
      "weighted avg       0.83      0.84      0.84     25611\n",
      "\n",
      "[[19457  1847]\n",
      " [ 2258  2049]]\n",
      "{'precision': 0.4321608040201005, 'recall': 0.8269230769230769, 'F1': 0.5676567656765675, 'ERDE_5': 0.3112049952721925, 'ERDE_50': 0.11189325165030806, 'median_latency_tps': 11.0, 'median_penalty_tps': 0.03898023902249159, 'speed': 0.9610197609775084, 'latency_weighted_f1': 0.5455293692677604}\n"
     ]
    },
    {
     "data": {
      "text/plain": [
       "{'precision': 0.4321608040201005,\n",
       " 'recall': 0.8269230769230769,\n",
       " 'F1': 0.5676567656765675,\n",
       " 'ERDE_5': 0.3112049952721925,\n",
       " 'ERDE_50': 0.11189325165030806,\n",
       " 'median_latency_tps': 11.0,\n",
       " 'median_penalty_tps': 0.03898023902249159,\n",
       " 'speed': 0.9610197609775084,\n",
       " 'latency_weighted_f1': 0.5455293692677604}"
      ]
     },
     "execution_count": 5,
     "metadata": {},
     "output_type": "execute_result"
    }
   ],
   "source": [
    "y_pred, classifier = train_and_evaluate(feats_train, y_train, feats_test, y_test, train_samples, \n",
    "                                        classifier_name=\"naive_bayes\", strategy=\"weights\")\n",
    "\n",
    "evaluate(1, 10, {\"test\":\"test\"}, y_pred=y_pred, test_users=test_users)"
   ]
  },
  {
   "cell_type": "code",
   "execution_count": 6,
   "metadata": {},
   "outputs": [
    {
     "name": "stdout",
     "output_type": "stream",
     "text": [
      "              precision    recall  f1-score   support\n",
      "\n",
      "           0       0.90      0.90      0.90     21304\n",
      "           1       0.50      0.48      0.49      4307\n",
      "\n",
      "    accuracy                           0.83     25611\n",
      "   macro avg       0.70      0.69      0.69     25611\n",
      "weighted avg       0.83      0.83      0.83     25611\n",
      "\n",
      "[[19229  2075]\n",
      " [ 2237  2070]]\n",
      "{'precision': 0.33088235294117646, 'recall': 0.8653846153846154, 'F1': 0.4787234042553191, 'ERDE_5': 0.3513385895091939, 'ERDE_50': 0.1453432079738996, 'median_latency_tps': 11.0, 'median_penalty_tps': 0.03898023902249159, 'speed': 0.9610197609775084, 'latency_weighted_f1': 0.46006265153178594}\n"
     ]
    },
    {
     "data": {
      "text/plain": [
       "{'precision': 0.33088235294117646,\n",
       " 'recall': 0.8653846153846154,\n",
       " 'F1': 0.4787234042553191,\n",
       " 'ERDE_5': 0.3513385895091939,\n",
       " 'ERDE_50': 0.1453432079738996,\n",
       " 'median_latency_tps': 11.0,\n",
       " 'median_penalty_tps': 0.03898023902249159,\n",
       " 'speed': 0.9610197609775084,\n",
       " 'latency_weighted_f1': 0.46006265153178594}"
      ]
     },
     "execution_count": 6,
     "metadata": {},
     "output_type": "execute_result"
    }
   ],
   "source": [
    "y_pred, classifier = train_and_evaluate(feats_train, y_train, feats_test, y_test, train_samples, \n",
    "                                        classifier_name=\"linear_svm\", strategy=\"weights\")\n",
    "\n",
    "evaluate(1, 10, {\"test\":\"test\"}, y_pred=y_pred, test_users=test_users)"
   ]
  },
  {
   "cell_type": "code",
   "execution_count": null,
   "metadata": {},
   "outputs": [],
   "source": []
  },
  {
   "cell_type": "code",
   "execution_count": null,
   "metadata": {},
   "outputs": [],
   "source": []
  }
 ],
 "metadata": {
  "kernelspec": {
   "display_name": "Python 3",
   "language": "python",
   "name": "python3"
  },
  "language_info": {
   "codemirror_mode": {
    "name": "ipython",
    "version": 3
   },
   "file_extension": ".py",
   "mimetype": "text/x-python",
   "name": "python",
   "nbconvert_exporter": "python",
   "pygments_lexer": "ipython3",
   "version": "3.6.8"
  }
 },
 "nbformat": 4,
 "nbformat_minor": 4
}
