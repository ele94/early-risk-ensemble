{
 "cells": [
  {
   "cell_type": "code",
   "execution_count": 1,
   "metadata": {},
   "outputs": [
    {
     "name": "stderr",
     "output_type": "stream",
     "text": [
      "/usr/local/lib/python3.6/site-packages/nltk/twitter/__init__.py:20: UserWarning: The twython library has not been installed. Some functionality from the twitter package will not be available.\n",
      "  warnings.warn(\"The twython library has not been installed. \"\n"
     ]
    }
   ],
   "source": [
    "from utils import *\n",
    "from preprocessing import preprocess\n",
    "from windowfy import windowfy\n",
    "from featurizing import featurize\n",
    "from training import train, do_ensemble, do_train\n",
    "from eval_erisk import evaluate\n",
    "from IPython.display import display, Markdown\n",
    "from itertools import product\n",
    "from numpy.random import seed\n",
    "import tensorflow"
   ]
  },
  {
   "cell_type": "code",
   "execution_count": 2,
   "metadata": {},
   "outputs": [
    {
     "name": "stdout",
     "output_type": "stream",
     "text": [
      "Initialized numpy random and tensorflow random seed at 42\n"
     ]
    }
   ],
   "source": [
    "seed(42)\n",
    "tensorflow.random.set_seed(42) \n",
    "logger(\"Initialized numpy random and tensorflow random seed at 42\")"
   ]
  },
  {
   "cell_type": "markdown",
   "metadata": {},
   "source": [
    "### With max_size = 10 and new data, sample_weights=10, oversample False, include_new_data=True"
   ]
  },
  {
   "cell_type": "code",
   "execution_count": 3,
   "metadata": {},
   "outputs": [
    {
     "name": "stdout",
     "output_type": "stream",
     "text": [
      "Windowfying training users\n",
      "[====================] 100%\n",
      "Windowfying test users\n",
      "[====================] 100%Data size: 495\n",
      "\n",
      "Finished windowfying\n",
      "Featurizing calculate_feats=True, normalize=False, discretize=False, discretize_size=10, include_feats=['first_prons', 'sentiment', 'nssi']\n",
      "Initialized numpy random and tensorflow random seed at 42\n",
      "Data size: 495, 495\n",
      "Data size: 423, 423\n",
      "Calculating first prons\n",
      "Calculating sentiment\n",
      "Calculating NSSI words\n",
      "Calculating first prons\n",
      "Calculating sentiment\n",
      "Calculating NSSI words\n"
     ]
    }
   ],
   "source": [
    "train_users, y_train, test_users, y_test, train_samples, X_train, X_test = windowfy(window_size=10, max_size=2, sample_weights_size=2, is_oversample=False, include_new_data=True)\n",
    "\n",
    "feats_train, feats_test = featurize(calculate_feats=True, include_feats=[\"first_prons\",\"sentiment\",\"nssi\"], \n",
    "                       train_users=train_users, test_users=test_users)\n",
    "batch_size = 2"
   ]
  },
  {
   "cell_type": "code",
   "execution_count": 4,
   "metadata": {},
   "outputs": [
    {
     "name": "stdout",
     "output_type": "stream",
     "text": [
      "Starting training with cnn_model=cnn_model and maxlen=1000 and batch size=2\n",
      "Generating embeddings\n",
      "Data size: 495\n",
      "Training with callback\n",
      "Evaluating\n",
      "14/14 [==============================] - 1s 8ms/step - loss: 2.0954 - tp: 0.0000e+00 - fp: 5.0000 - tn: 314.0000 - fn: 104.0000 - accuracy: 0.7423 - precision: 0.0000e+00 - recall: 0.0000e+00 - f1_metric: 0.0000e+00\n",
      "Test Score: 2.0954325199127197\n",
      "Test Accuracy: 0.0\n",
      "212/212 [==============================] - 0s 2ms/step\n",
      "Entered here\n",
      "              precision    recall  f1-score   support\n",
      "\n",
      "           0       0.75      0.98      0.85       319\n",
      "           1       0.00      0.00      0.00       104\n",
      "\n",
      "    accuracy                           0.74       423\n",
      "   macro avg       0.38      0.49      0.43       423\n",
      "weighted avg       0.57      0.74      0.64       423\n",
      "\n",
      "[[314   5]\n",
      " [104   0]]\n",
      "Finished training and evaluation\n",
      "{'precision': 0, 'recall': 0, 'F1': 0, 'ERDE_5': 0.24876906482459524, 'ERDE_50': 0.24876906482459524, 'median_latency_tps': nan, 'median_penalty_tps': nan, 'speed': nan, 'latency_weighted_f1': nan}\n"
     ]
    },
    {
     "name": "stderr",
     "output_type": "stream",
     "text": [
      "/usr/local/lib64/python3.6/site-packages/numpy/core/fromnumeric.py:3373: RuntimeWarning: Mean of empty slice.\n",
      "  out=out, **kwargs)\n",
      "/usr/local/lib64/python3.6/site-packages/numpy/core/_methods.py:170: RuntimeWarning: invalid value encountered in double_scalars\n",
      "  ret = ret.dtype.type(ret / rcount)\n"
     ]
    },
    {
     "data": {
      "text/plain": [
       "{'precision': 0,\n",
       " 'recall': 0,\n",
       " 'F1': 0,\n",
       " 'ERDE_5': 0.24876906482459524,\n",
       " 'ERDE_50': 0.24876906482459524,\n",
       " 'median_latency_tps': nan,\n",
       " 'median_penalty_tps': nan,\n",
       " 'speed': nan,\n",
       " 'latency_weighted_f1': nan}"
      ]
     },
     "execution_count": 4,
     "metadata": {},
     "output_type": "execute_result"
    }
   ],
   "source": [
    "y_pred = do_train(model_name=\"cnn_model\", maxlen=1000, epochs=2, batch_size=batch_size,\n",
    "         shuffle=True, patience=2, feats_train=feats_train, feats_test=feats_test, \n",
    "         X_train=X_train, X_test=X_test, y_train=y_train, y_test=y_test, train_sample_weights=train_samples)\n",
    "evaluate(1, 10, {\"test\":\"test\"}, y_pred=y_pred, test_users=test_users)"
   ]
  },
  {
   "cell_type": "code",
   "execution_count": 5,
   "metadata": {},
   "outputs": [
    {
     "name": "stdout",
     "output_type": "stream",
     "text": [
      "Starting training with cnn_model=lstm_model_32 and maxlen=1000 and batch size=2\n",
      "Generating embeddings\n",
      "Data size: 495\n",
      "Training with callback\n",
      "Evaluating\n",
      "14/14 [==============================] - 3s 142ms/step - loss: 10.2276 - tp: 67.0000 - fp: 83.0000 - tn: 236.0000 - fn: 37.0000 - accuracy: 0.7163 - precision: 0.4467 - recall: 0.6442 - f1_metric: 0.5084\n",
      "Test Score: 10.227619171142578\n",
      "Test Accuracy: 67.0\n",
      "212/212 [==============================] - 16s 70ms/step\n",
      "Entered here\n",
      "              precision    recall  f1-score   support\n",
      "\n",
      "           0       0.86      0.74      0.80       319\n",
      "           1       0.45      0.64      0.53       104\n",
      "\n",
      "    accuracy                           0.72       423\n",
      "   macro avg       0.66      0.69      0.66       423\n",
      "weighted avg       0.76      0.72      0.73       423\n",
      "\n",
      "[[236  83]\n",
      " [ 37  67]]\n",
      "Finished training and evaluation\n",
      "{'precision': 0.44666666666666666, 'recall': 0.6442307692307693, 'F1': 0.5275590551181102, 'ERDE_5': 0.29371383837789183, 'ERDE_50': 0.13571304819229973, 'median_latency_tps': 11.0, 'median_penalty_tps': 0.03898023902249159, 'speed': 0.9610197609775084, 'latency_weighted_f1': 0.5069946770511264}\n"
     ]
    },
    {
     "data": {
      "text/plain": [
       "{'precision': 0.44666666666666666,\n",
       " 'recall': 0.6442307692307693,\n",
       " 'F1': 0.5275590551181102,\n",
       " 'ERDE_5': 0.29371383837789183,\n",
       " 'ERDE_50': 0.13571304819229973,\n",
       " 'median_latency_tps': 11.0,\n",
       " 'median_penalty_tps': 0.03898023902249159,\n",
       " 'speed': 0.9610197609775084,\n",
       " 'latency_weighted_f1': 0.5069946770511264}"
      ]
     },
     "execution_count": 5,
     "metadata": {},
     "output_type": "execute_result"
    }
   ],
   "source": [
    "y_pred = do_train(model_name=\"lstm_model_32\", maxlen=1000, epochs=2, batch_size=batch_size,\n",
    "         shuffle=True, patience=2, feats_train=feats_train, feats_test=feats_test, \n",
    "         X_train=X_train, X_test=X_test, y_train=y_train, y_test=y_test)\n",
    "evaluate(1, 10, {\"test\":\"test\"}, y_pred=y_pred, test_users=test_users)"
   ]
  },
  {
   "cell_type": "code",
   "execution_count": 8,
   "metadata": {},
   "outputs": [
    {
     "name": "stdout",
     "output_type": "stream",
     "text": [
      "Starting training with cnn_model=lstm_model_16 and maxlen=1000 and batch size=2\n",
      "Generating embeddings\n",
      "Data size: 495\n",
      "Training with callback\n",
      "Restoring model weights from the end of the best epoch.\n",
      "Epoch 00003: early stopping\n",
      "Evaluating\n",
      "14/14 [==============================] - 3s 107ms/step - loss: 39.4549 - tp: 104.0000 - fp: 318.0000 - tn: 1.0000 - fn: 0.0000e+00 - accuracy: 0.2482 - precision: 0.2464 - recall: 1.0000 - f1_metric: 0.3881\n",
      "Test Score: 39.454925537109375\n",
      "Test Accuracy: 104.0\n",
      "212/212 [==============================] - 14s 64ms/step\n",
      "Entered here\n",
      "              precision    recall  f1-score   support\n",
      "\n",
      "           0       1.00      0.00      0.01       319\n",
      "           1       0.25      1.00      0.40       104\n",
      "\n",
      "    accuracy                           0.25       423\n",
      "   macro avg       0.62      0.50      0.20       423\n",
      "weighted avg       0.81      0.25      0.10       423\n",
      "\n",
      "[[  1 318]\n",
      " [  0 104]]\n",
      "Finished training and evaluation\n",
      "{'precision': 0.24644549763033174, 'recall': 1.0, 'F1': 0.3954372623574145, 'ERDE_5': 0.4300880481201669, 'ERDE_50': 0.1848330902201432, 'median_latency_tps': 11.0, 'median_penalty_tps': 0.03898023902249159, 'speed': 0.9610197609775084, 'latency_weighted_f1': 0.38002302335232274}\n"
     ]
    },
    {
     "data": {
      "text/plain": [
       "{'precision': 0.24644549763033174,\n",
       " 'recall': 1.0,\n",
       " 'F1': 0.3954372623574145,\n",
       " 'ERDE_5': 0.4300880481201669,\n",
       " 'ERDE_50': 0.1848330902201432,\n",
       " 'median_latency_tps': 11.0,\n",
       " 'median_penalty_tps': 0.03898023902249159,\n",
       " 'speed': 0.9610197609775084,\n",
       " 'latency_weighted_f1': 0.38002302335232274}"
      ]
     },
     "execution_count": 8,
     "metadata": {},
     "output_type": "execute_result"
    }
   ],
   "source": [
    "y_pred = do_train(model_name=\"lstm_model_16\", maxlen=1000, epochs=10, batch_size=batch_size,\n",
    "         shuffle=True, patience=2, feats_train=feats_train, feats_test=feats_test, \n",
    "         X_train=X_train, X_test=X_test, y_train=y_train, y_test=y_test)\n",
    "evaluate(1, 10, {\"test\":\"test\"}, y_pred=y_pred, test_users=test_users)"
   ]
  },
  {
   "cell_type": "code",
   "execution_count": 7,
   "metadata": {},
   "outputs": [
    {
     "name": "stdout",
     "output_type": "stream",
     "text": [
      "Evaluating ensemble\n",
      "14/14 [==============================] - 5s 150ms/step - loss: 0.5672 - accuracy: 0.7541\n",
      "Test Score: 0.5672433972358704\n",
      "Test Accuracy: 0.7541370987892151\n",
      "212/212 [==============================] - 15s 65ms/step\n",
      "Entered here\n",
      "              precision    recall  f1-score   support\n",
      "\n",
      "           0       0.75      1.00      0.86       319\n",
      "           1       0.00      0.00      0.00       104\n",
      "\n",
      "    accuracy                           0.75       423\n",
      "   macro avg       0.38      0.50      0.43       423\n",
      "weighted avg       0.57      0.75      0.65       423\n",
      "\n",
      "[[319   0]\n",
      " [104   0]]\n",
      "{'precision': 0, 'recall': 0, 'F1': 0, 'ERDE_5': 0.2458628841607565, 'ERDE_50': 0.2458628841607565, 'median_latency_tps': nan, 'median_penalty_tps': nan, 'speed': nan, 'latency_weighted_f1': nan}\n"
     ]
    },
    {
     "name": "stderr",
     "output_type": "stream",
     "text": [
      "/home/ecampillo/.local/lib/python3.6/site-packages/sklearn/metrics/_classification.py:1245: UndefinedMetricWarning: Precision and F-score are ill-defined and being set to 0.0 in labels with no predicted samples. Use `zero_division` parameter to control this behavior.\n",
      "  _warn_prf(average, modifier, msg_start, len(result))\n",
      "/home/ecampillo/.local/lib/python3.6/site-packages/sklearn/metrics/_classification.py:1245: UndefinedMetricWarning: Precision and F-score are ill-defined and being set to 0.0 in labels with no predicted samples. Use `zero_division` parameter to control this behavior.\n",
      "  _warn_prf(average, modifier, msg_start, len(result))\n",
      "/home/ecampillo/.local/lib/python3.6/site-packages/sklearn/metrics/_classification.py:1245: UndefinedMetricWarning: Precision and F-score are ill-defined and being set to 0.0 in labels with no predicted samples. Use `zero_division` parameter to control this behavior.\n",
      "  _warn_prf(average, modifier, msg_start, len(result))\n",
      "/usr/local/lib64/python3.6/site-packages/numpy/core/fromnumeric.py:3373: RuntimeWarning: Mean of empty slice.\n",
      "  out=out, **kwargs)\n",
      "/usr/local/lib64/python3.6/site-packages/numpy/core/_methods.py:170: RuntimeWarning: invalid value encountered in double_scalars\n",
      "  ret = ret.dtype.type(ret / rcount)\n"
     ]
    },
    {
     "data": {
      "text/plain": [
       "{'precision': 0,\n",
       " 'recall': 0,\n",
       " 'F1': 0,\n",
       " 'ERDE_5': 0.2458628841607565,\n",
       " 'ERDE_50': 0.2458628841607565,\n",
       " 'median_latency_tps': nan,\n",
       " 'median_penalty_tps': nan,\n",
       " 'speed': nan,\n",
       " 'latency_weighted_f1': nan}"
      ]
     },
     "execution_count": 7,
     "metadata": {},
     "output_type": "execute_result"
    }
   ],
   "source": [
    "y_pred = do_train(model_name=\"ensemble_model\", maxlen=1000, epochs=2, batch_size=batch_size,\n",
    "         shuffle=True, patience=10, model_names=[\"cnn_model\", \"lstm_model_16\", \"lstm_model_32\"], \n",
    "                  feats_train=feats_train, feats_test=feats_test, \n",
    "         X_train=X_train, X_test=X_test, y_train=y_train, y_test=y_test)\n",
    "evaluate(1, 10, {\"test\":\"test\"}, y_pred=y_pred, test_users=test_users)"
   ]
  },
  {
   "cell_type": "code",
   "execution_count": null,
   "metadata": {},
   "outputs": [],
   "source": []
  }
 ],
 "metadata": {
  "kernelspec": {
   "display_name": "Python 3",
   "language": "python",
   "name": "python3"
  },
  "language_info": {
   "codemirror_mode": {
    "name": "ipython",
    "version": 3
   },
   "file_extension": ".py",
   "mimetype": "text/x-python",
   "name": "python",
   "nbconvert_exporter": "python",
   "pygments_lexer": "ipython3",
   "version": "3.6.8"
  }
 },
 "nbformat": 4,
 "nbformat_minor": 4
}
