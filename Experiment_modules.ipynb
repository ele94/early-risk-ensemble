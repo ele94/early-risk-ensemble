{
 "cells": [
  {
   "cell_type": "code",
   "execution_count": 1,
   "metadata": {},
   "outputs": [
    {
     "name": "stderr",
     "output_type": "stream",
     "text": [
      "/usr/local/lib/python3.6/site-packages/nltk/twitter/__init__.py:20: UserWarning: The twython library has not been installed. Some functionality from the twitter package will not be available.\n",
      "  warnings.warn(\"The twython library has not been installed. \"\n"
     ]
    }
   ],
   "source": [
    "from utils import *\n",
    "from preprocessing import preprocess\n",
    "from featurizing import featurize\n",
    "from training import train"
   ]
  },
  {
   "cell_type": "code",
   "execution_count": 2,
   "metadata": {},
   "outputs": [],
   "source": [
    "oversample_values = [True, False]\n",
    "normalize_values = [True, False]\n",
    "discretize_values = [True, False]\n",
    "exclude_feats_values = [[], [\"methods\", \"terms\", \"instruments\", \"reasons\"],\n",
    "                 [\"sentiment\", \"methods\", \"terms\", \"instruments\", \"reasons\"]]"
   ]
  },
  {
   "cell_type": "code",
   "execution_count": 3,
   "metadata": {},
   "outputs": [
    {
     "name": "stdout",
     "output_type": "stream",
     "text": [
      "Experiment report: oversample_values: [True, False], normalize_values: [True, False], discretize_values: [True, False], exclude_feats_values: [[], ['methods', 'terms', 'instruments', 'reasons'], ['sentiment', 'methods', 'terms', 'instruments', 'reasons']]\n"
     ]
    }
   ],
   "source": [
    "logger(\"Experiment report: oversample_values: {}, normalize_values: {}, discretize_values: {}, exclude_feats_values: {}\".format(\n",
    "oversample_values, normalize_values, discretize_values, exclude_feats_values))"
   ]
  },
  {
   "cell_type": "code",
   "execution_count": null,
   "metadata": {},
   "outputs": [
    {
     "name": "stdout",
     "output_type": "stream",
     "text": [
      "Preprocessing with oversampling = False\n",
      "Starting preprocessing with oversample: False and join_data: True\n",
      "Initialized numpy random and tensorflow random seed at 42\n",
      "Loading joined user data\n",
      "Finished preprocessing\n",
      "Featurizing calculate_feats=True, normalize=False, discretize=False, discretize_size=10, exclude_feats=[]\n",
      "Initialized numpy random and tensorflow random seed at 42\n"
     ]
    }
   ],
   "source": [
    "logger(\"Preprocessing with oversampling = False\")\n",
    "preprocess(is_oversample=False)\n",
    "featurize(calculate_feats=True)"
   ]
  },
  {
   "cell_type": "code",
   "execution_count": null,
   "metadata": {},
   "outputs": [],
   "source": [
    "for exclude_feats_value in exclude_feats_values:\n",
    "    for normalize_value in normalize_values:\n",
    "        for discretize_value in discretize_values:\n",
    "            logger(\"New experiment\")\n",
    "            featurize(calculate_feats=False, normalize=normalize_value, discretize=discretize_value,\n",
    "                      exclude_feats=exclude_feats_value)\n",
    "            train()\n",
    "            logger(\"Finished experiment\")"
   ]
  },
  {
   "cell_type": "code",
   "execution_count": null,
   "metadata": {},
   "outputs": [],
   "source": [
    "logger(\"Preprocessing with oversampling = True\")\n",
    "preprocess(is_oversample=True)\n",
    "featurize(calculate_feats=True)"
   ]
  },
  {
   "cell_type": "code",
   "execution_count": null,
   "metadata": {},
   "outputs": [],
   "source": [
    "for exclude_feats_value in exclude_feats_values:\n",
    "    for normalize_value in normalize_values:\n",
    "        for discretize_value in discretize_values:\n",
    "            logger(\"New experiment\")\n",
    "            featurize(calculate_feats=False, normalize=normalize_value, discretize=discretize_value,\n",
    "                      exclude_feats=exclude_feats_value)\n",
    "            train()\n",
    "            logger(\"Finished experiment\")"
   ]
  },
  {
   "cell_type": "code",
   "execution_count": null,
   "metadata": {},
   "outputs": [],
   "source": [
    "logger(\"Finished experiments\")"
   ]
  }
 ],
 "metadata": {
  "kernelspec": {
   "display_name": "Python 3",
   "language": "python",
   "name": "python3"
  },
  "language_info": {
   "codemirror_mode": {
    "name": "ipython",
    "version": 3
   },
   "file_extension": ".py",
   "mimetype": "text/x-python",
   "name": "python",
   "nbconvert_exporter": "python",
   "pygments_lexer": "ipython3",
   "version": "3.6.8"
  }
 },
 "nbformat": 4,
 "nbformat_minor": 4
}
