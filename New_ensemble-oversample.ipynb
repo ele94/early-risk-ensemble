{
 "cells": [
  {
   "cell_type": "code",
   "execution_count": 3,
   "metadata": {},
   "outputs": [
    {
     "name": "stderr",
     "output_type": "stream",
     "text": [
      "/usr/local/lib/python3.6/site-packages/nltk/twitter/__init__.py:20: UserWarning: The twython library has not been installed. Some functionality from the twitter package will not be available.\n",
      "  warnings.warn(\"The twython library has not been installed. \"\n"
     ]
    }
   ],
   "source": [
    "from utils import *\n",
    "from preprocessing import preprocess\n",
    "from windowfy import windowfy\n",
    "from featurizing import featurize\n",
    "from tfidf_featurizer import combine_features, tfidf_featurize\n",
    "from training import train, do_ensemble, do_train\n",
    "from training_traditional import train_and_evaluate\n",
    "from eval_erisk import evaluate, ensemble_vote\n",
    "from IPython.display import display, Markdown\n",
    "from itertools import product\n",
    "from numpy.random import seed\n",
    "import tensorflow\n",
    "import numpy as np"
   ]
  },
  {
   "cell_type": "code",
   "execution_count": 4,
   "metadata": {},
   "outputs": [
    {
     "name": "stdout",
     "output_type": "stream",
     "text": [
      "Initialized numpy random and tensorflow random seed at 42\n"
     ]
    }
   ],
   "source": [
    "seed(42)\n",
    "tensorflow.random.set_seed(42) \n",
    "logger(\"Initialized numpy random and tensorflow random seed at 42\")"
   ]
  },
  {
   "cell_type": "markdown",
   "metadata": {},
   "source": [
    "### With max_size = 10 and new data, sample_weights=10, oversample False, include_new_data=True"
   ]
  },
  {
   "cell_type": "code",
   "execution_count": 5,
   "metadata": {},
   "outputs": [],
   "source": [
    "y_preds = {}"
   ]
  },
  {
   "cell_type": "code",
   "execution_count": 6,
   "metadata": {},
   "outputs": [],
   "source": [
    "# prepare training data"
   ]
  },
  {
   "cell_type": "code",
   "execution_count": 7,
   "metadata": {},
   "outputs": [
    {
     "name": "stdout",
     "output_type": "stream",
     "text": [
      "Windowfying training users\n",
      "[====================] 100%\n",
      "Windowfying test users\n",
      "[====================] 100%\n",
      "Oversampling train users\n",
      "After oversample: positive messages: 2792, negative messages: 3491\n",
      "Data size: 6283\n",
      "\n",
      "Finished windowfying\n",
      "Featurizing calculate_feats=True, normalize=True, discretize=True, discretize_size=10, include_feats=['first_prons', 'sentiment', 'nssi']\n",
      "Initialized numpy random and tensorflow random seed at 42\n",
      "Data size: 6283, 6283\n",
      "Data size: 4650, 4650\n",
      "Calculating first prons\n",
      "Calculating sentiment\n",
      "Calculating NSSI words\n",
      "Calculating first prons\n",
      "Calculating sentiment\n",
      "Calculating NSSI words\n",
      "Normalizing features\n",
      "Discretizing\n"
     ]
    },
    {
     "name": "stderr",
     "output_type": "stream",
     "text": [
      "/home/ecampillo/.local/lib/python3.6/site-packages/sklearn/preprocessing/_discretization.py:188: UserWarning: Feature 5 is constant and will be replaced with 0.\n",
      "  \"replaced with 0.\" % jj)\n"
     ]
    },
    {
     "name": "stdout",
     "output_type": "stream",
     "text": [
      "Is the combined the same from tfidf: False\n"
     ]
    }
   ],
   "source": [
    "train_users, y_train, test_users, y_test, train_samples, X_train, X_test = windowfy(window_size=10, max_size=20, sample_weights_size=20, is_oversample=True, include_new_data=False)\n",
    "feats_train, feats_test = featurize(calculate_feats=True, include_feats=[\"first_prons\",\"sentiment\",\"nssi\"], \n",
    "                       train_users=train_users, test_users=test_users, discretize=True, normalize=True)\n",
    "tfidf_train, tfidf_test = tfidf_featurize(train_users, test_users, max_features=50000)\n",
    "\n",
    "feats_train_comb, feats_test_comb = combine_features([tfidf_train, feats_train], [tfidf_test, feats_test])\n",
    "\n",
    "feats_train_comb = feats_train_comb.toarray()\n",
    "feats_test_comb = feats_test_comb.toarray()"
   ]
  },
  {
   "cell_type": "code",
   "execution_count": 8,
   "metadata": {},
   "outputs": [],
   "source": [
    "# traditional classifiers"
   ]
  },
  {
   "cell_type": "code",
   "execution_count": 9,
   "metadata": {},
   "outputs": [
    {
     "name": "stdout",
     "output_type": "stream",
     "text": [
      "              precision    recall  f1-score   support\n",
      "\n",
      "           0       0.83      0.98      0.90      3602\n",
      "           1       0.84      0.28      0.42      1048\n",
      "\n",
      "    accuracy                           0.83      4650\n",
      "   macro avg       0.83      0.63      0.66      4650\n",
      "weighted avg       0.83      0.83      0.79      4650\n",
      "\n",
      "[[3546   56]\n",
      " [ 752  296]]\n",
      "{'precision': 0.7361111111111112, 'recall': 0.5096153846153846, 'F1': 0.6022727272727273, 'ERDE_5': 0.25669864310161844, 'ERDE_50': 0.13161086240911302, 'median_latency_tps': 11.0, 'median_penalty_tps': 0.03898023902249159, 'speed': 0.9610197609775084, 'latency_weighted_f1': 0.5787959924069085}\n"
     ]
    }
   ],
   "source": [
    "y_pred, classifier = train_and_evaluate(feats_train_comb, y_train, feats_test_comb, y_test, train_samples, \n",
    "                                        classifier_name=\"svm\", strategy=\"weights\")\n",
    "eval_resul = evaluate(1, 10, {\"test\":\"test\"}, y_pred=y_pred, test_users=test_users)\n",
    "y_preds[\"svm\"] = y_pred"
   ]
  },
  {
   "cell_type": "code",
   "execution_count": 10,
   "metadata": {},
   "outputs": [
    {
     "name": "stdout",
     "output_type": "stream",
     "text": [
      "              precision    recall  f1-score   support\n",
      "\n",
      "           0       0.86      0.90      0.88      3602\n",
      "           1       0.58      0.48      0.53      1048\n",
      "\n",
      "    accuracy                           0.81      4650\n",
      "   macro avg       0.72      0.69      0.70      4650\n",
      "weighted avg       0.79      0.81      0.80      4650\n",
      "\n",
      "[[3237  365]\n",
      " [ 541  507]]\n",
      "{'precision': 0.49324324324324326, 'recall': 0.7019230769230769, 'F1': 0.5793650793650794, 'ERDE_5': 0.28911563836223, 'ERDE_50': 0.11687876196703907, 'median_latency_tps': 11.0, 'median_penalty_tps': 0.03898023902249159, 'speed': 0.9610197609775084, 'latency_weighted_f1': 0.5567812900901438}\n"
     ]
    }
   ],
   "source": [
    "y_pred, classifier = train_and_evaluate(feats_train_comb, y_train, feats_test_comb, y_test, train_samples, \n",
    "                                        classifier_name=\"bayes\", strategy=\"weights\")\n",
    "eval_resul = evaluate(1, 10, {\"test\":\"test\"}, y_pred=y_pred, test_users=test_users)\n",
    "y_preds[\"bayes\"] = y_pred"
   ]
  },
  {
   "cell_type": "code",
   "execution_count": 11,
   "metadata": {},
   "outputs": [],
   "source": [
    "# deep learning classifiers\n",
    "batch_size=32\n",
    "model_name = \"cnn_model\"\n",
    "iterations = 10"
   ]
  },
  {
   "cell_type": "code",
   "execution_count": 12,
   "metadata": {},
   "outputs": [
    {
     "name": "stdout",
     "output_type": "stream",
     "text": [
      "Starting training with cnn_model=cnn_model and maxlen=1000 and batch size=32\n",
      "Generating embeddings\n",
      "Data size: 6283\n",
      "Training with callback\n",
      "Restoring model weights from the end of the best epoch.\n",
      "Epoch 00043: early stopping\n",
      "Evaluating\n",
      "146/146 [==============================] - 4s 14ms/step - loss: 0.4729 - tp: 214.0000 - fp: 43.0000 - tn: 3559.0000 - fn: 834.0000 - accuracy: 0.8114 - precision: 0.8327 - recall: 0.2042 - f1_metric: 0.1659\n",
      "Test Score: 0.47294318675994873\n",
      "Test Accuracy: 214.0\n",
      "146/146 [==============================] - 2s 12ms/step\n",
      "Entered here\n",
      "              precision    recall  f1-score   support\n",
      "\n",
      "           0       0.81      0.99      0.89      3602\n",
      "           1       0.83      0.20      0.33      1048\n",
      "\n",
      "    accuracy                           0.81      4650\n",
      "   macro avg       0.82      0.60      0.61      4650\n",
      "weighted avg       0.82      0.81      0.76      4650\n",
      "\n",
      "[[3559   43]\n",
      " [ 834  214]]\n",
      "Finished training and evaluation\n",
      "{'precision': 0.7288135593220338, 'recall': 0.41346153846153844, 'F1': 0.5276073619631901, 'ERDE_5': 0.25502537278765414, 'ERDE_50': 0.15350781594934476, 'median_latency_tps': 12.0, 'median_penalty_tps': 0.042873701496841665, 'speed': 0.9571262985031583, 'latency_weighted_f1': 0.5049868814188442}\n",
      "Starting training with cnn_model=cnn_model and maxlen=1000 and batch size=32\n",
      "Generating embeddings\n",
      "Data size: 6283\n",
      "Training with callback\n",
      "Restoring model weights from the end of the best epoch.\n",
      "Epoch 00043: early stopping\n",
      "Evaluating\n",
      "146/146 [==============================] - 4s 14ms/step - loss: 0.5586 - tp: 144.0000 - fp: 11.0000 - tn: 3591.0000 - fn: 904.0000 - accuracy: 0.8032 - precision: 0.9290 - recall: 0.1374 - f1_metric: 0.1107\n",
      "Test Score: 0.5585820078849792\n",
      "Test Accuracy: 144.0\n",
      "146/146 [==============================] - 2s 12ms/step\n",
      "Entered here\n",
      "              precision    recall  f1-score   support\n",
      "\n",
      "           0       0.80      1.00      0.89      3602\n",
      "           1       0.93      0.14      0.24      1048\n",
      "\n",
      "    accuracy                           0.80      4650\n",
      "   macro avg       0.86      0.57      0.56      4650\n",
      "weighted avg       0.83      0.80      0.74      4650\n",
      "\n",
      "[[3591   11]\n",
      " [ 904  144]]\n",
      "Finished training and evaluation\n",
      "{'precision': 0.9230769230769231, 'recall': 0.34615384615384615, 'F1': 0.5034965034965035, 'ERDE_5': 0.24749888354278693, 'ERDE_50': 0.16250020958033717, 'median_latency_tps': 12.0, 'median_penalty_tps': 0.042873701496841665, 'speed': 0.9571262985031583, 'latency_weighted_f1': 0.48190974470089093}\n",
      "Starting training with cnn_model=cnn_model and maxlen=1000 and batch size=32\n",
      "Generating embeddings\n",
      "Data size: 6283\n",
      "Training with callback\n",
      "Restoring model weights from the end of the best epoch.\n",
      "Epoch 00043: early stopping\n",
      "Evaluating\n",
      "146/146 [==============================] - 2s 8ms/step - loss: 0.6046 - tp: 152.0000 - fp: 23.0000 - tn: 3579.0000 - fn: 896.0000 - accuracy: 0.8024 - precision: 0.8686 - recall: 0.1450 - f1_metric: 0.1221\n",
      "Test Score: 0.6046189069747925\n",
      "Test Accuracy: 152.0\n",
      "146/146 [==============================] - 1s 7ms/step\n",
      "Entered here\n",
      "              precision    recall  f1-score   support\n",
      "\n",
      "           0       0.80      0.99      0.89      3602\n",
      "           1       0.87      0.15      0.25      1048\n",
      "\n",
      "    accuracy                           0.80      4650\n",
      "   macro avg       0.83      0.57      0.57      4650\n",
      "weighted avg       0.82      0.80      0.74      4650\n",
      "\n",
      "[[3579   23]\n",
      " [ 896  152]]\n",
      "Finished training and evaluation\n",
      "{'precision': 0.8205128205128205, 'recall': 0.3076923076923077, 'F1': 0.44755244755244755, 'ERDE_5': 0.2498153080440584, 'ERDE_50': 0.17428141888682264, 'median_latency_tps': 11.0, 'median_penalty_tps': 0.03898023902249159, 'speed': 0.9610197609775084, 'latency_weighted_f1': 0.43010674617175204}\n",
      "Starting training with cnn_model=cnn_model and maxlen=1000 and batch size=32\n",
      "Generating embeddings\n",
      "Data size: 6283\n",
      "Training with callback\n",
      "Restoring model weights from the end of the best epoch.\n",
      "Epoch 00049: early stopping\n",
      "Evaluating\n",
      "146/146 [==============================] - 2s 8ms/step - loss: 0.4728 - tp: 253.0000 - fp: 42.0000 - tn: 3560.0000 - fn: 795.0000 - accuracy: 0.8200 - precision: 0.8576 - recall: 0.2414 - f1_metric: 0.1931\n",
      "Test Score: 0.4727526009082794\n",
      "Test Accuracy: 253.0\n",
      "146/146 [==============================] - 1s 7ms/step\n",
      "Entered here\n",
      "              precision    recall  f1-score   support\n",
      "\n",
      "           0       0.82      0.99      0.89      3602\n",
      "           1       0.86      0.24      0.38      1048\n",
      "\n",
      "    accuracy                           0.82      4650\n",
      "   macro avg       0.84      0.61      0.64      4650\n",
      "weighted avg       0.83      0.82      0.78      4650\n",
      "\n",
      "[[3560   42]\n",
      " [ 795  253]]\n",
      "Finished training and evaluation\n",
      "{'precision': 0.8, 'recall': 0.5, 'F1': 0.6153846153846154, 'ERDE_5': 0.25323523274388776, 'ERDE_50': 0.1304875118063608, 'median_latency_tps': 11.0, 'median_penalty_tps': 0.03898023902249159, 'speed': 0.9610197609775084, 'latency_weighted_f1': 0.591396775986159}\n",
      "Starting training with cnn_model=cnn_model and maxlen=1000 and batch size=32\n",
      "Generating embeddings\n",
      "Data size: 6283\n",
      "Training with callback\n",
      "Restoring model weights from the end of the best epoch.\n",
      "Epoch 00043: early stopping\n",
      "Evaluating\n",
      "146/146 [==============================] - 2s 8ms/step - loss: 0.5592 - tp: 197.0000 - fp: 19.0000 - tn: 3583.0000 - fn: 851.0000 - accuracy: 0.8129 - precision: 0.9120 - recall: 0.1880 - f1_metric: 0.1433\n",
      "Test Score: 0.5592321157455444\n",
      "Test Accuracy: 197.0\n",
      "146/146 [==============================] - 1s 7ms/step\n",
      "Entered here\n",
      "              precision    recall  f1-score   support\n",
      "\n",
      "           0       0.81      0.99      0.89      3602\n",
      "           1       0.91      0.19      0.31      1048\n",
      "\n",
      "    accuracy                           0.81      4650\n",
      "   macro avg       0.86      0.59      0.60      4650\n",
      "weighted avg       0.83      0.81      0.76      4650\n",
      "\n",
      "[[3583   19]\n",
      " [ 851  197]]\n",
      "Finished training and evaluation\n",
      "{'precision': 0.8444444444444444, 'recall': 0.36538461538461536, 'F1': 0.5100671140939597, 'ERDE_5': 0.2497931471853325, 'ERDE_50': 0.1600970217237027, 'median_latency_tps': 11.0, 'median_penalty_tps': 0.03898023902249159, 'speed': 0.9610197609775084, 'latency_weighted_f1': 0.4901845760690646}\n",
      "Starting training with cnn_model=cnn_model and maxlen=1000 and batch size=32\n",
      "Generating embeddings\n",
      "Data size: 6283\n",
      "Training with callback\n",
      "Restoring model weights from the end of the best epoch.\n",
      "Epoch 00043: early stopping\n",
      "Evaluating\n",
      "146/146 [==============================] - 2s 8ms/step - loss: 0.6046 - tp: 118.0000 - fp: 12.0000 - tn: 3590.0000 - fn: 930.0000 - accuracy: 0.7974 - precision: 0.9077 - recall: 0.1126 - f1_metric: 0.0957\n",
      "Test Score: 0.6046109795570374\n",
      "Test Accuracy: 118.0\n",
      "146/146 [==============================] - 1s 7ms/step\n",
      "Entered here\n",
      "              precision    recall  f1-score   support\n",
      "\n",
      "           0       0.79      1.00      0.88      3602\n",
      "           1       0.91      0.11      0.20      1048\n",
      "\n",
      "    accuracy                           0.80      4650\n",
      "   macro avg       0.85      0.55      0.54      4650\n",
      "weighted avg       0.82      0.80      0.73      4650\n",
      "\n",
      "[[3590   12]\n",
      " [ 930  118]]\n",
      "Finished training and evaluation\n",
      "{'precision': 0.8823529411764706, 'recall': 0.28846153846153844, 'F1': 0.4347826086956522, 'ERDE_5': 0.2481112718100613, 'ERDE_50': 0.17726584287622796, 'median_latency_tps': 13.0, 'median_penalty_tps': 0.046765862163709926, 'speed': 0.9532341378362901, 'latency_weighted_f1': 0.41444962514621314}\n",
      "Starting training with cnn_model=cnn_model and maxlen=1000 and batch size=32\n",
      "Generating embeddings\n",
      "Data size: 6283\n",
      "Training with callback\n",
      "Restoring model weights from the end of the best epoch.\n",
      "Epoch 00043: early stopping\n",
      "Evaluating\n",
      "146/146 [==============================] - 2s 8ms/step - loss: 0.4945 - tp: 237.0000 - fp: 50.0000 - tn: 3552.0000 - fn: 811.0000 - accuracy: 0.8148 - precision: 0.8258 - recall: 0.2261 - f1_metric: 0.1816\n",
      "Test Score: 0.4944685101509094\n",
      "Test Accuracy: 237.0\n",
      "146/146 [==============================] - 1s 7ms/step\n",
      "Entered here\n",
      "              precision    recall  f1-score   support\n",
      "\n",
      "           0       0.81      0.99      0.89      3602\n",
      "           1       0.83      0.23      0.36      1048\n",
      "\n",
      "    accuracy                           0.81      4650\n",
      "   macro avg       0.82      0.61      0.62      4650\n",
      "weighted avg       0.82      0.81      0.77      4650\n",
      "\n",
      "[[3552   50]\n",
      " [ 811  237]]\n",
      "Finished training and evaluation\n"
     ]
    },
    {
     "name": "stdout",
     "output_type": "stream",
     "text": [
      "{'precision': 0.7457627118644068, 'recall': 0.4230769230769231, 'F1': 0.5398773006134969, 'ERDE_5': 0.25442383822799597, 'ERDE_50': 0.15056251362272557, 'median_latency_tps': 11.0, 'median_penalty_tps': 0.03898023902249159, 'speed': 0.9610197609775084, 'latency_weighted_f1': 0.5188327543927652}\n",
      "Starting training with cnn_model=cnn_model and maxlen=1000 and batch size=32\n",
      "Generating embeddings\n",
      "Data size: 6283\n",
      "Training with callback\n",
      "Restoring model weights from the end of the best epoch.\n",
      "Epoch 00043: early stopping\n",
      "Evaluating\n",
      "146/146 [==============================] - 2s 9ms/step - loss: 0.5139 - tp: 229.0000 - fp: 56.0000 - tn: 3546.0000 - fn: 819.0000 - accuracy: 0.8118 - precision: 0.8035 - recall: 0.2185 - f1_metric: 0.1886\n",
      "Test Score: 0.5139224529266357\n",
      "Test Accuracy: 229.0\n",
      "146/146 [==============================] - 1s 8ms/step\n",
      "Entered here\n",
      "              precision    recall  f1-score   support\n",
      "\n",
      "           0       0.81      0.98      0.89      3602\n",
      "           1       0.80      0.22      0.34      1048\n",
      "\n",
      "    accuracy                           0.81      4650\n",
      "   macro avg       0.81      0.60      0.62      4650\n",
      "weighted avg       0.81      0.81      0.77      4650\n",
      "\n",
      "[[3546   56]\n",
      " [ 819  229]]\n",
      "Finished training and evaluation\n",
      "{'precision': 0.6956521739130435, 'recall': 0.46153846153846156, 'F1': 0.5549132947976878, 'ERDE_5': 0.2578837017306243, 'ERDE_50': 0.14459366564391588, 'median_latency_tps': 11.0, 'median_penalty_tps': 0.03898023902249159, 'speed': 0.9610197609775084, 'latency_weighted_f1': 0.5332826419297156}\n",
      "Starting training with cnn_model=cnn_model and maxlen=1000 and batch size=32\n",
      "Generating embeddings\n",
      "Data size: 6283\n",
      "Training with callback\n",
      "Restoring model weights from the end of the best epoch.\n",
      "Epoch 00043: early stopping\n",
      "Evaluating\n",
      "146/146 [==============================] - 3s 9ms/step - loss: 0.5989 - tp: 124.0000 - fp: 5.0000 - tn: 3597.0000 - fn: 924.0000 - accuracy: 0.8002 - precision: 0.9612 - recall: 0.1183 - f1_metric: 0.0971\n",
      "Test Score: 0.5989298224449158\n",
      "Test Accuracy: 124.0\n",
      "146/146 [==============================] - 1s 8ms/step\n",
      "Entered here\n",
      "              precision    recall  f1-score   support\n",
      "\n",
      "           0       0.80      1.00      0.89      3602\n",
      "           1       0.96      0.12      0.21      1048\n",
      "\n",
      "    accuracy                           0.80      4650\n",
      "   macro avg       0.88      0.56      0.55      4650\n",
      "weighted avg       0.83      0.80      0.73      4650\n",
      "\n",
      "[[3597    5]\n",
      " [ 924  124]]\n",
      "Finished training and evaluation\n",
      "{'precision': 0.9354838709677419, 'recall': 0.27884615384615385, 'F1': 0.4296296296296296, 'ERDE_5': 0.24693743399230697, 'ERDE_50': 0.17846743680454427, 'median_latency_tps': 12.0, 'median_penalty_tps': 0.042873701496841665, 'speed': 0.9571262985031583, 'latency_weighted_f1': 0.4112098171346902}\n",
      "Starting training with cnn_model=cnn_model and maxlen=1000 and batch size=32\n",
      "Generating embeddings\n",
      "Data size: 6283\n",
      "Training with callback\n",
      "Restoring model weights from the end of the best epoch.\n",
      "Epoch 00043: early stopping\n",
      "Evaluating\n",
      "146/146 [==============================] - 2s 8ms/step - loss: 0.5006 - tp: 199.0000 - fp: 38.0000 - tn: 3564.0000 - fn: 849.0000 - accuracy: 0.8092 - precision: 0.8397 - recall: 0.1899 - f1_metric: 0.1552\n",
      "Test Score: 0.5005888938903809\n",
      "Test Accuracy: 199.0\n",
      "146/146 [==============================] - 1s 7ms/step\n",
      "Entered here\n",
      "              precision    recall  f1-score   support\n",
      "\n",
      "           0       0.81      0.99      0.89      3602\n",
      "           1       0.84      0.19      0.31      1048\n",
      "\n",
      "    accuracy                           0.81      4650\n",
      "   macro avg       0.82      0.59      0.60      4650\n",
      "weighted avg       0.81      0.81      0.76      4650\n",
      "\n",
      "[[3564   38]\n",
      " [ 849  199]]\n",
      "Finished training and evaluation\n",
      "{'precision': 0.8, 'recall': 0.38461538461538464, 'F1': 0.5194805194805195, 'ERDE_5': 0.2515372379006007, 'ERDE_50': 0.15711259773429975, 'median_latency_tps': 11.0, 'median_penalty_tps': 0.03898023902249159, 'speed': 0.9610197609775084, 'latency_weighted_f1': 0.49923104466364077}\n"
     ]
    }
   ],
   "source": [
    "model_resuls = {}\n",
    "for i in range(0, iterations):\n",
    "    y_pred = do_train(model_name=model_name, maxlen=1000, epochs=100, batch_size=batch_size,\n",
    "                 shuffle=True, patience=30, feats_train=feats_train, feats_test=feats_test, \n",
    "                 X_train=X_train, X_test=X_test, y_train=y_train, y_test=y_test, train_sample_weights=train_samples)\n",
    "    eval_resul = evaluate(1, 10, {\"test\":\"test\"}, y_pred=y_pred, test_users=test_users)\n",
    "    model_resuls[eval_resul['latency_weighted_f1']] = y_pred\n",
    "\n",
    "y_preds[model_name] = model_resuls[max(model_resuls.keys())]"
   ]
  },
  {
   "cell_type": "code",
   "execution_count": 13,
   "metadata": {},
   "outputs": [],
   "source": [
    "# deep learning classifiers\n",
    "batch_size=32\n",
    "model_name = \"lstm_model_32\"\n",
    "iterations = 1"
   ]
  },
  {
   "cell_type": "code",
   "execution_count": null,
   "metadata": {},
   "outputs": [
    {
     "name": "stdout",
     "output_type": "stream",
     "text": [
      "Starting training with cnn_model=lstm_model_32 and maxlen=1000 and batch size=32\n",
      "Generating embeddings\n",
      "Data size: 6283\n",
      "Training with callback\n"
     ]
    }
   ],
   "source": [
    "model_resuls = {}\n",
    "for i in range(0, iterations):\n",
    "    y_pred = do_train(model_name=model_name, maxlen=1000, epochs=100, batch_size=batch_size,\n",
    "                 shuffle=True, patience=30, feats_train=feats_train, feats_test=feats_test, \n",
    "                 X_train=X_train, X_test=X_test, y_train=y_train, y_test=y_test, train_sample_weights=train_samples)\n",
    "    eval_resul = evaluate(1, 10, {\"test\":\"test\"}, y_pred=y_pred, test_users=test_users)\n",
    "    model_resuls[eval_resul['latency_weighted_f1']] = y_pred\n",
    "\n",
    "if len(model_resuls.keys() > 0):\n",
    "    y_preds[model_name] = model_resuls[max(model_resuls.keys())]"
   ]
  },
  {
   "cell_type": "code",
   "execution_count": null,
   "metadata": {},
   "outputs": [],
   "source": [
    "print(y_preds[\"cnn_model\"].flatten())"
   ]
  },
  {
   "cell_type": "code",
   "execution_count": null,
   "metadata": {},
   "outputs": [],
   "source": [
    "# ensemble"
   ]
  },
  {
   "cell_type": "code",
   "execution_count": 1,
   "metadata": {},
   "outputs": [
    {
     "ename": "NameError",
     "evalue": "name 'ensemble_vote' is not defined",
     "output_type": "error",
     "traceback": [
      "\u001b[0;31m---------------------------------------------------------------------------\u001b[0m",
      "\u001b[0;31mNameError\u001b[0m                                 Traceback (most recent call last)",
      "\u001b[0;32m<ipython-input-1-7a0cdafd7b37>\u001b[0m in \u001b[0;36m<module>\u001b[0;34m\u001b[0m\n\u001b[0;32m----> 1\u001b[0;31m \u001b[0my_pred\u001b[0m \u001b[0;34m=\u001b[0m \u001b[0mensemble_vote\u001b[0m\u001b[0;34m(\u001b[0m\u001b[0mnp\u001b[0m\u001b[0;34m.\u001b[0m\u001b[0marray\u001b[0m\u001b[0;34m(\u001b[0m\u001b[0;34m[\u001b[0m\u001b[0my_preds\u001b[0m\u001b[0;34m[\u001b[0m\u001b[0;34m\"svm\"\u001b[0m\u001b[0;34m]\u001b[0m\u001b[0;34m,\u001b[0m \u001b[0my_preds\u001b[0m\u001b[0;34m[\u001b[0m\u001b[0;34m\"bayes\"\u001b[0m\u001b[0;34m]\u001b[0m\u001b[0;34m,\u001b[0m \u001b[0my_preds\u001b[0m\u001b[0;34m[\u001b[0m\u001b[0;34m\"cnn_model\"\u001b[0m\u001b[0;34m]\u001b[0m\u001b[0;34m.\u001b[0m\u001b[0mflatten\u001b[0m\u001b[0;34m(\u001b[0m\u001b[0;34m)\u001b[0m\u001b[0;34m]\u001b[0m\u001b[0;34m)\u001b[0m\u001b[0;34m)\u001b[0m\u001b[0;34m\u001b[0m\u001b[0;34m\u001b[0m\u001b[0m\n\u001b[0m\u001b[1;32m      2\u001b[0m \u001b[0mevaluate\u001b[0m\u001b[0;34m(\u001b[0m\u001b[0;36m1\u001b[0m\u001b[0;34m,\u001b[0m \u001b[0;36m10\u001b[0m\u001b[0;34m,\u001b[0m \u001b[0;34m{\u001b[0m\u001b[0;34m\"test\"\u001b[0m\u001b[0;34m:\u001b[0m\u001b[0;34m\"test\"\u001b[0m\u001b[0;34m}\u001b[0m\u001b[0;34m,\u001b[0m \u001b[0my_pred\u001b[0m\u001b[0;34m=\u001b[0m\u001b[0my_pred\u001b[0m\u001b[0;34m,\u001b[0m \u001b[0mtest_users\u001b[0m\u001b[0;34m=\u001b[0m\u001b[0mtest_users\u001b[0m\u001b[0;34m)\u001b[0m\u001b[0;34m\u001b[0m\u001b[0;34m\u001b[0m\u001b[0m\n",
      "\u001b[0;31mNameError\u001b[0m: name 'ensemble_vote' is not defined"
     ]
    }
   ],
   "source": [
    "y_pred = ensemble_vote(np.array([y_preds[\"svm\"], y_preds[\"bayes\"], y_preds[\"cnn_model\"].flatten()]))\n",
    "evaluate(1, 10, {\"test\":\"test\"}, y_pred=y_pred, test_users=test_users)"
   ]
  },
  {
   "cell_type": "code",
   "execution_count": null,
   "metadata": {},
   "outputs": [],
   "source": [
    "evaluate(2, 10, {\"test\":\"test\"}, y_pred=y_pred, test_users=test_users)"
   ]
  },
  {
   "cell_type": "code",
   "execution_count": null,
   "metadata": {},
   "outputs": [],
   "source": [
    "evaluate(3, 10, {\"test\":\"test\"}, y_pred=y_pred, test_users=test_users)"
   ]
  },
  {
   "cell_type": "code",
   "execution_count": null,
   "metadata": {},
   "outputs": [],
   "source": []
  }
 ],
 "metadata": {
  "kernelspec": {
   "display_name": "Python 3",
   "language": "python",
   "name": "python3"
  },
  "language_info": {
   "codemirror_mode": {
    "name": "ipython",
    "version": 3
   },
   "file_extension": ".py",
   "mimetype": "text/x-python",
   "name": "python",
   "nbconvert_exporter": "python",
   "pygments_lexer": "ipython3",
   "version": "3.6.8"
  }
 },
 "nbformat": 4,
 "nbformat_minor": 4
}
