{
 "cells": [
  {
   "cell_type": "code",
   "execution_count": null,
   "metadata": {},
   "outputs": [],
   "source": [
    "from utils import *\n",
    "from experiment_utils import *\n",
    "from preprocessing import preprocess\n",
    "from windowfy import windowfy\n",
    "from featurizing import featurize\n",
    "from tfidf_featurizer import combine_features, tfidf_featurize\n",
    "from training import train, do_ensemble, do_train\n",
    "from training_traditional import train_and_evaluate\n",
    "from eval_erisk import evaluate, ensemble_vote\n",
    "from IPython.display import display, Markdown\n",
    "from itertools import product\n",
    "from numpy.random import seed\n",
    "import tensorflow\n",
    "import numpy as np"
   ]
  },
  {
   "cell_type": "code",
   "execution_count": null,
   "metadata": {},
   "outputs": [],
   "source": [
    "seed(42)\n",
    "tensorflow.random.set_seed(42) \n",
    "logger(\"Initialized numpy random and tensorflow random seed at 42\")"
   ]
  },
  {
   "cell_type": "code",
   "execution_count": null,
   "metadata": {},
   "outputs": [],
   "source": [
    "# params\n",
    "\n",
    "first_part = {\n",
    "    \"include_feats\": [[\"first_prons\", \"nssi\"],[\"first_prons\",\"sentiment\",\"nssi\"]],\n",
    "    \"feat_window_size\": [10], #10\n",
    "    \"max_size\": [20],\n",
    "    \"sample_weights_size\": [20],\n",
    "    \"oversample\": [False],\n",
    "    \"include_new_data\": [False],\n",
    "    \"tfidf_max_features\": [5000, 50000],\n",
    "    \"scale\": [False, True],\n",
    "    \"normalize\": [True, False],\n",
    "    \"discretize\": [True, False],\n",
    "    \"discretize_size\": [50, 75],\n",
    "    \"dis_strategy\": [\"quantile\"]\n",
    "}\n",
    "\n",
    "second_part = {\n",
    "    \"eval_window_size\": [1],\n",
    "    \"maxlen\": [1000],\n",
    "    \"batch_size\": [32],\n",
    "    \"epochs\": [100],\n",
    "    \"patience\": [10],\n",
    "    \"iterations\": [5],\n",
    "    \"shuffle\": [True, False],\n",
    "}\n",
    "\n",
    "models = [\"svm\", \"bayes\", \"cnn_model\", \"lstm_model\", \"lstm_model_32\", \"lstm_model_16\"]\n",
    "ensemble_combinations = [[\"svm\", \"cnn_model\", \"lstm_model\"], [\"svm\", \"cnn_model\", \"lstm_model_32\"],\n",
    "                         [\"svm\", \"cnn_model\", \"lstm_model_16\"],\n",
    "                         [\"svm\", \"bayes\", \"lstm_model\"], [\"svm\", \"bayes\", \"lstm_model_32\"],\n",
    "                         [\"svm\", \"bayes\", \"lstm_model_16\"]]\n",
    "weights = [[1, 1, 1], [2, 1, 1], [1, 2, 1], [2, 2, 1], [1, 1, 2], [3, 3, 1], [5, 5, 1], [1, 5, 1]]\n",
    "eval_filename = \"experiments_20-nonedata.csv\""
   ]
  },
  {
   "cell_type": "markdown",
   "metadata": {},
   "source": [
    "## Experiments"
   ]
  },
  {
   "cell_type": "code",
   "execution_count": null,
   "metadata": {},
   "outputs": [],
   "source": [
    "experiment = Experiment(models, ensemble_combinations, eval_filename)\n",
    "\n",
    "firstpart_generator = traverse(first_part)\n",
    "\n",
    "for i in firstpart_generator:\n",
    "    try:\n",
    "        logger(\"********** CALCULATING FEATURES FOR {} ***********\".format(i))\n",
    "        display(Markdown(\"#### Calculating features for {}\".format(i)))\n",
    "        \n",
    "        experiment.prepare_data(i)\n",
    "\n",
    "        secondpart_generator = traverse(second_part)\n",
    "\n",
    "        for j in secondpart_generator:\n",
    "            params = j.copy()\n",
    "            params.update(i)\n",
    "            logger(\"************ STARTING EXPERIMENT {} ***************\".format(params))\n",
    "            display(Markdown(\"#### Experiment {}\".format(params)))\n",
    "            try:\n",
    "                experiment.train_and_evaluate_model(params, weights)\n",
    "                logger(\"************ FINISHED EXPERIMENT {} ************* \\n\".format(params))\n",
    "            except Exception as e:\n",
    "                logger(\"*************************************\")\n",
    "                logger(\"Error during experiment {}: {}\".format(params, e))\n",
    "                logger(\"*************************************\")\n",
    "        del secondpart_generator\n",
    "    except Exception as e:\n",
    "        logger(\"*************************************\")\n",
    "        logger(\"General error during experiment {}: {}\".format(i, e))\n",
    "        logger(\"*************************************\")"
   ]
  },
  {
   "cell_type": "code",
   "execution_count": null,
   "metadata": {},
   "outputs": [],
   "source": []
  }
 ],
 "metadata": {
  "kernelspec": {
   "display_name": "Python 3",
   "language": "python",
   "name": "python3"
  },
  "language_info": {
   "codemirror_mode": {
    "name": "ipython",
    "version": 3
   },
   "file_extension": ".py",
   "mimetype": "text/x-python",
   "name": "python",
   "nbconvert_exporter": "python",
   "pygments_lexer": "ipython3",
   "version": "3.6.8"
  }
 },
 "nbformat": 4,
 "nbformat_minor": 4
}
