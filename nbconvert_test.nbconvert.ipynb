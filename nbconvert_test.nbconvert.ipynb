{
 "cells": [
  {
   "cell_type": "code",
   "execution_count": 1,
   "metadata": {
    "execution": {
     "iopub.execute_input": "2021-10-11T14:29:31.989028Z",
     "iopub.status.busy": "2021-10-11T14:29:31.986090Z",
     "iopub.status.idle": "2021-10-11T14:29:31.993176Z",
     "shell.execute_reply": "2021-10-11T14:29:31.992111Z"
    }
   },
   "outputs": [
    {
     "name": "stdout",
     "output_type": "stream",
     "text": [
      "This is a test\n"
     ]
    }
   ],
   "source": [
    "print(\"This is a test\")"
   ]
  },
  {
   "cell_type": "code",
   "execution_count": 2,
   "metadata": {
    "execution": {
     "iopub.execute_input": "2021-10-11T14:29:32.013351Z",
     "iopub.status.busy": "2021-10-11T14:29:32.012225Z",
     "iopub.status.idle": "2021-10-11T14:29:32.016932Z",
     "shell.execute_reply": "2021-10-11T14:29:32.017889Z"
    }
   },
   "outputs": [
    {
     "data": {
      "text/plain": [
       "4"
      ]
     },
     "execution_count": 1,
     "metadata": {},
     "output_type": "execute_result"
    }
   ],
   "source": [
    "2+2"
   ]
  },
  {
   "cell_type": "code",
   "execution_count": 3,
   "metadata": {
    "execution": {
     "iopub.execute_input": "2021-10-11T14:29:32.024853Z",
     "iopub.status.busy": "2021-10-11T14:29:32.023769Z",
     "iopub.status.idle": "2021-10-11T14:29:32.026602Z",
     "shell.execute_reply": "2021-10-11T14:29:32.027461Z"
    }
   },
   "outputs": [],
   "source": [
    "x=5\n",
    "y=6"
   ]
  },
  {
   "cell_type": "code",
   "execution_count": 4,
   "metadata": {
    "execution": {
     "iopub.execute_input": "2021-10-11T14:29:32.034258Z",
     "iopub.status.busy": "2021-10-11T14:29:32.033206Z",
     "iopub.status.idle": "2021-10-11T14:29:32.036770Z",
     "shell.execute_reply": "2021-10-11T14:29:32.037662Z"
    }
   },
   "outputs": [
    {
     "data": {
      "text/plain": [
       "11"
      ]
     },
     "execution_count": 1,
     "metadata": {},
     "output_type": "execute_result"
    }
   ],
   "source": [
    "x+y"
   ]
  },
  {
   "cell_type": "code",
   "execution_count": 5,
   "metadata": {
    "execution": {
     "iopub.execute_input": "2021-10-11T14:29:32.043919Z",
     "iopub.status.busy": "2021-10-11T14:29:32.042862Z",
     "iopub.status.idle": "2021-10-11T14:29:32.046365Z",
     "shell.execute_reply": "2021-10-11T14:29:32.047248Z"
    }
   },
   "outputs": [
    {
     "name": "stdout",
     "output_type": "stream",
     "text": [
      "Finished test\n"
     ]
    }
   ],
   "source": [
    "print(\"Finished test\")"
   ]
  },
  {
   "cell_type": "code",
   "execution_count": null,
   "metadata": {},
   "outputs": [],
   "source": []
  }
 ],
 "metadata": {
  "kernelspec": {
   "display_name": "Python 3",
   "language": "python",
   "name": "python3"
  },
  "language_info": {
   "codemirror_mode": {
    "name": "ipython",
    "version": 3
   },
   "file_extension": ".py",
   "mimetype": "text/x-python",
   "name": "python",
   "nbconvert_exporter": "python",
   "pygments_lexer": "ipython3",
   "version": "3.6.8"
  }
 },
 "nbformat": 4,
 "nbformat_minor": 4
}
