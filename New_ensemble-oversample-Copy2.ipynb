{
 "cells": [
  {
   "cell_type": "code",
   "execution_count": 1,
   "metadata": {},
   "outputs": [
    {
     "name": "stderr",
     "output_type": "stream",
     "text": [
      "/usr/local/lib/python3.6/site-packages/nltk/twitter/__init__.py:20: UserWarning: The twython library has not been installed. Some functionality from the twitter package will not be available.\n",
      "  warnings.warn(\"The twython library has not been installed. \"\n"
     ]
    }
   ],
   "source": [
    "from utils import *\n",
    "from preprocessing import preprocess\n",
    "from windowfy import windowfy\n",
    "from featurizing import featurize\n",
    "from tfidf_featurizer import combine_features, tfidf_featurize\n",
    "from training import train, do_ensemble, do_train\n",
    "from training_traditional import train_and_evaluate\n",
    "from eval_erisk import evaluate, ensemble_vote\n",
    "from IPython.display import display, Markdown\n",
    "from itertools import product\n",
    "from numpy.random import seed\n",
    "import tensorflow\n",
    "import numpy as np"
   ]
  },
  {
   "cell_type": "code",
   "execution_count": 2,
   "metadata": {},
   "outputs": [
    {
     "name": "stdout",
     "output_type": "stream",
     "text": [
      "Initialized numpy random and tensorflow random seed at 42\n"
     ]
    }
   ],
   "source": [
    "seed(42)\n",
    "tensorflow.random.set_seed(42) \n",
    "logger(\"Initialized numpy random and tensorflow random seed at 42\")"
   ]
  },
  {
   "cell_type": "markdown",
   "metadata": {},
   "source": [
    "### With max_size = 10 and new data, sample_weights=10, oversample False, include_new_data=True"
   ]
  },
  {
   "cell_type": "code",
   "execution_count": 3,
   "metadata": {},
   "outputs": [],
   "source": [
    "y_preds = {}"
   ]
  },
  {
   "cell_type": "code",
   "execution_count": 4,
   "metadata": {},
   "outputs": [],
   "source": [
    "# prepare training data"
   ]
  },
  {
   "cell_type": "code",
   "execution_count": 9,
   "metadata": {},
   "outputs": [
    {
     "name": "stdout",
     "output_type": "stream",
     "text": [
      "Windowfying training users\n",
      "[====================] 100%\n",
      "Windowfying test users\n",
      "[====================] 100%Data size: 3926\n",
      "\n",
      "Finished windowfying\n",
      "Featurizing calculate_feats=True, normalize=True, discretize=True, discretize_size=50, include_feats=['first_prons', 'sentiment', 'nssi']\n",
      "Initialized numpy random and tensorflow random seed at 42\n",
      "Data size: 3926, 3926\n",
      "Data size: 4650, 4650\n",
      "Calculating first prons\n",
      "Calculating sentiment\n",
      "Calculating NSSI words\n",
      "Calculating first prons\n",
      "Calculating sentiment\n",
      "Calculating NSSI words\n",
      "Normalizing features\n",
      "Discretizing\n"
     ]
    },
    {
     "name": "stderr",
     "output_type": "stream",
     "text": [
      "/home/ecampillo/.local/lib/python3.6/site-packages/sklearn/preprocessing/_discretization.py:222: UserWarning: Bins whose width are too small (i.e., <= 1e-8) in feature 2 are removed. Consider decreasing the number of bins.\n",
      "  'decreasing the number of bins.' % jj)\n",
      "/home/ecampillo/.local/lib/python3.6/site-packages/sklearn/preprocessing/_discretization.py:222: UserWarning: Bins whose width are too small (i.e., <= 1e-8) in feature 4 are removed. Consider decreasing the number of bins.\n",
      "  'decreasing the number of bins.' % jj)\n",
      "/home/ecampillo/.local/lib/python3.6/site-packages/sklearn/preprocessing/_discretization.py:188: UserWarning: Feature 5 is constant and will be replaced with 0.\n",
      "  \"replaced with 0.\" % jj)\n",
      "/home/ecampillo/.local/lib/python3.6/site-packages/sklearn/preprocessing/_discretization.py:222: UserWarning: Bins whose width are too small (i.e., <= 1e-8) in feature 6 are removed. Consider decreasing the number of bins.\n",
      "  'decreasing the number of bins.' % jj)\n",
      "/home/ecampillo/.local/lib/python3.6/site-packages/sklearn/preprocessing/_discretization.py:222: UserWarning: Bins whose width are too small (i.e., <= 1e-8) in feature 7 are removed. Consider decreasing the number of bins.\n",
      "  'decreasing the number of bins.' % jj)\n"
     ]
    },
    {
     "name": "stdout",
     "output_type": "stream",
     "text": [
      "Is the combined the same from tfidf: False\n"
     ]
    }
   ],
   "source": [
    "train_users, y_train, test_users, y_test, train_samples, X_train, X_test = windowfy(window_size=10, max_size=20, sample_weights_size=20, is_oversample=False, include_new_data=False)\n",
    "feats_train, feats_test = featurize(calculate_feats=True, include_feats=[\"first_prons\",\"sentiment\",\"nssi\"], \n",
    "                       train_users=train_users, test_users=test_users, discretize=True, discretize_size=50,\n",
    "                                    dis_strategy=\"quantile\",normalize=True)\n",
    "tfidf_train, tfidf_test = tfidf_featurize(train_users, test_users, max_features=5000)\n",
    "\n",
    "feats_train_comb, feats_test_comb = combine_features([tfidf_train, feats_train], [tfidf_test, feats_test])\n",
    "\n",
    "feats_train_comb = feats_train_comb.toarray()\n",
    "feats_test_comb = feats_test_comb.toarray()"
   ]
  },
  {
   "cell_type": "code",
   "execution_count": 10,
   "metadata": {},
   "outputs": [],
   "source": [
    "# traditional classifiers"
   ]
  },
  {
   "cell_type": "code",
   "execution_count": 11,
   "metadata": {},
   "outputs": [
    {
     "name": "stdout",
     "output_type": "stream",
     "text": [
      "              precision    recall  f1-score   support\n",
      "\n",
      "           0       0.81      0.99      0.89      3602\n",
      "           1       0.89      0.20      0.33      1048\n",
      "\n",
      "    accuracy                           0.81      4650\n",
      "   macro avg       0.85      0.60      0.61      4650\n",
      "weighted avg       0.83      0.81      0.77      4650\n",
      "\n",
      "[[3577   25]\n",
      " [ 838  210]]\n",
      "{'precision': 0.8032786885245902, 'recall': 0.47115384615384615, 'F1': 0.593939393939394, 'ERDE_5': 0.2526829310647792, 'ERDE_50': 0.13699847425515232, 'median_latency_tps': 12.0, 'median_penalty_tps': 0.042873701496841665, 'speed': 0.9571262985031583, 'latency_weighted_f1': 0.5684750136564214}\n"
     ]
    }
   ],
   "source": [
    "y_pred, classifier = train_and_evaluate(feats_train_comb, y_train, feats_test_comb, y_test, train_samples, \n",
    "                                        classifier_name=\"svm\", strategy=\"weights\")\n",
    "eval_resul = evaluate(1, 10, {\"test\":\"test\"}, y_pred=y_pred, test_users=test_users)\n",
    "y_preds[\"svm\"] = y_pred"
   ]
  },
  {
   "cell_type": "code",
   "execution_count": 12,
   "metadata": {},
   "outputs": [
    {
     "name": "stdout",
     "output_type": "stream",
     "text": [
      "              precision    recall  f1-score   support\n",
      "\n",
      "           0       0.79      0.99      0.88      3602\n",
      "           1       0.79      0.12      0.21      1048\n",
      "\n",
      "    accuracy                           0.79      4650\n",
      "   macro avg       0.79      0.56      0.55      4650\n",
      "weighted avg       0.79      0.79      0.73      4650\n",
      "\n",
      "[[3567   35]\n",
      " [ 920  128]]\n",
      "{'precision': 0.7708333333333334, 'recall': 0.3557692307692308, 'F1': 0.4868421052631579, 'ERDE_5': 0.25215380161488077, 'ERDE_50': 0.16478603244862924, 'median_latency_tps': 12.0, 'median_penalty_tps': 0.042873701496841665, 'speed': 0.9571262985031583, 'latency_weighted_f1': 0.4659693821660113}\n"
     ]
    }
   ],
   "source": [
    "y_pred, classifier = train_and_evaluate(feats_train_comb, y_train, feats_test_comb, y_test, train_samples, \n",
    "                                        classifier_name=\"bayes\", strategy=\"weights\")\n",
    "eval_resul = evaluate(1, 10, {\"test\":\"test\"}, y_pred=y_pred, test_users=test_users)\n",
    "y_preds[\"bayes\"] = y_pred"
   ]
  },
  {
   "cell_type": "code",
   "execution_count": 13,
   "metadata": {},
   "outputs": [],
   "source": [
    "# deep learning classifiers\n",
    "batch_size=32\n",
    "model_name = \"cnn_model\"\n",
    "iterations = 3"
   ]
  },
  {
   "cell_type": "code",
   "execution_count": 14,
   "metadata": {},
   "outputs": [
    {
     "name": "stdout",
     "output_type": "stream",
     "text": [
      "Starting training with cnn_model=cnn_model and maxlen=1000 and batch size=32\n",
      "Generating embeddings\n",
      "Data size: 3926\n",
      "Training with callback\n",
      "Restoring model weights from the end of the best epoch.\n",
      "Epoch 00043: early stopping\n",
      "Evaluating\n",
      "146/146 [==============================] - 2s 9ms/step - loss: 0.7576 - tp: 2.0000 - fp: 1.0000 - tn: 3601.0000 - fn: 1046.0000 - accuracy: 0.7748 - precision: 0.6667 - recall: 0.0019 - f1_metric: 0.0020\n",
      "Test Score: 0.7576147317886353\n",
      "Test Accuracy: 2.0\n",
      "146/146 [==============================] - 1s 8ms/step\n",
      "Entered here\n",
      "              precision    recall  f1-score   support\n",
      "\n",
      "           0       0.77      1.00      0.87      3602\n",
      "           1       0.67      0.00      0.00      1048\n",
      "\n",
      "    accuracy                           0.77      4650\n",
      "   macro avg       0.72      0.50      0.44      4650\n",
      "weighted avg       0.75      0.77      0.68      4650\n",
      "\n",
      "[[3601    1]\n",
      " [1046    2]]\n",
      "Finished training and evaluation\n",
      "{'precision': 0.6666666666666666, 'recall': 0.019230769230769232, 'F1': 0.037383177570093455, 'ERDE_5': 0.24643827458266893, 'ERDE_50': 0.241715987905818, 'median_latency_tps': 16.0, 'median_penalty_tps': 0.05841121951671113, 'speed': 0.9415887804832889, 'latency_weighted_f1': 0.03519958057881453}\n",
      "Starting training with cnn_model=cnn_model and maxlen=1000 and batch size=32\n",
      "Generating embeddings\n",
      "Data size: 3926\n",
      "Training with callback\n",
      "Restoring model weights from the end of the best epoch.\n",
      "Epoch 00031: early stopping\n",
      "Evaluating\n",
      "146/146 [==============================] - 2s 9ms/step - loss: 0.5245 - tp: 0.0000e+00 - fp: 0.0000e+00 - tn: 3602.0000 - fn: 1048.0000 - accuracy: 0.7746 - precision: 0.0000e+00 - recall: 0.0000e+00 - f1_metric: 0.0000e+00\n",
      "Test Score: 0.5245046615600586\n",
      "Test Accuracy: 0.0\n",
      "146/146 [==============================] - 1s 7ms/step\n",
      "Entered here\n",
      "              precision    recall  f1-score   support\n",
      "\n",
      "           0       0.77      1.00      0.87      3602\n",
      "           1       0.00      0.00      0.00      1048\n",
      "\n",
      "    accuracy                           0.77      4650\n",
      "   macro avg       0.39      0.50      0.44      4650\n",
      "weighted avg       0.60      0.77      0.68      4650\n",
      "\n",
      "[[3602    0]\n",
      " [1048    0]]\n",
      "Finished training and evaluation\n",
      "{'precision': 0, 'recall': 0, 'F1': 0, 'ERDE_5': 0.2458628841607565, 'ERDE_50': 0.2458628841607565, 'median_latency_tps': nan, 'median_penalty_tps': nan, 'speed': nan, 'latency_weighted_f1': nan}\n",
      "Starting training with cnn_model=cnn_model and maxlen=1000 and batch size=32\n",
      "Generating embeddings\n"
     ]
    },
    {
     "name": "stderr",
     "output_type": "stream",
     "text": [
      "/home/ecampillo/.local/lib/python3.6/site-packages/sklearn/metrics/_classification.py:1245: UndefinedMetricWarning: Precision and F-score are ill-defined and being set to 0.0 in labels with no predicted samples. Use `zero_division` parameter to control this behavior.\n",
      "  _warn_prf(average, modifier, msg_start, len(result))\n",
      "/home/ecampillo/.local/lib/python3.6/site-packages/sklearn/metrics/_classification.py:1245: UndefinedMetricWarning: Precision and F-score are ill-defined and being set to 0.0 in labels with no predicted samples. Use `zero_division` parameter to control this behavior.\n",
      "  _warn_prf(average, modifier, msg_start, len(result))\n",
      "/home/ecampillo/.local/lib/python3.6/site-packages/sklearn/metrics/_classification.py:1245: UndefinedMetricWarning: Precision and F-score are ill-defined and being set to 0.0 in labels with no predicted samples. Use `zero_division` parameter to control this behavior.\n",
      "  _warn_prf(average, modifier, msg_start, len(result))\n",
      "/usr/local/lib64/python3.6/site-packages/numpy/core/fromnumeric.py:3373: RuntimeWarning: Mean of empty slice.\n",
      "  out=out, **kwargs)\n",
      "/usr/local/lib64/python3.6/site-packages/numpy/core/_methods.py:170: RuntimeWarning: invalid value encountered in double_scalars\n",
      "  ret = ret.dtype.type(ret / rcount)\n"
     ]
    },
    {
     "name": "stdout",
     "output_type": "stream",
     "text": [
      "Data size: 3926\n",
      "Training with callback\n",
      "Restoring model weights from the end of the best epoch.\n",
      "Epoch 00031: early stopping\n",
      "Evaluating\n",
      "146/146 [==============================] - 2s 9ms/step - loss: 0.5559 - tp: 0.0000e+00 - fp: 0.0000e+00 - tn: 3602.0000 - fn: 1048.0000 - accuracy: 0.7746 - precision: 0.0000e+00 - recall: 0.0000e+00 - f1_metric: 0.0000e+00\n",
      "Test Score: 0.5558797717094421\n",
      "Test Accuracy: 0.0\n",
      "146/146 [==============================] - 2s 7ms/step\n",
      "Entered here\n",
      "              precision    recall  f1-score   support\n",
      "\n",
      "           0       0.77      1.00      0.87      3602\n",
      "           1       0.00      0.00      0.00      1048\n",
      "\n",
      "    accuracy                           0.77      4650\n",
      "   macro avg       0.39      0.50      0.44      4650\n",
      "weighted avg       0.60      0.77      0.68      4650\n",
      "\n",
      "[[3602    0]\n",
      " [1048    0]]\n",
      "Finished training and evaluation\n",
      "{'precision': 0, 'recall': 0, 'F1': 0, 'ERDE_5': 0.2458628841607565, 'ERDE_50': 0.2458628841607565, 'median_latency_tps': nan, 'median_penalty_tps': nan, 'speed': nan, 'latency_weighted_f1': nan}\n"
     ]
    },
    {
     "name": "stderr",
     "output_type": "stream",
     "text": [
      "/home/ecampillo/.local/lib/python3.6/site-packages/sklearn/metrics/_classification.py:1245: UndefinedMetricWarning: Precision and F-score are ill-defined and being set to 0.0 in labels with no predicted samples. Use `zero_division` parameter to control this behavior.\n",
      "  _warn_prf(average, modifier, msg_start, len(result))\n",
      "/home/ecampillo/.local/lib/python3.6/site-packages/sklearn/metrics/_classification.py:1245: UndefinedMetricWarning: Precision and F-score are ill-defined and being set to 0.0 in labels with no predicted samples. Use `zero_division` parameter to control this behavior.\n",
      "  _warn_prf(average, modifier, msg_start, len(result))\n",
      "/home/ecampillo/.local/lib/python3.6/site-packages/sklearn/metrics/_classification.py:1245: UndefinedMetricWarning: Precision and F-score are ill-defined and being set to 0.0 in labels with no predicted samples. Use `zero_division` parameter to control this behavior.\n",
      "  _warn_prf(average, modifier, msg_start, len(result))\n",
      "/usr/local/lib64/python3.6/site-packages/numpy/core/fromnumeric.py:3373: RuntimeWarning: Mean of empty slice.\n",
      "  out=out, **kwargs)\n",
      "/usr/local/lib64/python3.6/site-packages/numpy/core/_methods.py:170: RuntimeWarning: invalid value encountered in double_scalars\n",
      "  ret = ret.dtype.type(ret / rcount)\n"
     ]
    }
   ],
   "source": [
    "model_resuls = {}\n",
    "for i in range(0, iterations):\n",
    "    y_pred = do_train(model_name=model_name, maxlen=1000, epochs=100, batch_size=batch_size,\n",
    "                 shuffle=True, patience=30, feats_train=feats_train, feats_test=feats_test, \n",
    "                 X_train=X_train, X_test=X_test, y_train=y_train, y_test=y_test, train_sample_weights=train_samples)\n",
    "    eval_resul = evaluate(1, 10, {\"test\":\"test\"}, y_pred=y_pred, test_users=test_users)\n",
    "    model_resuls[eval_resul['latency_weighted_f1']] = y_pred\n",
    "\n",
    "y_preds[model_name] = model_resuls[max(model_resuls.keys())]"
   ]
  },
  {
   "cell_type": "code",
   "execution_count": 15,
   "metadata": {},
   "outputs": [],
   "source": [
    "# deep learning classifiers\n",
    "batch_size=32\n",
    "model_name = \"lstm_model_32\"\n",
    "iterations = 1"
   ]
  },
  {
   "cell_type": "code",
   "execution_count": 16,
   "metadata": {},
   "outputs": [
    {
     "name": "stdout",
     "output_type": "stream",
     "text": [
      "Starting training with cnn_model=lstm_model_32 and maxlen=1000 and batch size=32\n",
      "Generating embeddings\n",
      "Data size: 3926\n",
      "Training with callback\n",
      "Restoring model weights from the end of the best epoch.\n",
      "Epoch 00076: early stopping\n",
      "Evaluating\n",
      "146/146 [==============================] - 24s 150ms/step - loss: 0.6602 - tp: 419.0000 - fp: 258.0000 - tn: 3344.0000 - fn: 629.0000 - accuracy: 0.8092 - precision: 0.6189 - recall: 0.3998 - f1_metric: 0.2838\n",
      "Test Score: 0.6601938009262085\n",
      "Test Accuracy: 419.0\n",
      "146/146 [==============================] - 23s 151ms/step\n",
      "Entered here\n",
      "              precision    recall  f1-score   support\n",
      "\n",
      "           0       0.84      0.93      0.88      3602\n",
      "           1       0.62      0.40      0.49      1048\n",
      "\n",
      "    accuracy                           0.81      4650\n",
      "   macro avg       0.73      0.66      0.68      4650\n",
      "weighted avg       0.79      0.81      0.79      4650\n",
      "\n",
      "[[3344  258]\n",
      " [ 629  419]]\n",
      "Finished training and evaluation\n",
      "{'precision': 0.4785276073619632, 'recall': 0.75, 'F1': 0.5842696629213484, 'ERDE_5': 0.29497838392146775, 'ERDE_50': 0.1108707923254509, 'median_latency_tps': 11.0, 'median_penalty_tps': 0.03898023902249159, 'speed': 0.9610197609775084, 'latency_weighted_f1': 0.5614946918070837}\n"
     ]
    },
    {
     "ename": "TypeError",
     "evalue": "'>' not supported between instances of 'dict_keys' and 'int'",
     "output_type": "error",
     "traceback": [
      "\u001b[0;31m---------------------------------------------------------------------------\u001b[0m",
      "\u001b[0;31mTypeError\u001b[0m                                 Traceback (most recent call last)",
      "\u001b[0;32m<ipython-input-16-664f7859670b>\u001b[0m in \u001b[0;36m<module>\u001b[0;34m\u001b[0m\n\u001b[1;32m      7\u001b[0m     \u001b[0mmodel_resuls\u001b[0m\u001b[0;34m[\u001b[0m\u001b[0meval_resul\u001b[0m\u001b[0;34m[\u001b[0m\u001b[0;34m'latency_weighted_f1'\u001b[0m\u001b[0;34m]\u001b[0m\u001b[0;34m]\u001b[0m \u001b[0;34m=\u001b[0m \u001b[0my_pred\u001b[0m\u001b[0;34m\u001b[0m\u001b[0;34m\u001b[0m\u001b[0m\n\u001b[1;32m      8\u001b[0m \u001b[0;34m\u001b[0m\u001b[0m\n\u001b[0;32m----> 9\u001b[0;31m \u001b[0;32mif\u001b[0m \u001b[0mlen\u001b[0m\u001b[0;34m(\u001b[0m\u001b[0mmodel_resuls\u001b[0m\u001b[0;34m.\u001b[0m\u001b[0mkeys\u001b[0m\u001b[0;34m(\u001b[0m\u001b[0;34m)\u001b[0m \u001b[0;34m>\u001b[0m \u001b[0;36m0\u001b[0m\u001b[0;34m)\u001b[0m\u001b[0;34m:\u001b[0m\u001b[0;34m\u001b[0m\u001b[0;34m\u001b[0m\u001b[0m\n\u001b[0m\u001b[1;32m     10\u001b[0m     \u001b[0my_preds\u001b[0m\u001b[0;34m[\u001b[0m\u001b[0mmodel_name\u001b[0m\u001b[0;34m]\u001b[0m \u001b[0;34m=\u001b[0m \u001b[0mmodel_resuls\u001b[0m\u001b[0;34m[\u001b[0m\u001b[0mmax\u001b[0m\u001b[0;34m(\u001b[0m\u001b[0mmodel_resuls\u001b[0m\u001b[0;34m.\u001b[0m\u001b[0mkeys\u001b[0m\u001b[0;34m(\u001b[0m\u001b[0;34m)\u001b[0m\u001b[0;34m)\u001b[0m\u001b[0;34m]\u001b[0m\u001b[0;34m\u001b[0m\u001b[0;34m\u001b[0m\u001b[0m\n",
      "\u001b[0;31mTypeError\u001b[0m: '>' not supported between instances of 'dict_keys' and 'int'"
     ]
    }
   ],
   "source": [
    "model_resuls = {}\n",
    "for i in range(0, iterations):\n",
    "    y_pred = do_train(model_name=model_name, maxlen=1000, epochs=100, batch_size=batch_size,\n",
    "                 shuffle=True, patience=30, feats_train=feats_train, feats_test=feats_test, \n",
    "                 X_train=X_train, X_test=X_test, y_train=y_train, y_test=y_test, train_sample_weights=train_samples)\n",
    "    eval_resul = evaluate(1, 10, {\"test\":\"test\"}, y_pred=y_pred, test_users=test_users)\n",
    "    model_resuls[eval_resul['latency_weighted_f1']] = y_pred\n",
    "\n"
   ]
  },
  {
   "cell_type": "code",
   "execution_count": 21,
   "metadata": {},
   "outputs": [],
   "source": [
    "if iterations > 0:\n",
    "    y_preds[model_name] = model_resuls[max(model_resuls.keys())]"
   ]
  },
  {
   "cell_type": "code",
   "execution_count": null,
   "metadata": {},
   "outputs": [],
   "source": [
    "print(y_preds[\"cnn_model\"].flatten())"
   ]
  },
  {
   "cell_type": "code",
   "execution_count": null,
   "metadata": {},
   "outputs": [],
   "source": [
    "# ensemble"
   ]
  },
  {
   "cell_type": "code",
   "execution_count": 22,
   "metadata": {},
   "outputs": [
    {
     "name": "stdout",
     "output_type": "stream",
     "text": [
      "{'precision': 0.8648648648648649, 'recall': 0.3076923076923077, 'F1': 0.45390070921985815, 'ERDE_5': 0.2486934583548893, 'ERDE_50': 0.17311894662128827, 'median_latency_tps': 12.5, 'median_penalty_tps': 0.044819781830275796, 'speed': 0.9551802181697242, 'latency_weighted_f1': 0.4335569784600167}\n"
     ]
    },
    {
     "data": {
      "text/plain": [
       "{'precision': 0.8648648648648649,\n",
       " 'recall': 0.3076923076923077,\n",
       " 'F1': 0.45390070921985815,\n",
       " 'ERDE_5': 0.2486934583548893,\n",
       " 'ERDE_50': 0.17311894662128827,\n",
       " 'median_latency_tps': 12.5,\n",
       " 'median_penalty_tps': 0.044819781830275796,\n",
       " 'speed': 0.9551802181697242,\n",
       " 'latency_weighted_f1': 0.4335569784600167}"
      ]
     },
     "execution_count": 22,
     "metadata": {},
     "output_type": "execute_result"
    }
   ],
   "source": [
    "y_pred = ensemble_vote(np.array([y_preds[\"svm\"], y_preds[\"bayes\"], y_preds[\"cnn_model\"].flatten()]))\n",
    "evaluate(1, 10, {\"test\":\"test\"}, y_pred=y_pred, test_users=test_users)"
   ]
  },
  {
   "cell_type": "code",
   "execution_count": 23,
   "metadata": {},
   "outputs": [
    {
     "name": "stdout",
     "output_type": "stream",
     "text": [
      "{'precision': 0.8490566037735849, 'recall': 0.4326923076923077, 'F1': 0.5732484076433121, 'ERDE_5': 0.2503793273960633, 'ERDE_50': 0.14412979449949517, 'median_latency_tps': 12.0, 'median_penalty_tps': 0.042873701496841665, 'speed': 0.9571262985031583, 'latency_weighted_f1': 0.5486711265304729}\n"
     ]
    },
    {
     "data": {
      "text/plain": [
       "{'precision': 0.8490566037735849,\n",
       " 'recall': 0.4326923076923077,\n",
       " 'F1': 0.5732484076433121,\n",
       " 'ERDE_5': 0.2503793273960633,\n",
       " 'ERDE_50': 0.14412979449949517,\n",
       " 'median_latency_tps': 12.0,\n",
       " 'median_penalty_tps': 0.042873701496841665,\n",
       " 'speed': 0.9571262985031583,\n",
       " 'latency_weighted_f1': 0.5486711265304729}"
      ]
     },
     "execution_count": 23,
     "metadata": {},
     "output_type": "execute_result"
    }
   ],
   "source": [
    "y_pred = ensemble_vote(np.array([y_preds[\"svm\"], y_preds[\"cnn_model\"].flatten(), y_preds[\"lstm_model_32\"].flatten()]))\n",
    "evaluate(1, 10, {\"test\":\"test\"}, y_pred=y_pred, test_users=test_users)"
   ]
  },
  {
   "cell_type": "code",
   "execution_count": 24,
   "metadata": {},
   "outputs": [
    {
     "name": "stdout",
     "output_type": "stream",
     "text": [
      "{'precision': 0.8, 'recall': 0.3076923076923077, 'F1': 0.4444444444444444, 'ERDE_5': 0.2504266322370938, 'ERDE_50': 0.17486265501959317, 'median_latency_tps': 12.5, 'median_penalty_tps': 0.044819781830275796, 'speed': 0.9551802181697242, 'latency_weighted_f1': 0.4245245414087663}\n"
     ]
    },
    {
     "data": {
      "text/plain": [
       "{'precision': 0.8,\n",
       " 'recall': 0.3076923076923077,\n",
       " 'F1': 0.4444444444444444,\n",
       " 'ERDE_5': 0.2504266322370938,\n",
       " 'ERDE_50': 0.17486265501959317,\n",
       " 'median_latency_tps': 12.5,\n",
       " 'median_penalty_tps': 0.044819781830275796,\n",
       " 'speed': 0.9551802181697242,\n",
       " 'latency_weighted_f1': 0.4245245414087663}"
      ]
     },
     "execution_count": 24,
     "metadata": {},
     "output_type": "execute_result"
    }
   ],
   "source": [
    "y_pred = ensemble_vote(np.array([y_preds[\"bayes\"], y_preds[\"cnn_model\"].flatten(), y_preds[\"lstm_model_32\"].flatten()]))\n",
    "evaluate(1, 10, {\"test\":\"test\"}, y_pred=y_pred, test_users=test_users)"
   ]
  },
  {
   "cell_type": "code",
   "execution_count": 25,
   "metadata": {},
   "outputs": [
    {
     "name": "stdout",
     "output_type": "stream",
     "text": [
      "{'precision': 0.8135593220338984, 'recall': 0.46153846153846156, 'F1': 0.588957055214724, 'ERDE_5': 0.25210327854603726, 'ERDE_50': 0.1387813043162381, 'median_latency_tps': 12.0, 'median_penalty_tps': 0.042873701496841665, 'speed': 0.9571262985031583, 'latency_weighted_f1': 0.563706286234989}\n"
     ]
    },
    {
     "data": {
      "text/plain": [
       "{'precision': 0.8135593220338984,\n",
       " 'recall': 0.46153846153846156,\n",
       " 'F1': 0.588957055214724,\n",
       " 'ERDE_5': 0.25210327854603726,\n",
       " 'ERDE_50': 0.1387813043162381,\n",
       " 'median_latency_tps': 12.0,\n",
       " 'median_penalty_tps': 0.042873701496841665,\n",
       " 'speed': 0.9571262985031583,\n",
       " 'latency_weighted_f1': 0.563706286234989}"
      ]
     },
     "execution_count": 25,
     "metadata": {},
     "output_type": "execute_result"
    }
   ],
   "source": [
    "y_pred = ensemble_vote(np.array([y_preds[\"svm\"], y_preds[\"bayes\"], y_preds[\"lstm_model_32\"].flatten()]))\n",
    "evaluate(1, 10, {\"test\":\"test\"}, y_pred=y_pred, test_users=test_users)"
   ]
  },
  {
   "cell_type": "code",
   "execution_count": null,
   "metadata": {},
   "outputs": [],
   "source": []
  }
 ],
 "metadata": {
  "kernelspec": {
   "display_name": "Python 3",
   "language": "python",
   "name": "python3"
  },
  "language_info": {
   "codemirror_mode": {
    "name": "ipython",
    "version": 3
   },
   "file_extension": ".py",
   "mimetype": "text/x-python",
   "name": "python",
   "nbconvert_exporter": "python",
   "pygments_lexer": "ipython3",
   "version": "3.6.8"
  }
 },
 "nbformat": 4,
 "nbformat_minor": 4
}
