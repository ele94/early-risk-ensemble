{
 "cells": [
  {
   "cell_type": "markdown",
   "metadata": {},
   "source": [
    "Prerequisito: Preprocessing"
   ]
  },
  {
   "cell_type": "markdown",
   "metadata": {},
   "source": [
    "### 0. Funciones, etc."
   ]
  },
  {
   "cell_type": "markdown",
   "metadata": {},
   "source": [
    "#### Parametros"
   ]
  },
  {
   "cell_type": "code",
   "execution_count": 3,
   "metadata": {},
   "outputs": [],
   "source": [
    "oversample = True\n",
    "calculate_feats = True\n",
    "normalize = True\n",
    "discretize = True\n",
    "exclude_feats = []\n",
    "discretize_size = 10\n",
    "#exclude_feats = [\"sentiment\", \"methods\", \"terms\", \"instruments\", \"reasons\"]"
   ]
  },
  {
   "cell_type": "code",
   "execution_count": 4,
   "metadata": {},
   "outputs": [],
   "source": [
    "# imports\n",
    "import pickle\n",
    "from utils import *"
   ]
  },
  {
   "cell_type": "code",
   "execution_count": 6,
   "metadata": {},
   "outputs": [],
   "source": [
    "def load_nssi_corpus():\n",
    "\n",
    "    with open(\"/datos/erisk/ml/data/nssicorpus.txt\", 'r') as file:\n",
    "        nssi_corpus_original = file.read()\n",
    "\n",
    "    nssi_corpus = nssi_corpus_original.replace('*', '')\n",
    "    nssi_corpus = nssi_corpus.replace(\"Methods of NSSI\", '')\n",
    "    nssi_corpus = nssi_corpus.replace(\"NSSI Terms\", '')\n",
    "    nssi_corpus = nssi_corpus.replace(\"Instruments Used\", '')\n",
    "    nssi_corpus = nssi_corpus.replace(\"Reasons for NSSI\", '')\n",
    "\n",
    "    keys = [\"methods\", \"terms\", \"instruments\", \"reasons\"]\n",
    "\n",
    "    nssi_corpus = nssi_corpus.split(':')\n",
    "    nssi_corpus.remove('')\n",
    "    nssi_corpus = [corpus.split(\"\\n\") for corpus in nssi_corpus]\n",
    "    new_nssi_corpus = {}\n",
    "    for idx, corpus in enumerate(nssi_corpus):\n",
    "        new_list = [word for word in corpus if word != \"\"]\n",
    "        new_nssi_corpus[keys[idx]] = new_list\n",
    "\n",
    "    return new_nssi_corpus"
   ]
  },
  {
   "cell_type": "code",
   "execution_count": 7,
   "metadata": {},
   "outputs": [
    {
     "name": "stdout",
     "output_type": "stream",
     "text": [
      "Initialized numpy random and tensorflow random seed at 42\n"
     ]
    }
   ],
   "source": [
    "import numpy\n",
    "import tensorflow\n",
    "import sys\n",
    "\n",
    "from numpy.random import seed\n",
    "seed(42)\n",
    "tensorflow.random.set_seed(42) \n",
    "logger(\"Initialized numpy random and tensorflow random seed at 42\")"
   ]
  },
  {
   "cell_type": "markdown",
   "metadata": {},
   "source": [
    "### 1. Loading preprocessed data"
   ]
  },
  {
   "cell_type": "code",
   "execution_count": 8,
   "metadata": {},
   "outputs": [
    {
     "name": "stdout",
     "output_type": "stream",
     "text": [
      "Initializing Featurizing\n"
     ]
    }
   ],
   "source": [
    "logger(\"Initializing Featurizing\")"
   ]
  },
  {
   "cell_type": "code",
   "execution_count": 9,
   "metadata": {},
   "outputs": [],
   "source": [
    "if calculate_feats:\n",
    "    if oversample:\n",
    "        train_users = load_pickle(pickle_path, \"train_users_over.pkl\")\n",
    "    else:\n",
    "        train_users = load_pickle(pickle_path, \"train_users.pkl\")\n",
    "    test_users = load_pickle(pickle_path, \"test_users.pkl\")\n",
    "    X_train = train_users[\"clean_text\"]\n",
    "    X_test = test_users[\"clean_text\"]"
   ]
  },
  {
   "cell_type": "markdown",
   "metadata": {},
   "source": [
    "### 2. Calculating features"
   ]
  },
  {
   "cell_type": "code",
   "execution_count": 10,
   "metadata": {},
   "outputs": [],
   "source": [
    "import pandas as pd\n",
    "\n",
    "if calculate_feats:\n",
    "    feats_train = pd.DataFrame()\n",
    "    feats_test = pd.DataFrame()\n",
    "    #text len\n",
    "    feats_train['char_count'] = X_train.map(len)\n",
    "    feats_test['char_count'] = X_test.map(len)\n",
    "    #word count\n",
    "    feats_train['word_count'] = X_train.map(lambda x: len(x.split()))\n",
    "    feats_test['word_count'] = X_test.map(lambda x: len(x.split()))"
   ]
  },
  {
   "cell_type": "code",
   "execution_count": 11,
   "metadata": {},
   "outputs": [
    {
     "name": "stderr",
     "output_type": "stream",
     "text": [
      "/usr/local/lib/python3.6/site-packages/nltk/twitter/__init__.py:20: UserWarning: The twython library has not been installed. Some functionality from the twitter package will not be available.\n",
      "  warnings.warn(\"The twython library has not been installed. \"\n"
     ]
    }
   ],
   "source": [
    "import re\n",
    "from nltk.sentiment.vader import SentimentIntensityAnalyzer\n",
    "\n",
    "if calculate_feats:\n",
    "    #special features\n",
    "    #first prons\n",
    "    reg = r'\\bI\\b|\\bme\\b|\\bmine\\b|\\bmy\\b|\\bmyself\\b'\n",
    "    feats_train['first_prons'] = X_train.map(lambda x: len(re.findall(reg, x)))\n",
    "    feats_test['first_prons'] = X_test.map(lambda x: len(re.findall(reg, x)))\n",
    "    # sentiment analysis\n",
    "    sid = SentimentIntensityAnalyzer()\n",
    "    feats_train['sentiment'] = X_train.map(lambda x: round(sid.polarity_scores(x)['compound'], 2))\n",
    "    feats_test['sentiment'] = X_test.map(lambda x: round(sid.polarity_scores(x)['compound'], 2))\n"
   ]
  },
  {
   "cell_type": "code",
   "execution_count": 12,
   "metadata": {},
   "outputs": [],
   "source": [
    "if calculate_feats:\n",
    "    nssi_corpus = load_nssi_corpus()"
   ]
  },
  {
   "cell_type": "code",
   "execution_count": 13,
   "metadata": {},
   "outputs": [],
   "source": [
    "# nssi dictionary\n",
    "if calculate_feats:\n",
    "    for key, values in nssi_corpus.items():\n",
    "        feats_train[key] = train_users['stems'].map(lambda x: sum((' '.join(x)).count(word) for word in values))\n",
    "        feats_test[key] = test_users['stems'].map(lambda x: sum((' '.join(x)).count(word) for word in values))"
   ]
  },
  {
   "cell_type": "markdown",
   "metadata": {},
   "source": [
    "## Save or load calculated features"
   ]
  },
  {
   "cell_type": "code",
   "execution_count": 14,
   "metadata": {},
   "outputs": [],
   "source": [
    "if calculate_feats:\n",
    "    save_pickle(pickle_path, \"feats_train_original.pkl\", feats_train)\n",
    "    save_pickle(pickle_path, \"feats_test_original.pkl\", feats_test)"
   ]
  },
  {
   "cell_type": "code",
   "execution_count": 15,
   "metadata": {},
   "outputs": [],
   "source": [
    "if not calculate_feats:\n",
    "    feats_train = load_pickle(pickle_path, \"feats_train_original.pkl\")\n",
    "    feats_test = load_pickle(pickle_path, \"feats_test_original.pkl\")"
   ]
  },
  {
   "cell_type": "markdown",
   "metadata": {},
   "source": [
    "#### Select features"
   ]
  },
  {
   "cell_type": "code",
   "execution_count": 16,
   "metadata": {},
   "outputs": [],
   "source": [
    "def select_features(exclude_feats=[], normalize=False, discretize=False, discretize_size=10):\n",
    "    feats_train_ret = feats_train.copy()\n",
    "    feats_test_ret = feats_test.copy()\n",
    "    \n",
    "    for feat in exclude_feats:\n",
    "        feats_train_ret.drop(feat, inplace=True, axis=1)\n",
    "        feats_test_ret.drop(feat, inplace=True, axis=1)\n",
    "    \n",
    "    if normalize:\n",
    "        feats_train_ret = normalize_features(feats_train_ret)\n",
    "        feats_test_ret = normalize_features(feats_test_ret)\n",
    "        \n",
    "    if discretize:\n",
    "        feats_train_ret, feats_test_ret = discretize_features(feats_train_ret, feats_test_ret, size=discretize_size)\n",
    "    else:\n",
    "        feats_train_ret = feats_train_ret.values\n",
    "        feats_test_ret = feats_test_ret.values\n",
    "    \n",
    "    return feats_train_ret, feats_test_ret"
   ]
  },
  {
   "cell_type": "markdown",
   "metadata": {},
   "source": [
    "#### Normalizing"
   ]
  },
  {
   "cell_type": "code",
   "execution_count": 17,
   "metadata": {},
   "outputs": [],
   "source": [
    "normalize_exceptions = ['char_count', 'word_density']\n",
    "\n",
    "def normalize_features(feats):\n",
    "    text_length = feats[\"char_count\"]\n",
    "    \n",
    "    norm_feats = pd.DataFrame()\n",
    "    for feature in feats.columns:\n",
    "        if feature not in normalize_exceptions:\n",
    "            norm_feats[feature] = feats[feature] / text_length\n",
    "            \n",
    "    return norm_feats"
   ]
  },
  {
   "cell_type": "markdown",
   "metadata": {},
   "source": [
    "#### Discretizing"
   ]
  },
  {
   "cell_type": "code",
   "execution_count": 18,
   "metadata": {},
   "outputs": [],
   "source": [
    "from sklearn.preprocessing import KBinsDiscretizer\n",
    "\n",
    "def discretize_features(train_feats, test_feats, size=10, strategy='kmeans', encode='onehot-dense'):\n",
    "    est = KBinsDiscretizer(n_bins=size, encode=encode, strategy=strategy)\n",
    "    train = est.fit_transform(train_feats)\n",
    "    test = est.transform(test_feats)\n",
    "\n",
    "    return train, test"
   ]
  },
  {
   "cell_type": "markdown",
   "metadata": {},
   "source": [
    "### Selecting features"
   ]
  },
  {
   "cell_type": "code",
   "execution_count": 19,
   "metadata": {},
   "outputs": [
    {
     "name": "stderr",
     "output_type": "stream",
     "text": [
      "/home/ecampillo/.local/lib/python3.6/site-packages/sklearn/preprocessing/_discretization.py:188: UserWarning: Feature 4 is constant and will be replaced with 0.\n",
      "  \"replaced with 0.\" % jj)\n"
     ]
    }
   ],
   "source": [
    "train_feats_save, test_feats_save = select_features(normalize=normalize, discretize=discretize, \n",
    "                                                   exclude_feats=exclude_feats, discretize_size=discretize_size)"
   ]
  },
  {
   "cell_type": "markdown",
   "metadata": {},
   "source": [
    "### 3. Saving selected features"
   ]
  },
  {
   "cell_type": "code",
   "execution_count": 20,
   "metadata": {},
   "outputs": [],
   "source": [
    "save_pickle(pickle_path, \"feats_train.pkl\", train_feats_save)\n",
    "save_pickle(pickle_path, \"feats_test.pkl\", test_feats_save)"
   ]
  },
  {
   "cell_type": "code",
   "execution_count": null,
   "metadata": {},
   "outputs": [],
   "source": []
  }
 ],
 "metadata": {
  "kernelspec": {
   "display_name": "Python 3",
   "language": "python",
   "name": "python3"
  },
  "language_info": {
   "codemirror_mode": {
    "name": "ipython",
    "version": 3
   },
   "file_extension": ".py",
   "mimetype": "text/x-python",
   "name": "python",
   "nbconvert_exporter": "python",
   "pygments_lexer": "ipython3",
   "version": "3.6.8"
  }
 },
 "nbformat": 4,
 "nbformat_minor": 5
}
